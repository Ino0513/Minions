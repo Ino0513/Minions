{
 "cells": [
  {
   "cell_type": "code",
   "execution_count": 1,
   "metadata": {},
   "outputs": [],
   "source": [
    "import cv2\n",
    "import glob\n",
    "import os\n",
    "import matplotlib.pyplot as plt\n",
    "import pandas as pd\n",
    "import numpy as np\n",
    "import pandas as pd"
   ]
  },
  {
   "cell_type": "code",
   "execution_count": 2,
   "metadata": {},
   "outputs": [],
   "source": [
    "import method_dataframe\n",
    "import method_graph\n",
    "import method_draw\n",
    "import method_analysys"
   ]
  },
  {
   "cell_type": "code",
   "execution_count": 3,
   "metadata": {},
   "outputs": [],
   "source": [
    "# global\n",
    "cls_dict = {0: 'per',\n",
    "            1: 'car',\n",
    "            2: 'bus',\n",
    "            3: 'tru',\n",
    "            4: 'cyc',\n",
    "            5: 'mot'}"
   ]
  },
  {
   "cell_type": "code",
   "execution_count": null,
   "metadata": {},
   "outputs": [],
   "source": []
  },
  {
   "cell_type": "code",
   "execution_count": null,
   "metadata": {},
   "outputs": [
    {
     "name": "stdout",
     "output_type": "stream",
     "text": [
      "['1.1_v5n_vs_v8n\\\\v5n_c2f_tv', '1.1_v5n_vs_v8n\\\\v5n_k3_tv', '1.1_v5n_vs_v8n\\\\v5n_org_tv', '1.1_v5n_vs_v8n\\\\v8n_c3_tv', '1.1_v5n_vs_v8n\\\\v8n_k6_tv', '1.1_v5n_vs_v8n\\\\v8n_org_tv']\n"
     ]
    },
    {
     "ename": "AttributeError",
     "evalue": "'list' object has no attribute 'split'",
     "output_type": "error",
     "traceback": [
      "\u001b[1;31m---------------------------------------------------------------------------\u001b[0m",
      "\u001b[1;31mAttributeError\u001b[0m                            Traceback (most recent call last)",
      "Cell \u001b[1;32mIn[9], line 7\u001b[0m\n\u001b[0;32m      3\u001b[0m csv_list \u001b[38;5;241m=\u001b[39m [(\u001b[38;5;124m'\u001b[39m\u001b[38;5;124m1.1_v5n_vs_v8n\u001b[39m\u001b[38;5;130;01m\\\\\u001b[39;00m\u001b[38;5;124m'\u001b[39m \u001b[38;5;241m+\u001b[39m item[:\u001b[38;5;241m-\u001b[39m\u001b[38;5;241m4\u001b[39m]) \u001b[38;5;28;01mfor\u001b[39;00m item \u001b[38;5;129;01min\u001b[39;00m name_list]\n\u001b[0;32m      5\u001b[0m \u001b[38;5;28mprint\u001b[39m(csv_list)\n\u001b[1;32m----> 7\u001b[0m x, y0 \u001b[38;5;241m=\u001b[39m method_analysys\u001b[38;5;241m.\u001b[39mmake_Detect_Acc_by_class(\u001b[43mcsv_list\u001b[49m\u001b[38;5;241;43m.\u001b[39;49m\u001b[43msplit\u001b[49m(\u001b[38;5;124m'\u001b[39m\u001b[38;5;130;01m\\\\\u001b[39;00m\u001b[38;5;124m'\u001b[39m)[\u001b[38;5;241m0\u001b[39m], csv_list\u001b[38;5;241m.\u001b[39msplit(\u001b[38;5;124m'\u001b[39m\u001b[38;5;130;01m\\\\\u001b[39;00m\u001b[38;5;124m'\u001b[39m)[\u001b[38;5;241m1\u001b[39m], show\u001b[38;5;241m=\u001b[39m \u001b[38;5;28;01mFalse\u001b[39;00m)\n\u001b[0;32m      8\u001b[0m x, y1 \u001b[38;5;241m=\u001b[39m method_analysys\u001b[38;5;241m.\u001b[39mmake_Detect_Acc_by_class(csv_list\u001b[38;5;241m.\u001b[39msplit(\u001b[38;5;124m'\u001b[39m\u001b[38;5;130;01m\\\\\u001b[39;00m\u001b[38;5;124m'\u001b[39m)[\u001b[38;5;241m0\u001b[39m], csv_list\u001b[38;5;241m.\u001b[39msplit(\u001b[38;5;124m'\u001b[39m\u001b[38;5;130;01m\\\\\u001b[39;00m\u001b[38;5;124m'\u001b[39m)[\u001b[38;5;241m1\u001b[39m], show\u001b[38;5;241m=\u001b[39m \u001b[38;5;28;01mFalse\u001b[39;00m)\n\u001b[0;32m      9\u001b[0m x, y2 \u001b[38;5;241m=\u001b[39m method_analysys\u001b[38;5;241m.\u001b[39mmake_Detect_Acc_by_class(csv_list\u001b[38;5;241m.\u001b[39msplit(\u001b[38;5;124m'\u001b[39m\u001b[38;5;130;01m\\\\\u001b[39;00m\u001b[38;5;124m'\u001b[39m)[\u001b[38;5;241m0\u001b[39m], csv_list\u001b[38;5;241m.\u001b[39msplit(\u001b[38;5;124m'\u001b[39m\u001b[38;5;130;01m\\\\\u001b[39;00m\u001b[38;5;124m'\u001b[39m)[\u001b[38;5;241m1\u001b[39m], show\u001b[38;5;241m=\u001b[39m \u001b[38;5;28;01mFalse\u001b[39;00m)\n",
      "\u001b[1;31mAttributeError\u001b[0m: 'list' object has no attribute 'split'"
     ]
    }
   ],
   "source": [
    "path = '..\\\\..\\\\result\\\\data_result\\\\1.1_v5n_vs_v8n\\\\'\n",
    "name_list = os.listdir(path)\n",
    "cat = '1.1_v5n_vs_v8n'\n",
    "csv_list = [('1.1_v5n_vs_v8n\\\\' + item[:-4]) for item in name_list]\n",
    "\n",
    "print(csv_list)\n",
    "\n",
    "x, y0 = method_analysys.make_Detect_Acc_by_class(cat, csv_list.split('\\\\')[1], show= False)\n",
    "x, y1 = method_analysys.make_Detect_Acc_by_class(cat, csv_list.split('\\\\')[1], show= False)\n",
    "x, y2 = method_analysys.make_Detect_Acc_by_class(cat, csv_list.split('\\\\')[1], show= False)"
   ]
  }
 ],
 "metadata": {
  "kernelspec": {
   "display_name": "DL",
   "language": "python",
   "name": "python3"
  },
  "language_info": {
   "codemirror_mode": {
    "name": "ipython",
    "version": 3
   },
   "file_extension": ".py",
   "mimetype": "text/x-python",
   "name": "python",
   "nbconvert_exporter": "python",
   "pygments_lexer": "ipython3",
   "version": "3.10.13"
  }
 },
 "nbformat": 4,
 "nbformat_minor": 2
}
