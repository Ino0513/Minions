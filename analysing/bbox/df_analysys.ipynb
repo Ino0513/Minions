{
 "cells": [
  {
   "cell_type": "code",
   "execution_count": 1,
   "metadata": {},
   "outputs": [],
   "source": [
    "import cv2\n",
    "import glob\n",
    "import os\n",
    "import matplotlib.pyplot as plt\n",
    "import pandas as pd\n",
    "import numpy as np\n",
    "import pandas as pd"
   ]
  },
  {
   "cell_type": "code",
   "execution_count": 2,
   "metadata": {},
   "outputs": [],
   "source": [
    "import method_dataframe\n",
    "import method_graph\n",
    "import method_draw\n",
    "import method_analysys"
   ]
  },
  {
   "cell_type": "code",
   "execution_count": 3,
   "metadata": {},
   "outputs": [],
   "source": [
    "# global\n",
    "cls_dict = {0: 'per',\n",
    "            1: 'car',\n",
    "            2: 'bus',\n",
    "            3: 'tru',\n",
    "            4: 'cyc',\n",
    "            5: 'mot'}"
   ]
  },
  {
   "cell_type": "code",
   "execution_count": 4,
   "metadata": {},
   "outputs": [
    {
     "name": "stdout",
     "output_type": "stream",
     "text": [
      "['v5n_c2f_tv', 'v5n_k3_tv', 'v5n_org_tv', 'v8n_c3_tv', 'v8n_k6_tv', 'v8n_org_tv']\n"
     ]
    }
   ],
   "source": [
    "path = '..\\\\..\\\\result\\\\data_result\\\\1.1_v5n_vs_v8n\\\\'\n",
    "cat = '1.1_v5n_vs_v8n'\n",
    "name_list = os.listdir(path)\n",
    "name_list = [item[:-4] for item in name_list]\n",
    "\n",
    "print(name_list)\n",
    "\n",
    "x, y0 = method_analysys.make_Detect_Acc_by_class(cat, name_list[0], show= False)\n",
    "x, y1 = method_analysys.make_Detect_Acc_by_class(cat, name_list[2], show= False)\n",
    "x, y2 = method_analysys.make_Detect_Acc_by_class(cat, name_list[3], show= False)\n",
    "\n",
    "# method_graph.compare_graph(x, [y0, y1, y2], name_list[:3])"
   ]
  },
  {
   "cell_type": "code",
   "execution_count": 5,
   "metadata": {},
   "outputs": [
    {
     "ename": "TypeError",
     "evalue": "find_acc_by_cls_and_size() got an unexpected keyword argument 'show'",
     "output_type": "error",
     "traceback": [
      "\u001b[1;31m---------------------------------------------------------------------------\u001b[0m",
      "\u001b[1;31mTypeError\u001b[0m                                 Traceback (most recent call last)",
      "Cell \u001b[1;32mIn[5], line 1\u001b[0m\n\u001b[1;32m----> 1\u001b[0m \u001b[43mmethod_analysys\u001b[49m\u001b[38;5;241;43m.\u001b[39;49m\u001b[43mfind_acc_by_cls_and_size\u001b[49m\u001b[43m(\u001b[49m\u001b[43mcat\u001b[49m\u001b[43m,\u001b[49m\u001b[43m \u001b[49m\u001b[43mname_list\u001b[49m\u001b[43m[\u001b[49m\u001b[38;5;241;43m0\u001b[39;49m\u001b[43m]\u001b[49m\u001b[43m,\u001b[49m\u001b[43m \u001b[49m\u001b[43mshow\u001b[49m\u001b[38;5;241;43m=\u001b[39;49m\u001b[43m \u001b[49m\u001b[38;5;28;43;01mTrue\u001b[39;49;00m\u001b[43m)\u001b[49m\n",
      "\u001b[1;31mTypeError\u001b[0m: find_acc_by_cls_and_size() got an unexpected keyword argument 'show'"
     ]
    }
   ],
   "source": [
    "method_analysys.find_acc_by_cls_and_size(cat, name_list[0], show= True)"
   ]
  }
 ],
 "metadata": {
  "kernelspec": {
   "display_name": "DL",
   "language": "python",
   "name": "python3"
  },
  "language_info": {
   "codemirror_mode": {
    "name": "ipython",
    "version": 3
   },
   "file_extension": ".py",
   "mimetype": "text/x-python",
   "name": "python",
   "nbconvert_exporter": "python",
   "pygments_lexer": "ipython3",
   "version": "3.10.13"
  }
 },
 "nbformat": 4,
 "nbformat_minor": 2
}
