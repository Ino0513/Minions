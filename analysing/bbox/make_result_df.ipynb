{
 "cells": [
  {
   "cell_type": "code",
   "execution_count": 3,
   "metadata": {},
   "outputs": [],
   "source": [
    "import method_dataframe"
   ]
  },
  {
   "cell_type": "code",
   "execution_count": 4,
   "metadata": {},
   "outputs": [
    {
     "name": "stdout",
     "output_type": "stream",
     "text": [
      "1.4_P2_Bt v8s_1321_tv\n",
      "..\\..\\result\\data_result\\1.4_P2_Bt\\v8s_1321_tv_0.5.csv is already exist, 스킵!!!\n",
      "1.4_P2_Bt v8s_org_tv\n",
      "..\\..\\result\\data_result\\1.4_P2_Bt\\v8s_org_tv_0.5.csv is already exist, 스킵!!!\n",
      "1.4_P2_Bt v8s_P2_1321_tv\n",
      "..\\..\\result\\data_result\\1.4_P2_Bt\\v8s_P2_1321_tv_0.5.csv is already exist, 스킵!!!\n",
      "1.4_P2_Bt v8s_P2_2221_tv\n",
      "..\\..\\result\\data_result\\1.4_P2_Bt\\v8s_P2_2221_tv_0.5.csv is already exist, 스킵!!!\n",
      "1.4_P2_Bt v8s_P2_3221_tv\n",
      "num of files is same\n",
      "progress is 29.06%\n",
      "progress is 58.11%\n",
      "progress is 87.17%\n",
      "progress is 100.0%\n",
      "1.4_P2_Bt v8s_P2_3321_tv\n",
      "..\\..\\result\\data_result\\1.4_P2_Bt\\v8s_P2_3321_tv_0.5.csv is already exist, 스킵!!!\n",
      "1.4_P2_Bt v8s_P2_4221_tv\n",
      "num of files is same\n",
      "progress is 29.06%\n",
      "progress is 58.11%\n",
      "progress is 87.17%\n",
      "progress is 100.0%\n",
      "1.4_P2_Bt v8s_P2_tv\n",
      "..\\..\\result\\data_result\\1.4_P2_Bt\\v8s_P2_tv_0.5.csv is already exist, 스킵!!!\n"
     ]
    }
   ],
   "source": [
    "method_dataframe.make_csv_by_dir('1.4_P2_Bt', conf= 0.5, re_exp= False)"
   ]
  }
 ],
 "metadata": {
  "kernelspec": {
   "display_name": "DL",
   "language": "python",
   "name": "python3"
  },
  "language_info": {
   "codemirror_mode": {
    "name": "ipython",
    "version": 3
   },
   "file_extension": ".py",
   "mimetype": "text/x-python",
   "name": "python",
   "nbconvert_exporter": "python",
   "pygments_lexer": "ipython3",
   "version": "3.10.13"
  }
 },
 "nbformat": 4,
 "nbformat_minor": 2
}
