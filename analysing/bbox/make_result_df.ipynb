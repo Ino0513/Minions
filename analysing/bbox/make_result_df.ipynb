{
 "cells": [
  {
   "cell_type": "code",
   "execution_count": 1,
   "metadata": {},
   "outputs": [],
   "source": [
    "import method_dataframe"
   ]
  },
  {
   "cell_type": "code",
   "execution_count": null,
   "metadata": {},
   "outputs": [
    {
     "name": "stdout",
     "output_type": "stream",
     "text": [
      "final 2211_gc_c3g_tv\n",
      "num of files is same\n",
      "progress is 29.06%\n",
      "progress is 58.11%\n",
      "progress is 87.17%\n",
      "progress is 100.0%\n",
      "final 2221_gc_c3g_tv\n",
      "num of files is same\n",
      "progress is 29.06%\n"
     ]
    }
   ],
   "source": [
    "method_dataframe.make_csv_by_dir('final', conf= 0.5, re_exp= False)"
   ]
  }
 ],
 "metadata": {
  "kernelspec": {
   "display_name": "DL",
   "language": "python",
   "name": "python3"
  },
  "language_info": {
   "codemirror_mode": {
    "name": "ipython",
    "version": 3
   },
   "file_extension": ".py",
   "mimetype": "text/x-python",
   "name": "python",
   "nbconvert_exporter": "python",
   "pygments_lexer": "ipython3",
   "version": "3.10.13"
  }
 },
 "nbformat": 4,
 "nbformat_minor": 2
}
