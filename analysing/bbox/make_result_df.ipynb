{
 "cells": [
  {
   "cell_type": "code",
   "execution_count": 1,
   "metadata": {},
   "outputs": [],
   "source": [
    "import method_dataframe"
   ]
  },
  {
   "cell_type": "code",
   "execution_count": 2,
   "metadata": {},
   "outputs": [],
   "source": [
    "# sample_true = r'C:\\Users\\Ino\\Desktop\\NextChip\\Minions_git\\data_analysing\\bbox\\sample\\true'\n",
    "# sample_pred = r'C:\\Users\\Ino\\Desktop\\NextChip\\Minions_git\\data_analysing\\bbox\\sample\\pred'\n",
    "\n",
    "# # sample_df\n",
    "# # filtered_line_list가 비었을때는 어떻게 동작하는지 체크\n",
    "\n",
    "# sample_df = method_dataframe.get_meta_df(sample_true, sample_pred, 0.5, 0.3)\n",
    "# display(sample_df.sort_values(['dt_condition']))\n",
    "# sample_df.to_csv(rf'C:\\Users\\Ino\\Desktop\\NextChip\\Minions_git\\data_analysing\\bbox\\sample.csv')"
   ]
  },
  {
   "cell_type": "code",
   "execution_count": 3,
   "metadata": {},
   "outputs": [
    {
     "name": "stdout",
     "output_type": "stream",
     "text": [
      "sample v8s_org_sam\n",
      "..\\..\\result\\teratum_result\\sample\\v8s_org_sam.tar\n",
      "num of files is same\n"
     ]
    },
    {
     "ename": "FileNotFoundError",
     "evalue": "[Errno 2] No such file or directory: '..\\\\..\\\\result\\\\teratum_result\\\\sample\\\\v8s_org_sam/1.txt'",
     "output_type": "error",
     "traceback": [
      "\u001b[1;31m---------------------------------------------------------------------------\u001b[0m",
      "\u001b[1;31mFileNotFoundError\u001b[0m                         Traceback (most recent call last)",
      "Cell \u001b[1;32mIn[3], line 1\u001b[0m\n\u001b[1;32m----> 1\u001b[0m \u001b[43mmethod_dataframe\u001b[49m\u001b[38;5;241;43m.\u001b[39;49m\u001b[43mmake_csv_allll\u001b[49m\u001b[43m(\u001b[49m\u001b[43m)\u001b[49m\n",
      "File \u001b[1;32mc:\\Users\\ihman\\Desktop\\NextChip\\Minions_git\\analysing\\bbox\\method_dataframe.py:347\u001b[0m, in \u001b[0;36mmake_csv_allll\u001b[1;34m(re_exp)\u001b[0m\n\u001b[0;32m    345\u001b[0m     \u001b[38;5;28;01mcontinue\u001b[39;00m\n\u001b[0;32m    346\u001b[0m \u001b[38;5;28;01melse\u001b[39;00m:\n\u001b[1;32m--> 347\u001b[0m     \u001b[43mmake_csv_by_dir\u001b[49m\u001b[43m(\u001b[49m\u001b[43mcategory\u001b[49m\u001b[43m,\u001b[49m\u001b[43m \u001b[49m\u001b[43mre_exp\u001b[49m\u001b[38;5;241;43m=\u001b[39;49m\u001b[43m \u001b[49m\u001b[43mre_exp\u001b[49m\u001b[43m)\u001b[49m\n",
      "File \u001b[1;32mc:\\Users\\ihman\\Desktop\\NextChip\\Minions_git\\analysing\\bbox\\method_dataframe.py:338\u001b[0m, in \u001b[0;36mmake_csv_by_dir\u001b[1;34m(dir_name, re_exp)\u001b[0m\n\u001b[0;32m    336\u001b[0m \u001b[38;5;28;01mif\u001b[39;00m(exp_name[\u001b[38;5;241m-\u001b[39m\u001b[38;5;241m4\u001b[39m:] \u001b[38;5;241m==\u001b[39m \u001b[38;5;124m'\u001b[39m\u001b[38;5;124m.tar\u001b[39m\u001b[38;5;124m'\u001b[39m):\n\u001b[0;32m    337\u001b[0m     \u001b[38;5;28mprint\u001b[39m(dir_name, exp_name[:\u001b[38;5;241m-\u001b[39m\u001b[38;5;241m4\u001b[39m])\n\u001b[1;32m--> 338\u001b[0m     \u001b[43mmake_csv\u001b[49m\u001b[43m(\u001b[49m\u001b[43mdir_name\u001b[49m\u001b[43m,\u001b[49m\u001b[43m \u001b[49m\u001b[43mexp_name\u001b[49m\u001b[43m[\u001b[49m\u001b[43m:\u001b[49m\u001b[38;5;241;43m-\u001b[39;49m\u001b[38;5;241;43m4\u001b[39;49m\u001b[43m]\u001b[49m\u001b[43m,\u001b[49m\u001b[43m \u001b[49m\u001b[43mre_exp\u001b[49m\u001b[38;5;241;43m=\u001b[39;49m\u001b[43m \u001b[49m\u001b[43mre_exp\u001b[49m\u001b[43m)\u001b[49m\n",
      "File \u001b[1;32mc:\\Users\\ihman\\Desktop\\NextChip\\Minions_git\\analysing\\bbox\\method_dataframe.py:327\u001b[0m, in \u001b[0;36mmake_csv\u001b[1;34m(category, exp_name, re_exp)\u001b[0m\n\u001b[0;32m    324\u001b[0m tar\u001b[38;5;241m.\u001b[39mextractall()\n\u001b[0;32m    325\u001b[0m tar\u001b[38;5;241m.\u001b[39mclose()\n\u001b[1;32m--> 327\u001b[0m v8s_org_train \u001b[38;5;241m=\u001b[39m \u001b[43mget_meta_df\u001b[49m\u001b[43m(\u001b[49m\u001b[43mground_true_path\u001b[49m\u001b[43m,\u001b[49m\u001b[43m \u001b[49m\u001b[38;5;124;43mf\u001b[39;49m\u001b[38;5;124;43m'\u001b[39;49m\u001b[38;5;132;43;01m{\u001b[39;49;00m\u001b[43mextract_path\u001b[49m\u001b[38;5;132;43;01m}\u001b[39;49;00m\u001b[38;5;124;43m\\\u001b[39;49m\u001b[38;5;132;43;01m{\u001b[39;49;00m\u001b[43mexp_name\u001b[49m\u001b[38;5;132;43;01m}\u001b[39;49;00m\u001b[38;5;124;43m'\u001b[39;49m\u001b[43m,\u001b[49m\u001b[43m \u001b[49m\u001b[38;5;241;43m0.5\u001b[39;49m\u001b[43m,\u001b[49m\u001b[43m \u001b[49m\u001b[38;5;241;43m0.3\u001b[39;49m\u001b[43m)\u001b[49m\n\u001b[0;32m    328\u001b[0m os\u001b[38;5;241m.\u001b[39mmakedirs(\u001b[38;5;124mrf\u001b[39m\u001b[38;5;124m'\u001b[39m\u001b[38;5;132;01m{\u001b[39;00mdata_result_path\u001b[38;5;132;01m}\u001b[39;00m\u001b[38;5;124m\\\u001b[39m\u001b[38;5;132;01m{\u001b[39;00mcategory\u001b[38;5;132;01m}\u001b[39;00m\u001b[38;5;124m'\u001b[39m, exist_ok\u001b[38;5;241m=\u001b[39m \u001b[38;5;28;01mTrue\u001b[39;00m)\n\u001b[0;32m    329\u001b[0m v8s_org_train\u001b[38;5;241m.\u001b[39mto_csv(dst)\n",
      "File \u001b[1;32mc:\\Users\\ihman\\Desktop\\NextChip\\Minions_git\\analysing\\bbox\\method_dataframe.py:282\u001b[0m, in \u001b[0;36mget_meta_df\u001b[1;34m(true_label_path, pred_label_path, iou_th, conf_th)\u001b[0m\n\u001b[0;32m    280\u001b[0m name_true \u001b[38;5;241m=\u001b[39m true_txt_list[idx]\n\u001b[0;32m    281\u001b[0m name_pred \u001b[38;5;241m=\u001b[39m pred_txt_list[idx]\n\u001b[1;32m--> 282\u001b[0m out_list \u001b[38;5;241m=\u001b[39m \u001b[43mftf_by_true\u001b[49m\u001b[43m(\u001b[49m\u001b[38;5;124;43mf\u001b[39;49m\u001b[38;5;124;43m'\u001b[39;49m\u001b[38;5;132;43;01m{\u001b[39;49;00m\u001b[43mtrue_label_path\u001b[49m\u001b[38;5;132;43;01m}\u001b[39;49;00m\u001b[38;5;124;43m/\u001b[39;49m\u001b[38;5;132;43;01m{\u001b[39;49;00m\u001b[43mname_true\u001b[49m\u001b[38;5;132;43;01m}\u001b[39;49;00m\u001b[38;5;124;43m'\u001b[39;49m\u001b[43m,\u001b[49m\u001b[43m \u001b[49m\u001b[38;5;124;43mf\u001b[39;49m\u001b[38;5;124;43m'\u001b[39;49m\u001b[38;5;132;43;01m{\u001b[39;49;00m\u001b[43mpred_label_path\u001b[49m\u001b[38;5;132;43;01m}\u001b[39;49;00m\u001b[38;5;124;43m/\u001b[39;49m\u001b[38;5;132;43;01m{\u001b[39;49;00m\u001b[43mname_pred\u001b[49m\u001b[38;5;132;43;01m}\u001b[39;49;00m\u001b[38;5;124;43m'\u001b[39;49m\u001b[43m,\u001b[49m\u001b[43m \u001b[49m\u001b[43miou_th\u001b[49m\u001b[43m,\u001b[49m\u001b[43m \u001b[49m\u001b[43mconf_th\u001b[49m\u001b[43m)\u001b[49m\n\u001b[0;32m    283\u001b[0m \u001b[38;5;66;03m#print(f'out_list num of {name} is', len(out_list))\u001b[39;00m\n\u001b[0;32m    284\u001b[0m \u001b[38;5;66;03m#print(out_list)\u001b[39;00m\n\u001b[0;32m    285\u001b[0m \u001b[38;5;66;03m#return\u001b[39;00m\n\u001b[0;32m    286\u001b[0m \u001b[38;5;28;01mfor\u001b[39;00m out \u001b[38;5;129;01min\u001b[39;00m out_list:\n",
      "File \u001b[1;32mc:\\Users\\ihman\\Desktop\\NextChip\\Minions_git\\analysing\\bbox\\method_dataframe.py:118\u001b[0m, in \u001b[0;36mftf_by_true\u001b[1;34m(true_file_path, pred_file_path, iou_th, conf_th)\u001b[0m\n\u001b[0;32m    116\u001b[0m compare_list \u001b[38;5;241m=\u001b[39m []\n\u001b[0;32m    117\u001b[0m \u001b[38;5;66;03m# line_pred는 pred.txt 파일의 객체 하나\u001b[39;00m\n\u001b[1;32m--> 118\u001b[0m \u001b[38;5;28;01mfor\u001b[39;00m line_pred \u001b[38;5;129;01min\u001b[39;00m \u001b[43mget_info_from_txt\u001b[49m\u001b[43m(\u001b[49m\u001b[43mpred_file_path\u001b[49m\u001b[43m)\u001b[49m:\n\u001b[0;32m    119\u001b[0m     \u001b[38;5;66;03m# 조건 만족하는 line 수집\u001b[39;00m\n\u001b[0;32m    120\u001b[0m     compare_list\u001b[38;5;241m.\u001b[39mappend(compare_line_to_line(line_true, line_pred, iou_th))\n\u001b[0;32m    122\u001b[0m check_list \u001b[38;5;241m=\u001b[39m []\n",
      "File \u001b[1;32mc:\\Users\\ihman\\Desktop\\NextChip\\Minions_git\\analysing\\bbox\\method_dataframe.py:19\u001b[0m, in \u001b[0;36mget_info_from_txt\u001b[1;34m(file_path)\u001b[0m\n\u001b[0;32m     18\u001b[0m \u001b[38;5;28;01mdef\u001b[39;00m \u001b[38;5;21mget_info_from_txt\u001b[39m(file_path):\n\u001b[1;32m---> 19\u001b[0m     \u001b[38;5;28;01mwith\u001b[39;00m \u001b[38;5;28;43mopen\u001b[39;49m\u001b[43m(\u001b[49m\u001b[43mfile_path\u001b[49m\u001b[43m,\u001b[49m\u001b[43m \u001b[49m\u001b[38;5;124;43m'\u001b[39;49m\u001b[38;5;124;43mr\u001b[39;49m\u001b[38;5;124;43m'\u001b[39;49m\u001b[43m)\u001b[49m \u001b[38;5;28;01mas\u001b[39;00m f:\n\u001b[0;32m     20\u001b[0m         line_list \u001b[38;5;241m=\u001b[39m []\n\u001b[0;32m     21\u001b[0m         \u001b[38;5;28;01mfor\u001b[39;00m line \u001b[38;5;129;01min\u001b[39;00m f:\n",
      "\u001b[1;31mFileNotFoundError\u001b[0m: [Errno 2] No such file or directory: '..\\\\..\\\\result\\\\teratum_result\\\\sample\\\\v8s_org_sam/1.txt'"
     ]
    }
   ],
   "source": [
    "method_dataframe.make_csv_allll()"
   ]
  },
  {
   "cell_type": "code",
   "execution_count": null,
   "metadata": {},
   "outputs": [],
   "source": [
    "import tarfile\n",
    "import os\n",
    "\n",
    "# tar 파일들이 있는 디렉터리 경로\n",
    "tar_files_dir = r'..\\..\\result\\teratum_result\\sample'\n",
    "\n",
    "# 압축 해제할 특정 tar 파일 이름\n",
    "target_tar_file = 'v8s_org_sam.tar'\n",
    "\n",
    "# 압축 해제할 경로\n",
    "extract_to_path = './extracted_files'\n",
    "\n",
    "# 디렉터리에서 특정 tar 파일 찾기\n",
    "target_tar_path = os.path.join(tar_files_dir, target_tar_file)\n",
    "\n",
    "# tar 파일 압축 해제\n",
    "try:\n",
    "    if os.path.exists(target_tar_path):\n",
    "        with tarfile.open(target_tar_path, 'r') as tar:\n",
    "            # 압축 해제\n",
    "            tar.extractall(path=extract_to_path)\n",
    "            print(f\"'{target_tar_file}'가 '{extract_to_path}'에 성공적으로 압축 해제되었습니다.\")\n",
    "    else:\n",
    "        print(f\"'{target_tar_file}' 파일이 '{tar_files_dir}'에 존재하지 않습니다.\")\n",
    "except tarfile.TarError as e:\n",
    "    print(f\"tar 파일 처리 중 오류 발생: {e}\")\n",
    "except Exception as e:\n",
    "    print(f\"오류 발생: {e}\")"
   ]
  }
 ],
 "metadata": {
  "kernelspec": {
   "display_name": "DL",
   "language": "python",
   "name": "python3"
  },
  "language_info": {
   "codemirror_mode": {
    "name": "ipython",
    "version": 3
   },
   "file_extension": ".py",
   "mimetype": "text/x-python",
   "name": "python",
   "nbconvert_exporter": "python",
   "pygments_lexer": "ipython3",
   "version": "3.10.13"
  }
 },
 "nbformat": 4,
 "nbformat_minor": 2
}
