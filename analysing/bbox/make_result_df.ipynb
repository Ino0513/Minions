{
 "cells": [
  {
   "cell_type": "code",
   "execution_count": 1,
   "metadata": {},
   "outputs": [],
   "source": [
    "import method_dataframe"
   ]
  },
  {
   "cell_type": "code",
   "execution_count": null,
   "metadata": {},
   "outputs": [
    {
     "name": "stdout",
     "output_type": "stream",
     "text": [
      "1.1_v5n_vs_v8n v5n_c2f_tv\n",
      "..\\..\\result\\data_result\\1.1_v5n_vs_v8n\\v5n_c2f_tv_0.5.csv is already exist, 스킵!!!\n",
      "1.1_v5n_vs_v8n v5n_k3_tv\n",
      "..\\..\\result\\data_result\\1.1_v5n_vs_v8n\\v5n_k3_tv_0.5.csv is already exist, 스킵!!!\n",
      "1.1_v5n_vs_v8n v5n_org_tv\n",
      "..\\..\\result\\data_result\\1.1_v5n_vs_v8n\\v5n_org_tv_0.5.csv is already exist, 스킵!!!\n",
      "1.1_v5n_vs_v8n v8n_c3_tv\n",
      "..\\..\\result\\data_result\\1.1_v5n_vs_v8n\\v8n_c3_tv_0.5.csv is already exist, 스킵!!!\n",
      "1.1_v5n_vs_v8n v8n_k6_tv\n",
      "..\\..\\result\\data_result\\1.1_v5n_vs_v8n\\v8n_k6_tv_0.5.csv is already exist, 스킵!!!\n",
      "1.1_v5n_vs_v8n v8n_org_tv\n",
      "..\\..\\result\\data_result\\1.1_v5n_vs_v8n\\v8n_org_tv_0.5.csv is already exist, 스킵!!!\n",
      "1.2_P2 v8n_org_t\n",
      "..\\..\\result\\data_result\\1.2_P2\\v8n_org_t_0.5.csv is already exist, 스킵!!!\n",
      "1.2_P2 v8n_P2_t\n",
      "..\\..\\result\\data_result\\1.2_P2\\v8n_P2_t_0.5.csv is already exist, 스킵!!!\n",
      "1.2_P2 v8s_org_t\n",
      "..\\..\\result\\data_result\\1.2_P2\\v8s_org_t_0.5.csv is already exist, 스킵!!!\n",
      "1.2_P2 v8s_P2_t\n",
      "..\\..\\result\\data_result\\1.2_P2\\v8s_P2_t_0.5.csv is already exist, 스킵!!!\n",
      "1.3_Bt v5n_1111_ta\n",
      "..\\..\\result\\data_result\\1.3_Bt\\v5n_1111_ta_0.5.csv is already exist, 스킵!!!\n",
      "1.3_Bt v5n_1221_ta\n",
      "..\\..\\result\\data_result\\1.3_Bt\\v5n_1221_ta_0.5.csv is already exist, 스킵!!!\n",
      "1.3_Bt v5n_2222_ta\n",
      "..\\..\\result\\data_result\\1.3_Bt\\v5n_2222_ta_0.5.csv is already exist, 스킵!!!\n",
      "1.3_Bt v5n_2332_ta\n",
      "..\\..\\result\\data_result\\1.3_Bt\\v5n_2332_ta_0.5.csv is already exist, 스킵!!!\n",
      "1.3_Bt v8n_1111_ta\n",
      "..\\..\\result\\data_result\\1.3_Bt\\v8n_1111_ta_0.5.csv is already exist, 스킵!!!\n",
      "1.3_Bt v8n_1221_ta\n",
      "..\\..\\result\\data_result\\1.3_Bt\\v8n_1221_ta_0.5.csv is already exist, 스킵!!!\n",
      "1.3_Bt v8n_2222_ta\n",
      "..\\..\\result\\data_result\\1.3_Bt\\v8n_2222_ta_0.5.csv is already exist, 스킵!!!\n",
      "1.3_Bt v8n_2332_ta\n",
      "..\\..\\result\\data_result\\1.3_Bt\\v8n_2332_ta_0.5.csv is already exist, 스킵!!!\n",
      "1.4_P2_Bt v8s_1321_tv\n",
      "..\\..\\result\\data_result\\1.4_P2_Bt\\v8s_1321_tv_0.5.csv is already exist, 스킵!!!\n",
      "1.4_P2_Bt v8s_org_tv\n",
      "..\\..\\result\\data_result\\1.4_P2_Bt\\v8s_org_tv_0.5.csv is already exist, 스킵!!!\n",
      "1.4_P2_Bt v8s_P2_1321_tv\n",
      "..\\..\\result\\data_result\\1.4_P2_Bt\\v8s_P2_1321_tv_0.5.csv is already exist, 스킵!!!\n",
      "1.4_P2_Bt v8s_P2_2221_tv\n",
      "num of files is same\n",
      "progress is 29.06%\n",
      "progress is 58.11%\n",
      "progress is 87.17%\n",
      "progress is 100.0%\n",
      "1.4_P2_Bt v8s_P2_3221_tv\n",
      "num of files is same\n",
      "progress is 29.06%\n",
      "progress is 58.11%\n"
     ]
    }
   ],
   "source": [
    "method_dataframe.make_csv_allll(conf= 0.5, re_exp= False)"
   ]
  }
 ],
 "metadata": {
  "kernelspec": {
   "display_name": "DL",
   "language": "python",
   "name": "python3"
  },
  "language_info": {
   "codemirror_mode": {
    "name": "ipython",
    "version": 3
   },
   "file_extension": ".py",
   "mimetype": "text/x-python",
   "name": "python",
   "nbconvert_exporter": "python",
   "pygments_lexer": "ipython3",
   "version": "3.10.13"
  }
 },
 "nbformat": 4,
 "nbformat_minor": 2
}
