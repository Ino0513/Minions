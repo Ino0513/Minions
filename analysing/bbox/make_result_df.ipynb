{
 "cells": [
  {
   "cell_type": "code",
   "execution_count": 7,
   "metadata": {},
   "outputs": [],
   "source": [
    "import method_dataframe"
   ]
  },
  {
   "cell_type": "code",
   "execution_count": 8,
   "metadata": {},
   "outputs": [
    {
     "name": "stdout",
     "output_type": "stream",
     "text": [
      "sample v5n_org_BC\n",
      "num of files is same\n",
      "progress is 14.53%\n",
      "progress is 29.06%\n",
      "progress is 43.59%\n",
      "progress is 58.11%\n",
      "progress is 72.64%\n",
      "progress is 87.17%\n",
      "progress is 100.0%\n",
      "sample v8s_ghost_c3ghost_100ep_2\n",
      "num of files is same\n",
      "progress is 14.53%\n",
      "progress is 29.06%\n",
      "progress is 43.59%\n",
      "progress is 58.11%\n",
      "progress is 72.64%\n",
      "progress is 87.17%\n",
      "progress is 100.0%\n",
      "sample v8s_org_100ep_2\n",
      "num of files is same\n",
      "progress is 14.53%\n",
      "progress is 29.06%\n",
      "progress is 43.59%\n",
      "progress is 58.11%\n",
      "progress is 72.64%\n",
      "progress is 87.17%\n",
      "progress is 100.0%\n"
     ]
    }
   ],
   "source": [
    "method_dataframe.make_csv_allll()"
   ]
  }
 ],
 "metadata": {
  "kernelspec": {
   "display_name": "DL",
   "language": "python",
   "name": "python3"
  },
  "language_info": {
   "codemirror_mode": {
    "name": "ipython",
    "version": 3
   },
   "file_extension": ".py",
   "mimetype": "text/x-python",
   "name": "python",
   "nbconvert_exporter": "python",
   "pygments_lexer": "ipython3",
   "version": "3.10.13"
  }
 },
 "nbformat": 4,
 "nbformat_minor": 2
}
