{
 "cells": [
  {
   "cell_type": "code",
   "execution_count": null,
   "metadata": {},
   "outputs": [],
   "source": [
    "import method_dataframe"
   ]
  },
  {
   "cell_type": "code",
   "execution_count": null,
   "metadata": {},
   "outputs": [],
   "source": [
    "# method_dataframe.make_csv_by_dir('final', conf= 0.5, re_exp= False)"
   ]
  },
  {
   "cell_type": "code",
   "execution_count": null,
   "metadata": {},
   "outputs": [],
   "source": [
    "conf = 0.25\n",
    "\n",
    "method_dataframe.make_csv('1.4_P2_Bt', 'v8s_org_tv', conf= conf)\n",
    "method_dataframe.make_csv('1.4_P2_Bt', 'v8s_P2_tv', conf= conf)\n",
    "method_dataframe.make_csv('1.4_P2_Bt', 'v8s_P2_2221_tv', conf= conf)\n",
    "method_dataframe.make_csv('final', 'v8s_P2_2221_gc-c3g_tv', conf= conf)\n",
    "method_dataframe.make_csv('final', 'v8s_P2_2211_gc-c3g_tv', conf= conf)"
   ]
  }
 ],
 "metadata": {
  "kernelspec": {
   "display_name": "DL",
   "language": "python",
   "name": "python3"
  },
  "language_info": {
   "codemirror_mode": {
    "name": "ipython",
    "version": 3
   },
   "file_extension": ".py",
   "mimetype": "text/x-python",
   "name": "python",
   "nbconvert_exporter": "python",
   "pygments_lexer": "ipython3",
   "version": "3.10.13"
  }
 },
 "nbformat": 4,
 "nbformat_minor": 2
}
