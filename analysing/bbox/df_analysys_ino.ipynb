{
 "cells": [
  {
   "cell_type": "code",
   "execution_count": 17,
   "metadata": {},
   "outputs": [],
   "source": [
    "import cv2\n",
    "import glob\n",
    "import os\n",
    "import matplotlib.pyplot as plt\n",
    "import pandas as pd\n",
    "import numpy as np\n",
    "import pandas as pd"
   ]
  },
  {
   "cell_type": "code",
   "execution_count": 18,
   "metadata": {},
   "outputs": [],
   "source": [
    "import method_dataframe\n",
    "import method_graph\n",
    "import method_draw\n",
    "import method_analysys"
   ]
  },
  {
   "cell_type": "code",
   "execution_count": 19,
   "metadata": {},
   "outputs": [],
   "source": [
    "csv_list = [\n",
    "            # '1.1_v5n_vs_v8n/v5n_c2f_tv',\n",
    "            # '1.1_v5n_vs_v8n/v5n_org_tv',\n",
    "            # '1.1_v5n_vs_v8n/v5n_k3_tv',\n",
    "            # '1.1_v5n_vs_v8n/v8n_k6_tv',\n",
    "            # '1.1_v5n_vs_v8n/v8n_org_tv',\n",
    "            # '1.1_v5n_vs_v8n/v8n_c3_tv',\n",
    "            ]\n",
    "\n",
    "# method_graph.acc_graph_by_csv_list(csv_list)\n",
    "# method_graph.size_acc_graph_by_csv_list(csv_list, obj_num= 3)"
   ]
  },
  {
   "cell_type": "code",
   "execution_count": null,
   "metadata": {},
   "outputs": [],
   "source": []
  }
 ],
 "metadata": {
  "kernelspec": {
   "display_name": "DL",
   "language": "python",
   "name": "python3"
  },
  "language_info": {
   "codemirror_mode": {
    "name": "ipython",
    "version": 3
   },
   "file_extension": ".py",
   "mimetype": "text/x-python",
   "name": "python",
   "nbconvert_exporter": "python",
   "pygments_lexer": "ipython3",
   "version": "3.10.13"
  }
 },
 "nbformat": 4,
 "nbformat_minor": 2
}
