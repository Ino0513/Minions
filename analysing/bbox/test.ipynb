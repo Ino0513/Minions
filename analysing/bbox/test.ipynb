{
 "cells": [
  {
   "cell_type": "code",
   "execution_count": 1,
   "metadata": {},
   "outputs": [],
   "source": [
    "import os\n",
    "import method_dataframe\n",
    "import method_draw\n",
    "import method_graph"
   ]
  },
  {
   "cell_type": "code",
   "execution_count": 2,
   "metadata": {},
   "outputs": [
    {
     "name": "stdout",
     "output_type": "stream",
     "text": [
      "C:\\Users\\Ino\\Desktop\\NextChip\\evaluator\n",
      "{'metrics/precision(B)': 0.8775566027471102, 'metrics/recall(B)': 0.25791581336125063, 'metrics/mAP50(B)': 0.31609393460166785, 'metrics/mAP50-95(B)': 0.1946431347198115, 'fitness': 0.20678821470799713}\n",
      "metrics/precision(B) | metrics/recall(B)   | metrics/mAP50(B)    | metrics/mAP50-95(B) | fitness            \n",
      "-------------------- | ------------------- | ------------------- | ------------------- | -------------------\n",
      "0.8775566027471102   | 0.25791581336125063 | 0.31609393460166785 | 0.1946431347198115  | 0.20678821470799713\n",
      "{'metrics/precision(B)': 0.8782609078211766, 'metrics/recall(B)': 0.2581698929389422, 'metrics/mAP50(B)': 0.3163900979485967, 'metrics/mAP50-95(B)': 0.19459656639315318, 'fitness': 0.20677591954869753}\n",
      "metrics/precision(B) | metrics/recall(B)  | metrics/mAP50(B)   | metrics/mAP50-95(B) | fitness            \n",
      "-------------------- | ------------------ | ------------------ | ------------------- | -------------------\n",
      "0.8782609078211766   | 0.2581698929389422 | 0.3163900979485967 | 0.19459656639315318 | 0.20677591954869753\n",
      "{'metrics/precision(B)': 0.8782609078211766, 'metrics/recall(B)': 0.2581698929389422, 'metrics/mAP50(B)': 0.3163900979485967, 'metrics/mAP50-95(B)': 0.19459656639315318, 'fitness': 0.20677591954869753}\n",
      "metrics/precision(B) | metrics/recall(B)  | metrics/mAP50(B)   | metrics/mAP50-95(B) | fitness            \n",
      "-------------------- | ------------------ | ------------------ | ------------------- | -------------------\n",
      "0.8782609078211766   | 0.2581698929389422 | 0.3163900979485967 | 0.19459656639315318 | 0.20677591954869753\n",
      "{'metrics/precision(B)': 0.9181041304691263, 'metrics/recall(B)': 0.19509229195102165, 'metrics/mAP50(B)': 0.2891370793682615, 'metrics/mAP50-95(B)': 0.18604589854225415, 'fitness': 0.19635501662485488}\n",
      "metrics/precision(B) | metrics/recall(B)   | metrics/mAP50(B)   | metrics/mAP50-95(B) | fitness            \n",
      "-------------------- | ------------------- | ------------------ | ------------------- | -------------------\n",
      "0.9181041304691263   | 0.19509229195102165 | 0.2891370793682615 | 0.18604589854225415 | 0.19635501662485488\n",
      "{'metrics/precision(B)': 0.9181041304691263, 'metrics/recall(B)': 0.19509229195102165, 'metrics/mAP50(B)': 0.2891370793682615, 'metrics/mAP50-95(B)': 0.18604589854225415, 'fitness': 0.19635501662485488}\n",
      "metrics/precision(B) | metrics/recall(B)   | metrics/mAP50(B)   | metrics/mAP50-95(B) | fitness            \n",
      "-------------------- | ------------------- | ------------------ | ------------------- | -------------------\n",
      "0.9181041304691263   | 0.19509229195102165 | 0.2891370793682615 | 0.18604589854225415 | 0.19635501662485488\n",
      "{'metrics/precision(B)': 0.9181041304691263, 'metrics/recall(B)': 0.19509229195102165, 'metrics/mAP50(B)': 0.2891370793682615, 'metrics/mAP50-95(B)': 0.18604589854225415, 'fitness': 0.19635501662485488}\n",
      "metrics/precision(B) | metrics/recall(B)   | metrics/mAP50(B)   | metrics/mAP50-95(B) | fitness            \n",
      "-------------------- | ------------------- | ------------------ | ------------------- | -------------------\n",
      "0.9181041304691263   | 0.19509229195102165 | 0.2891370793682615 | 0.18604589854225415 | 0.19635501662485488\n",
      "{'metrics/precision(B)': 0.8782609078211766, 'metrics/recall(B)': 0.2581698929389422, 'metrics/mAP50(B)': 0.3163900979485967, 'metrics/mAP50-95(B)': 0.19459656639315318, 'fitness': 0.20677591954869753}\n",
      "metrics/precision(B) | metrics/recall(B)  | metrics/mAP50(B)   | metrics/mAP50-95(B) | fitness            \n",
      "-------------------- | ------------------ | ------------------ | ------------------- | -------------------\n",
      "0.8782609078211766   | 0.2581698929389422 | 0.3163900979485967 | 0.19459656639315318 | 0.20677591954869753\n"
     ]
    }
   ],
   "source": [
    "%cd C:\\Users\\Ino\\Desktop\\NextChip\\evaluator\n",
    "\n",
    "# !python evaluate.py --pred v5n_org_100b\n",
    "# !python evaluate.py --pred v8n_org_100b\n",
    "# !python evaluate.py --pred v8n_ghost_100best\n",
    "# !python evaluate.py --pred v8n_ghostp2_100best\n",
    "# !python evaluate.py --pred v8n_ghostp6_100best\n",
    "# !python evaluate.py --pred v5n_add\n",
    "# !python evaluate.py --pred v8n_add\n",
    "# !python evaluate.py --pred v5n_add_new\n",
    "# !python evaluate.py --pred v8s_ghost_c3ghost_100ep\n",
    "\n",
    "# !python evaluate.py --pred v8s_ghost_c3ghost_100ep_2\n",
    "# !python evaluate.py --pred v8s_org_100ep_2\n",
    "\n",
    "# 양자화\n",
    "!python evaluate.py --pred v5n_org_100b\n",
    "!python evaluate.py --pred v5n_org_AC_kb\n",
    "!python evaluate.py --pred v5n_org_AC_mse\n",
    "!python evaluate.py --pred v5n_org_ALL_kb\n",
    "!python evaluate.py --pred v5n_org_ALL_mse\n",
    "!python evaluate.py --pred v5n_org_BC\n",
    "!python evaluate.py --pred v5n_org_CLE"
   ]
  }
 ],
 "metadata": {
  "kernelspec": {
   "display_name": "yolov8",
   "language": "python",
   "name": "python3"
  },
  "language_info": {
   "codemirror_mode": {
    "name": "ipython",
    "version": 3
   },
   "file_extension": ".py",
   "mimetype": "text/x-python",
   "name": "python",
   "nbconvert_exporter": "python",
   "pygments_lexer": "ipython3",
   "version": "3.12.7"
  }
 },
 "nbformat": 4,
 "nbformat_minor": 2
}
