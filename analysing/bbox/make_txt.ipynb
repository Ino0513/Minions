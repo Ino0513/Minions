{
 "cells": [
  {
   "cell_type": "code",
   "execution_count": 55,
   "metadata": {},
   "outputs": [],
   "source": [
    "import os\n",
    "import glob"
   ]
  },
  {
   "cell_type": "code",
   "execution_count": 56,
   "metadata": {},
   "outputs": [],
   "source": [
    "def make_data_path(img_data_path_list):\n",
    "    total_jpg_list = []\n",
    "    for img_data_path in img_data_path_list:\n",
    "        jpg_list = glob.glob(rf'{img_data_path}' + '\\*.jpg')\n",
    "        print(jpg_list[0])\n",
    "    \n",
    "        jpg_list = [name.replace(r'C:\\Users\\Ino\\Desktop\\NextChip\\dataset', '') for name in jpg_list]\n",
    "        jpg_list = [name.replace('\\\\', '/') for name in jpg_list]\n",
    "        jpg_list = ['.' + name for name in jpg_list]\n",
    "        print(jpg_list[0])\n",
    "\n",
    "        #txt_list = [name.replace('images', 'labels') for name in jpg_list]\n",
    "        #print(txt_list[0])\n",
    "\n",
    "        total_jpg_list.extend(jpg_list)\n",
    "\n",
    "        # with open(rf'C:\\Users\\Ino\\Desktop\\NextChip\\dataset\\{class_name}.txt', 'w') as f:\n",
    "    with open(rf'C:\\Users\\Ino\\Desktop\\NextChip\\dataset\\add.txt', 'w') as f:\n",
    "        for path in total_jpg_list:\n",
    "            f.write(path + '\\n')"
   ]
  },
  {
   "cell_type": "code",
   "execution_count": 57,
   "metadata": {},
   "outputs": [
    {
     "name": "stdout",
     "output_type": "stream",
     "text": [
      "C:\\Users\\Ino\\Desktop\\NextChip\\dataset\\images\\add\\bus_truck\\1.jpg\n",
      "./images/add/bus_truck/1.jpg\n",
      "C:\\Users\\Ino\\Desktop\\NextChip\\dataset\\images\\add\\cyc\\1.jpg\n",
      "./images/add/cyc/1.jpg\n",
      "C:\\Users\\Ino\\Desktop\\NextChip\\dataset\\images\\add\\mot\\1.jpg\n",
      "./images/add/mot/1.jpg\n",
      "C:\\Users\\Ino\\Desktop\\NextChip\\dataset\\images\\train\\0.jpg\n",
      "./images/train/0.jpg\n"
     ]
    }
   ],
   "source": [
    "data_path_list = [r'C:\\Users\\Ino\\Desktop\\NextChip\\dataset\\images\\add\\bus_truck',\n",
    "                  r'C:\\Users\\Ino\\Desktop\\NextChip\\dataset\\images\\add\\cyc',\n",
    "                  r'C:\\Users\\Ino\\Desktop\\NextChip\\dataset\\images\\add\\mot',\n",
    "                  r'C:\\Users\\Ino\\Desktop\\NextChip\\dataset\\images\\train']\n",
    "\n",
    "make_data_path(data_path_list)\n",
    "\n",
    "\n",
    "# bus_truck_images, bus_truck_labels = make_data_path(r'C:\\Users\\Ino\\Desktop\\NextChip\\dataset\\images\\add\\bus_truck', 'bus_truck')\n",
    "# cyc_images, cyc_labels = make_data_path(r'C:\\Users\\Ino\\Desktop\\NextChip\\dataset\\images\\add\\cyc', 'cyc')\n",
    "# mot_images, mot_labels = make_data_path(r'C:\\Users\\Ino\\Desktop\\NextChip\\dataset\\images\\add\\mot', 'mot')"
   ]
  },
  {
   "cell_type": "code",
   "execution_count": 58,
   "metadata": {},
   "outputs": [
    {
     "name": "stdout",
     "output_type": "stream",
     "text": [
      "3945\n",
      "4693\n",
      "2505\n"
     ]
    }
   ],
   "source": [
    "if(len(bus_truck_images) == len(bus_truck_labels)):\n",
    "    print(len(bus_truck_images))\n",
    "else:\n",
    "    print('eeeeeeeeeeee!!!!')\n",
    "\n",
    "if(len(cyc_images) == len(cyc_labels)):\n",
    "    print(len(cyc_images))\n",
    "else:\n",
    "    print('eeeeeeeeeeee!!!!')\n",
    "\n",
    "if(len(mot_images) == len(mot_labels)):\n",
    "    print(len(mot_images))\n",
    "else:\n",
    "    print('eeeeeeeeeeee!!!!')"
   ]
  },
  {
   "cell_type": "code",
   "execution_count": 60,
   "metadata": {},
   "outputs": [
    {
     "name": "stdout",
     "output_type": "stream",
     "text": [
      "23875\n"
     ]
    }
   ],
   "source": [
    "print(3945 + 4693 + 2505 + 12732)"
   ]
  }
 ],
 "metadata": {
  "kernelspec": {
   "display_name": "notebook",
   "language": "python",
   "name": "python3"
  },
  "language_info": {
   "codemirror_mode": {
    "name": "ipython",
    "version": 3
   },
   "file_extension": ".py",
   "mimetype": "text/x-python",
   "name": "python",
   "nbconvert_exporter": "python",
   "pygments_lexer": "ipython3",
   "version": "3.11.8"
  }
 },
 "nbformat": 4,
 "nbformat_minor": 2
}
