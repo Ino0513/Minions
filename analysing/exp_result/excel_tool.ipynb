{
 "cells": [
  {
   "cell_type": "code",
   "execution_count": 1,
   "metadata": {},
   "outputs": [],
   "source": [
    "import excel_tool\n",
    "import os\n",
    "import pandas as pd"
   ]
  },
  {
   "cell_type": "code",
   "execution_count": null,
   "metadata": {},
   "outputs": [
    {
     "name": "stdout",
     "output_type": "stream",
     "text": [
      "v5n_c2f_tv은 이미 잇성, 끝나버려, 히히히\n",
      "v5n_k3_tv은 이미 잇성, 끝나버려, 히히히\n",
      "Ultralytics 8.3.13  Python-3.10.13 torch-2.4.1+cu118 CUDA:0 (NVIDIA GeForce RTX 4060 Ti, 16379MiB)\n"
     ]
    },
    {
     "name": "stdout",
     "output_type": "stream",
     "text": [
      "v5n_org_tv summary (fused): 211 layers, 2,182,834 parameters, 0 gradients, 5.8 GFLOPs\n"
     ]
    },
    {
     "name": "stderr",
     "output_type": "stream",
     "text": [
      "\u001b[34m\u001b[1mval: \u001b[0mScanning C:\\Users\\ihman\\Desktop\\NextChip\\dataset\\labels\\test.cache... 6883 images, 0 backgrounds, 0 corrupt: 100%|██████████| 6883/6883 [00:00<?, ?it/s]"
     ]
    },
    {
     "name": "stdout",
     "output_type": "stream",
     "text": [
      "\u001b[34m\u001b[1mval: \u001b[0mWARNING  C:\\Users\\ihman\\Desktop\\NextChip\\dataset\\images\\test\\1100.jpg: 1 duplicate labels removed\n",
      "\u001b[34m\u001b[1mval: \u001b[0mWARNING  C:\\Users\\ihman\\Desktop\\NextChip\\dataset\\images\\test\\1101.jpg: 1 duplicate labels removed\n",
      "\u001b[34m\u001b[1mval: \u001b[0mWARNING  C:\\Users\\ihman\\Desktop\\NextChip\\dataset\\images\\test\\1658.jpg: 1 duplicate labels removed\n",
      "\u001b[34m\u001b[1mval: \u001b[0mWARNING  C:\\Users\\ihman\\Desktop\\NextChip\\dataset\\images\\test\\1696.jpg: 1 duplicate labels removed\n",
      "\u001b[34m\u001b[1mval: \u001b[0mWARNING  C:\\Users\\ihman\\Desktop\\NextChip\\dataset\\images\\test\\4652.jpg: 1 duplicate labels removed\n",
      "\u001b[34m\u001b[1mval: \u001b[0mWARNING  C:\\Users\\ihman\\Desktop\\NextChip\\dataset\\images\\test\\6142.jpg: 1 duplicate labels removed\n",
      "\u001b[34m\u001b[1mval: \u001b[0mWARNING  C:\\Users\\ihman\\Desktop\\NextChip\\dataset\\images\\test\\6200.jpg: 2 duplicate labels removed\n"
     ]
    },
    {
     "name": "stderr",
     "output_type": "stream",
     "text": [
      "\n",
      "                 Class     Images  Instances      Box(P          R      mAP50  mAP50-95): 100%|██████████| 431/431 [00:34<00:00, 12.42it/s]\n"
     ]
    },
    {
     "name": "stdout",
     "output_type": "stream",
     "text": [
      "                   all       6883      50059      0.726      0.499      0.568      0.363\n",
      "                   per       3588      14780      0.771      0.488       0.58      0.282\n",
      "                   car       6531      26508      0.835      0.817      0.873      0.665\n",
      "                   bus       1789       2644      0.841      0.599      0.707      0.501\n",
      "                   tru       2048       3080       0.71      0.536      0.611       0.41\n",
      "                   cyc        463        606      0.405      0.149      0.143     0.0622\n",
      "                   mot       1786       2441      0.791      0.402      0.494      0.257\n",
      "Speed: 0.2ms preprocess, 1.1ms inference, 0.0ms loss, 0.7ms postprocess per image\n",
      "Results saved to \u001b[1m..\\..\\result\\val_result\\1.1 v5n vs v8n\\v5n_org_tv\u001b[0m\n",
      "v5n_org_tv summary (fused): 211 layers, 2,182,834 parameters, 0 gradients, 5.8 GFLOPs\n",
      "Ultralytics 8.3.13  Python-3.10.13 torch-2.4.1+cu118 CUDA:0 (NVIDIA GeForce RTX 4060 Ti, 16379MiB)\n",
      "v8n_c3_tv summary (fused): 202 layers, 2,160,738 parameters, 0 gradients, 5.5 GFLOPs\n"
     ]
    },
    {
     "name": "stderr",
     "output_type": "stream",
     "text": [
      "\u001b[34m\u001b[1mval: \u001b[0mScanning C:\\Users\\ihman\\Desktop\\NextChip\\dataset\\labels\\test.cache... 6883 images, 0 backgrounds, 0 corrupt: 100%|██████████| 6883/6883 [00:00<?, ?it/s]"
     ]
    },
    {
     "name": "stdout",
     "output_type": "stream",
     "text": [
      "\u001b[34m\u001b[1mval: \u001b[0mWARNING  C:\\Users\\ihman\\Desktop\\NextChip\\dataset\\images\\test\\1100.jpg: 1 duplicate labels removed\n",
      "\u001b[34m\u001b[1mval: \u001b[0mWARNING  C:\\Users\\ihman\\Desktop\\NextChip\\dataset\\images\\test\\1101.jpg: 1 duplicate labels removed\n",
      "\u001b[34m\u001b[1mval: \u001b[0mWARNING  C:\\Users\\ihman\\Desktop\\NextChip\\dataset\\images\\test\\1658.jpg: 1 duplicate labels removed\n",
      "\u001b[34m\u001b[1mval: \u001b[0mWARNING  C:\\Users\\ihman\\Desktop\\NextChip\\dataset\\images\\test\\1696.jpg: 1 duplicate labels removed\n",
      "\u001b[34m\u001b[1mval: \u001b[0mWARNING  C:\\Users\\ihman\\Desktop\\NextChip\\dataset\\images\\test\\4652.jpg: 1 duplicate labels removed\n",
      "\u001b[34m\u001b[1mval: \u001b[0mWARNING  C:\\Users\\ihman\\Desktop\\NextChip\\dataset\\images\\test\\6142.jpg: 1 duplicate labels removed\n",
      "\u001b[34m\u001b[1mval: \u001b[0mWARNING  C:\\Users\\ihman\\Desktop\\NextChip\\dataset\\images\\test\\6200.jpg: 2 duplicate labels removed\n"
     ]
    },
    {
     "name": "stderr",
     "output_type": "stream",
     "text": [
      "\n",
      "                 Class     Images  Instances      Box(P          R      mAP50  mAP50-95): 100%|██████████| 431/431 [00:33<00:00, 12.77it/s]\n"
     ]
    },
    {
     "name": "stdout",
     "output_type": "stream",
     "text": [
      "                   all       6883      50059      0.694      0.505      0.564      0.357\n",
      "                   per       3588      14780       0.74      0.481      0.563      0.269\n",
      "                   car       6531      26508       0.81      0.825      0.869       0.66\n",
      "                   bus       1789       2644      0.833      0.577      0.692      0.491\n",
      "                   tru       2048       3080      0.663      0.543      0.603      0.406\n",
      "                   cyc        463        606      0.342      0.196       0.15     0.0585\n",
      "                   mot       1786       2441      0.773      0.409      0.505      0.258\n",
      "Speed: 0.2ms preprocess, 1.0ms inference, 0.0ms loss, 0.6ms postprocess per image\n",
      "Results saved to \u001b[1m..\\..\\result\\val_result\\1.1 v5n vs v8n\\v8n_c3_tv\u001b[0m\n",
      "v8n_c3_tv summary (fused): 202 layers, 2,160,738 parameters, 0 gradients, 5.5 GFLOPs\n",
      "Ultralytics 8.3.13  Python-3.10.13 torch-2.4.1+cu118 CUDA:0 (NVIDIA GeForce RTX 4060 Ti, 16379MiB)\n",
      "v8n_k6_tv summary (fused): 186 layers, 2,686,834 parameters, 0 gradients, 7.1 GFLOPs\n"
     ]
    },
    {
     "name": "stderr",
     "output_type": "stream",
     "text": [
      "\u001b[34m\u001b[1mval: \u001b[0mScanning C:\\Users\\ihman\\Desktop\\NextChip\\dataset\\labels\\test.cache... 6883 images, 0 backgrounds, 0 corrupt: 100%|██████████| 6883/6883 [00:00<?, ?it/s]"
     ]
    },
    {
     "name": "stdout",
     "output_type": "stream",
     "text": [
      "\u001b[34m\u001b[1mval: \u001b[0mWARNING  C:\\Users\\ihman\\Desktop\\NextChip\\dataset\\images\\test\\1100.jpg: 1 duplicate labels removed\n",
      "\u001b[34m\u001b[1mval: \u001b[0mWARNING  C:\\Users\\ihman\\Desktop\\NextChip\\dataset\\images\\test\\1101.jpg: 1 duplicate labels removed\n",
      "\u001b[34m\u001b[1mval: \u001b[0mWARNING  C:\\Users\\ihman\\Desktop\\NextChip\\dataset\\images\\test\\1658.jpg: 1 duplicate labels removed\n",
      "\u001b[34m\u001b[1mval: \u001b[0mWARNING  C:\\Users\\ihman\\Desktop\\NextChip\\dataset\\images\\test\\1696.jpg: 1 duplicate labels removed\n",
      "\u001b[34m\u001b[1mval: \u001b[0mWARNING  C:\\Users\\ihman\\Desktop\\NextChip\\dataset\\images\\test\\4652.jpg: 1 duplicate labels removed\n",
      "\u001b[34m\u001b[1mval: \u001b[0mWARNING  C:\\Users\\ihman\\Desktop\\NextChip\\dataset\\images\\test\\6142.jpg: 1 duplicate labels removed\n",
      "\u001b[34m\u001b[1mval: \u001b[0mWARNING  C:\\Users\\ihman\\Desktop\\NextChip\\dataset\\images\\test\\6200.jpg: 2 duplicate labels removed\n"
     ]
    },
    {
     "name": "stderr",
     "output_type": "stream",
     "text": [
      "\n",
      "                 Class     Images  Instances      Box(P          R      mAP50  mAP50-95): 100%|██████████| 431/431 [01:14<00:00,  5.76it/s]\n"
     ]
    },
    {
     "name": "stdout",
     "output_type": "stream",
     "text": [
      "                   all       6883      50059      0.728      0.515      0.578      0.371\n",
      "                   per       3588      14780      0.781      0.474      0.572      0.285\n",
      "                   car       6531      26508       0.83      0.828      0.879      0.678\n",
      "                   bus       1789       2644      0.848      0.618      0.729      0.517\n",
      "                   tru       2048       3080      0.704       0.55      0.624      0.422\n",
      "                   cyc        463        606       0.41      0.195      0.146     0.0567\n",
      "                   mot       1786       2441      0.796      0.423      0.519      0.268\n",
      "Speed: 0.2ms preprocess, 7.0ms inference, 0.0ms loss, 0.6ms postprocess per image\n",
      "Results saved to \u001b[1m..\\..\\result\\val_result\\1.1 v5n vs v8n\\v8n_k6_tv\u001b[0m\n",
      "v8n_k6_tv summary (fused): 186 layers, 2,686,834 parameters, 0 gradients, 7.1 GFLOPs\n",
      "Ultralytics 8.3.13  Python-3.10.13 torch-2.4.1+cu118 CUDA:0 (NVIDIA GeForce RTX 4060 Ti, 16379MiB)\n",
      "v8n_org_tv summary (fused): 186 layers, 2,685,538 parameters, 0 gradients, 6.8 GFLOPs\n"
     ]
    },
    {
     "name": "stderr",
     "output_type": "stream",
     "text": [
      "\u001b[34m\u001b[1mval: \u001b[0mScanning C:\\Users\\ihman\\Desktop\\NextChip\\dataset\\labels\\test.cache... 6883 images, 0 backgrounds, 0 corrupt: 100%|██████████| 6883/6883 [00:00<?, ?it/s]"
     ]
    },
    {
     "name": "stdout",
     "output_type": "stream",
     "text": [
      "\u001b[34m\u001b[1mval: \u001b[0mWARNING  C:\\Users\\ihman\\Desktop\\NextChip\\dataset\\images\\test\\1100.jpg: 1 duplicate labels removed\n",
      "\u001b[34m\u001b[1mval: \u001b[0mWARNING  C:\\Users\\ihman\\Desktop\\NextChip\\dataset\\images\\test\\1101.jpg: 1 duplicate labels removed\n",
      "\u001b[34m\u001b[1mval: \u001b[0mWARNING  C:\\Users\\ihman\\Desktop\\NextChip\\dataset\\images\\test\\1658.jpg: 1 duplicate labels removed\n",
      "\u001b[34m\u001b[1mval: \u001b[0mWARNING  C:\\Users\\ihman\\Desktop\\NextChip\\dataset\\images\\test\\1696.jpg: 1 duplicate labels removed\n",
      "\u001b[34m\u001b[1mval: \u001b[0mWARNING  C:\\Users\\ihman\\Desktop\\NextChip\\dataset\\images\\test\\4652.jpg: 1 duplicate labels removed\n",
      "\u001b[34m\u001b[1mval: \u001b[0mWARNING  C:\\Users\\ihman\\Desktop\\NextChip\\dataset\\images\\test\\6142.jpg: 1 duplicate labels removed\n",
      "\u001b[34m\u001b[1mval: \u001b[0mWARNING  C:\\Users\\ihman\\Desktop\\NextChip\\dataset\\images\\test\\6200.jpg: 2 duplicate labels removed\n"
     ]
    },
    {
     "name": "stderr",
     "output_type": "stream",
     "text": [
      "\n",
      "                 Class     Images  Instances      Box(P          R      mAP50  mAP50-95): 100%|██████████| 431/431 [00:34<00:00, 12.44it/s]\n"
     ]
    },
    {
     "name": "stdout",
     "output_type": "stream",
     "text": [
      "                   all       6883      50059      0.701      0.509       0.57      0.367\n",
      "                   per       3588      14780      0.739      0.492      0.569      0.278\n",
      "                   car       6531      26508       0.82      0.831      0.878      0.674\n",
      "                   bus       1789       2644      0.837      0.607      0.722      0.509\n",
      "                   tru       2048       3080      0.663      0.554      0.616       0.42\n",
      "                   cyc        463        606      0.357      0.145      0.127     0.0565\n",
      "                   mot       1786       2441      0.791      0.423      0.509      0.265\n",
      "Speed: 0.2ms preprocess, 1.0ms inference, 0.0ms loss, 0.7ms postprocess per image\n",
      "Results saved to \u001b[1m..\\..\\result\\val_result\\1.1 v5n vs v8n\\v8n_org_tv\u001b[0m\n",
      "v8n_org_tv summary (fused): 186 layers, 2,685,538 parameters, 0 gradients, 6.8 GFLOPs\n",
      "Ultralytics 8.3.13  Python-3.10.13 torch-2.4.1+cu118 CUDA:0 (NVIDIA GeForce RTX 4060 Ti, 16379MiB)\n",
      "v8n_org summary (fused): 186 layers, 2,685,538 parameters, 0 gradients, 6.8 GFLOPs\n"
     ]
    },
    {
     "name": "stderr",
     "output_type": "stream",
     "text": [
      "\u001b[34m\u001b[1mval: \u001b[0mScanning C:\\Users\\ihman\\Desktop\\NextChip\\dataset\\labels\\test.cache... 6883 images, 0 backgrounds, 0 corrupt: 100%|██████████| 6883/6883 [00:00<?, ?it/s]"
     ]
    },
    {
     "name": "stdout",
     "output_type": "stream",
     "text": [
      "\u001b[34m\u001b[1mval: \u001b[0mWARNING  C:\\Users\\ihman\\Desktop\\NextChip\\dataset\\images\\test\\1100.jpg: 1 duplicate labels removed\n",
      "\u001b[34m\u001b[1mval: \u001b[0mWARNING  C:\\Users\\ihman\\Desktop\\NextChip\\dataset\\images\\test\\1101.jpg: 1 duplicate labels removed\n",
      "\u001b[34m\u001b[1mval: \u001b[0mWARNING  C:\\Users\\ihman\\Desktop\\NextChip\\dataset\\images\\test\\1658.jpg: 1 duplicate labels removed\n",
      "\u001b[34m\u001b[1mval: \u001b[0mWARNING  C:\\Users\\ihman\\Desktop\\NextChip\\dataset\\images\\test\\1696.jpg: 1 duplicate labels removed\n",
      "\u001b[34m\u001b[1mval: \u001b[0mWARNING  C:\\Users\\ihman\\Desktop\\NextChip\\dataset\\images\\test\\4652.jpg: 1 duplicate labels removed\n",
      "\u001b[34m\u001b[1mval: \u001b[0mWARNING  C:\\Users\\ihman\\Desktop\\NextChip\\dataset\\images\\test\\6142.jpg: 1 duplicate labels removed\n",
      "\u001b[34m\u001b[1mval: \u001b[0mWARNING  C:\\Users\\ihman\\Desktop\\NextChip\\dataset\\images\\test\\6200.jpg: 2 duplicate labels removed\n"
     ]
    },
    {
     "name": "stderr",
     "output_type": "stream",
     "text": [
      "\n",
      "                 Class     Images  Instances      Box(P          R      mAP50  mAP50-95): 100%|██████████| 431/431 [01:15<00:00,  5.73it/s]\n"
     ]
    },
    {
     "name": "stdout",
     "output_type": "stream",
     "text": [
      "                   all       6883      50059      0.695      0.487       0.55      0.351\n",
      "                   per       3588      14780      0.757      0.471      0.555      0.265\n",
      "                   car       6531      26508      0.825      0.818       0.87      0.663\n",
      "                   bus       1789       2644      0.856      0.553       0.68      0.482\n",
      "                   tru       2048       3080      0.663      0.533      0.598      0.401\n",
      "                   cyc        463        606      0.298       0.14     0.0984     0.0452\n",
      "                   mot       1786       2441       0.77      0.404        0.5      0.251\n",
      "Speed: 0.2ms preprocess, 1.1ms inference, 0.0ms loss, 0.6ms postprocess per image\n",
      "Results saved to \u001b[1m..\\..\\result\\val_result\\1.2 P2\\v8n_org_t\u001b[0m\n",
      "v8n_org summary (fused): 186 layers, 2,685,538 parameters, 0 gradients, 6.8 GFLOPs\n",
      "Ultralytics 8.3.13  Python-3.10.13 torch-2.4.1+cu118 CUDA:0 (NVIDIA GeForce RTX 4060 Ti, 16379MiB)\n",
      "v8n_P2_t summary (fused): 195 layers, 3,056,290 parameters, 0 gradients, 9.1 GFLOPs\n"
     ]
    },
    {
     "name": "stderr",
     "output_type": "stream",
     "text": [
      "\u001b[34m\u001b[1mval: \u001b[0mScanning C:\\Users\\ihman\\Desktop\\NextChip\\dataset\\labels\\test.cache... 6883 images, 0 backgrounds, 0 corrupt: 100%|██████████| 6883/6883 [00:00<?, ?it/s]"
     ]
    },
    {
     "name": "stdout",
     "output_type": "stream",
     "text": [
      "\u001b[34m\u001b[1mval: \u001b[0mWARNING  C:\\Users\\ihman\\Desktop\\NextChip\\dataset\\images\\test\\1100.jpg: 1 duplicate labels removed\n",
      "\u001b[34m\u001b[1mval: \u001b[0mWARNING  C:\\Users\\ihman\\Desktop\\NextChip\\dataset\\images\\test\\1101.jpg: 1 duplicate labels removed\n",
      "\u001b[34m\u001b[1mval: \u001b[0mWARNING  C:\\Users\\ihman\\Desktop\\NextChip\\dataset\\images\\test\\1658.jpg: 1 duplicate labels removed\n",
      "\u001b[34m\u001b[1mval: \u001b[0mWARNING  C:\\Users\\ihman\\Desktop\\NextChip\\dataset\\images\\test\\1696.jpg: 1 duplicate labels removed\n",
      "\u001b[34m\u001b[1mval: \u001b[0mWARNING  C:\\Users\\ihman\\Desktop\\NextChip\\dataset\\images\\test\\4652.jpg: 1 duplicate labels removed\n",
      "\u001b[34m\u001b[1mval: \u001b[0mWARNING  C:\\Users\\ihman\\Desktop\\NextChip\\dataset\\images\\test\\6142.jpg: 1 duplicate labels removed\n",
      "\u001b[34m\u001b[1mval: \u001b[0mWARNING  C:\\Users\\ihman\\Desktop\\NextChip\\dataset\\images\\test\\6200.jpg: 2 duplicate labels removed\n"
     ]
    },
    {
     "name": "stderr",
     "output_type": "stream",
     "text": [
      "\n",
      "                 Class     Images  Instances      Box(P          R      mAP50  mAP50-95): 100%|██████████| 431/431 [01:16<00:00,  5.67it/s]\n"
     ]
    },
    {
     "name": "stdout",
     "output_type": "stream",
     "text": [
      "                   all       6883      50059      0.699      0.528      0.581      0.379\n",
      "                   per       3588      14780      0.769      0.515        0.6      0.302\n",
      "                   car       6531      26508      0.834      0.837      0.887      0.693\n",
      "                   bus       1789       2644      0.833       0.59      0.709      0.512\n",
      "                   tru       2048       3080      0.656      0.578      0.637      0.442\n",
      "                   cyc        463        606      0.332      0.208      0.125     0.0477\n",
      "                   mot       1786       2441      0.771      0.442      0.529      0.276\n",
      "Speed: 0.2ms preprocess, 1.3ms inference, 0.0ms loss, 0.6ms postprocess per image\n",
      "Results saved to \u001b[1m..\\..\\result\\val_result\\1.2 P2\\v8n_P2_t\u001b[0m\n",
      "v8n_P2_t summary (fused): 195 layers, 3,056,290 parameters, 0 gradients, 9.1 GFLOPs\n",
      "Ultralytics 8.3.13  Python-3.10.13 torch-2.4.1+cu118 CUDA:0 (NVIDIA GeForce RTX 4060 Ti, 16379MiB)\n",
      "v8s_org_train summary (fused): 168 layers, 11,127,906 parameters, 0 gradients, 28.4 GFLOPs\n"
     ]
    },
    {
     "name": "stderr",
     "output_type": "stream",
     "text": [
      "\u001b[34m\u001b[1mval: \u001b[0mScanning C:\\Users\\ihman\\Desktop\\NextChip\\dataset\\labels\\test.cache... 6883 images, 0 backgrounds, 0 corrupt: 100%|██████████| 6883/6883 [00:00<?, ?it/s]"
     ]
    },
    {
     "name": "stdout",
     "output_type": "stream",
     "text": [
      "\u001b[34m\u001b[1mval: \u001b[0mWARNING  C:\\Users\\ihman\\Desktop\\NextChip\\dataset\\images\\test\\1100.jpg: 1 duplicate labels removed\n",
      "\u001b[34m\u001b[1mval: \u001b[0mWARNING  C:\\Users\\ihman\\Desktop\\NextChip\\dataset\\images\\test\\1101.jpg: 1 duplicate labels removed\n",
      "\u001b[34m\u001b[1mval: \u001b[0mWARNING  C:\\Users\\ihman\\Desktop\\NextChip\\dataset\\images\\test\\1658.jpg: 1 duplicate labels removed\n",
      "\u001b[34m\u001b[1mval: \u001b[0mWARNING  C:\\Users\\ihman\\Desktop\\NextChip\\dataset\\images\\test\\1696.jpg: 1 duplicate labels removed\n",
      "\u001b[34m\u001b[1mval: \u001b[0mWARNING  C:\\Users\\ihman\\Desktop\\NextChip\\dataset\\images\\test\\4652.jpg: 1 duplicate labels removed\n",
      "\u001b[34m\u001b[1mval: \u001b[0mWARNING  C:\\Users\\ihman\\Desktop\\NextChip\\dataset\\images\\test\\6142.jpg: 1 duplicate labels removed\n",
      "\u001b[34m\u001b[1mval: \u001b[0mWARNING  C:\\Users\\ihman\\Desktop\\NextChip\\dataset\\images\\test\\6200.jpg: 2 duplicate labels removed\n"
     ]
    },
    {
     "name": "stderr",
     "output_type": "stream",
     "text": [
      "\n",
      "                 Class     Images  Instances      Box(P          R      mAP50  mAP50-95): 100%|██████████| 431/431 [01:23<00:00,  5.19it/s]\n"
     ]
    },
    {
     "name": "stdout",
     "output_type": "stream",
     "text": [
      "                   all       6883      50059      0.724      0.566      0.629      0.416\n",
      "                   per       3588      14780       0.78       0.55      0.633      0.332\n",
      "                   car       6531      26508      0.851       0.85      0.903      0.721\n",
      "                   bus       1789       2644      0.875      0.667      0.779      0.565\n",
      "                   tru       2048       3080      0.726      0.621      0.687      0.482\n",
      "                   cyc        463        606      0.348      0.233      0.187      0.094\n",
      "                   mot       1786       2441      0.765      0.477      0.587      0.303\n",
      "Speed: 0.2ms preprocess, 2.4ms inference, 0.0ms loss, 0.6ms postprocess per image\n",
      "Results saved to \u001b[1m..\\..\\result\\val_result\\1.2 P2\\v8s_org_t\u001b[0m\n",
      "v8s_org_train summary (fused): 168 layers, 11,127,906 parameters, 0 gradients, 28.4 GFLOPs\n",
      "Ultralytics 8.3.13  Python-3.10.13 torch-2.4.1+cu118 CUDA:0 (NVIDIA GeForce RTX 4060 Ti, 16379MiB)\n",
      "v8s_p2_train summary (fused): 195 layers, 11,325,154 parameters, 0 gradients, 32.4 GFLOPs\n"
     ]
    },
    {
     "name": "stderr",
     "output_type": "stream",
     "text": [
      "\u001b[34m\u001b[1mval: \u001b[0mScanning C:\\Users\\ihman\\Desktop\\NextChip\\dataset\\labels\\test.cache... 6883 images, 0 backgrounds, 0 corrupt: 100%|██████████| 6883/6883 [00:00<?, ?it/s]"
     ]
    },
    {
     "name": "stdout",
     "output_type": "stream",
     "text": [
      "\u001b[34m\u001b[1mval: \u001b[0mWARNING  C:\\Users\\ihman\\Desktop\\NextChip\\dataset\\images\\test\\1100.jpg: 1 duplicate labels removed\n",
      "\u001b[34m\u001b[1mval: \u001b[0mWARNING  C:\\Users\\ihman\\Desktop\\NextChip\\dataset\\images\\test\\1101.jpg: 1 duplicate labels removed\n",
      "\u001b[34m\u001b[1mval: \u001b[0mWARNING  C:\\Users\\ihman\\Desktop\\NextChip\\dataset\\images\\test\\1658.jpg: 1 duplicate labels removed\n",
      "\u001b[34m\u001b[1mval: \u001b[0mWARNING  C:\\Users\\ihman\\Desktop\\NextChip\\dataset\\images\\test\\1696.jpg: 1 duplicate labels removed\n",
      "\u001b[34m\u001b[1mval: \u001b[0mWARNING  C:\\Users\\ihman\\Desktop\\NextChip\\dataset\\images\\test\\4652.jpg: 1 duplicate labels removed\n",
      "\u001b[34m\u001b[1mval: \u001b[0mWARNING  C:\\Users\\ihman\\Desktop\\NextChip\\dataset\\images\\test\\6142.jpg: 1 duplicate labels removed\n",
      "\u001b[34m\u001b[1mval: \u001b[0mWARNING  C:\\Users\\ihman\\Desktop\\NextChip\\dataset\\images\\test\\6200.jpg: 2 duplicate labels removed\n"
     ]
    },
    {
     "name": "stderr",
     "output_type": "stream",
     "text": [
      "\n",
      "                 Class     Images  Instances      Box(P          R      mAP50  mAP50-95): 100%|██████████| 431/431 [01:28<00:00,  4.88it/s]  \n"
     ]
    },
    {
     "name": "stdout",
     "output_type": "stream",
     "text": [
      "                   all       6883      50059      0.728       0.58      0.651      0.442\n",
      "                   per       3588      14780      0.788      0.567      0.661      0.365\n",
      "                   car       6531      26508      0.854      0.861      0.911      0.742\n",
      "                   bus       1789       2644      0.866      0.692      0.799      0.592\n",
      "                   tru       2048       3080      0.716      0.648      0.706      0.511\n",
      "                   cyc        463        606      0.379      0.208      0.217        0.1\n",
      "                   mot       1786       2441      0.764      0.504      0.611      0.342\n",
      "Speed: 0.2ms preprocess, 3.1ms inference, 0.0ms loss, 0.6ms postprocess per image\n",
      "Results saved to \u001b[1m..\\..\\result\\val_result\\1.2 P2\\v8s_P2_t\u001b[0m\n",
      "v8s_p2_train summary (fused): 195 layers, 11,325,154 parameters, 0 gradients, 32.4 GFLOPs\n",
      "Ultralytics 8.3.13  Python-3.10.13 torch-2.4.1+cu118 CUDA:0 (NVIDIA GeForce RTX 4060 Ti, 16379MiB)\n",
      "v5n_2442 summary (fused): 178 layers, 2,411,634 parameters, 0 gradients, 6.7 GFLOPs\n"
     ]
    },
    {
     "name": "stderr",
     "output_type": "stream",
     "text": [
      "\u001b[34m\u001b[1mval: \u001b[0mScanning C:\\Users\\ihman\\Desktop\\NextChip\\dataset\\labels\\test.cache... 6883 images, 0 backgrounds, 0 corrupt: 100%|██████████| 6883/6883 [00:00<?, ?it/s]"
     ]
    },
    {
     "name": "stdout",
     "output_type": "stream",
     "text": [
      "\u001b[34m\u001b[1mval: \u001b[0mWARNING  C:\\Users\\ihman\\Desktop\\NextChip\\dataset\\images\\test\\1100.jpg: 1 duplicate labels removed\n",
      "\u001b[34m\u001b[1mval: \u001b[0mWARNING  C:\\Users\\ihman\\Desktop\\NextChip\\dataset\\images\\test\\1101.jpg: 1 duplicate labels removed\n",
      "\u001b[34m\u001b[1mval: \u001b[0mWARNING  C:\\Users\\ihman\\Desktop\\NextChip\\dataset\\images\\test\\1658.jpg: 1 duplicate labels removed\n",
      "\u001b[34m\u001b[1mval: \u001b[0mWARNING  C:\\Users\\ihman\\Desktop\\NextChip\\dataset\\images\\test\\1696.jpg: 1 duplicate labels removed\n",
      "\u001b[34m\u001b[1mval: \u001b[0mWARNING  C:\\Users\\ihman\\Desktop\\NextChip\\dataset\\images\\test\\4652.jpg: 1 duplicate labels removed\n",
      "\u001b[34m\u001b[1mval: \u001b[0mWARNING  C:\\Users\\ihman\\Desktop\\NextChip\\dataset\\images\\test\\6142.jpg: 1 duplicate labels removed\n",
      "\u001b[34m\u001b[1mval: \u001b[0mWARNING  C:\\Users\\ihman\\Desktop\\NextChip\\dataset\\images\\test\\6200.jpg: 2 duplicate labels removed\n"
     ]
    },
    {
     "name": "stderr",
     "output_type": "stream",
     "text": [
      "\n",
      "                 Class     Images  Instances      Box(P          R      mAP50  mAP50-95): 100%|██████████| 431/431 [01:14<00:00,  5.77it/s]\n"
     ]
    },
    {
     "name": "stdout",
     "output_type": "stream",
     "text": [
      "                   all       6883      50059       0.69      0.482      0.554      0.347\n",
      "                   per       3588      14780      0.739      0.458      0.546      0.251\n",
      "                   car       6531      26508      0.824       0.81      0.864      0.652\n",
      "                   bus       1789       2644      0.842      0.533      0.668      0.465\n",
      "                   tru       2048       3080      0.647      0.534      0.597      0.405\n",
      "                   cyc        463        606      0.315       0.15      0.144      0.063\n",
      "                   mot       1786       2441      0.772      0.408      0.505      0.245\n",
      "Speed: 0.2ms preprocess, 1.0ms inference, 0.0ms loss, 0.6ms postprocess per image\n",
      "Results saved to \u001b[1m..\\..\\result\\val_result\\1.3 Bt\\v5n_2442_ta\u001b[0m\n",
      "v5n_2442 summary (fused): 178 layers, 2,411,634 parameters, 0 gradients, 6.7 GFLOPs\n",
      "Ultralytics 8.3.13  Python-3.10.13 torch-2.4.1+cu118 CUDA:0 (NVIDIA GeForce RTX 4060 Ti, 16379MiB)\n",
      "v5n_4664 summary (fused): 188 layers, 2,463,026 parameters, 0 gradients, 6.9 GFLOPs\n"
     ]
    },
    {
     "name": "stderr",
     "output_type": "stream",
     "text": [
      "\u001b[34m\u001b[1mval: \u001b[0mScanning C:\\Users\\ihman\\Desktop\\NextChip\\dataset\\labels\\test.cache... 6883 images, 0 backgrounds, 0 corrupt: 100%|██████████| 6883/6883 [00:00<?, ?it/s]"
     ]
    },
    {
     "name": "stdout",
     "output_type": "stream",
     "text": [
      "\u001b[34m\u001b[1mval: \u001b[0mWARNING  C:\\Users\\ihman\\Desktop\\NextChip\\dataset\\images\\test\\1100.jpg: 1 duplicate labels removed\n",
      "\u001b[34m\u001b[1mval: \u001b[0mWARNING  C:\\Users\\ihman\\Desktop\\NextChip\\dataset\\images\\test\\1101.jpg: 1 duplicate labels removed\n",
      "\u001b[34m\u001b[1mval: \u001b[0mWARNING  C:\\Users\\ihman\\Desktop\\NextChip\\dataset\\images\\test\\1658.jpg: 1 duplicate labels removed\n",
      "\u001b[34m\u001b[1mval: \u001b[0mWARNING  C:\\Users\\ihman\\Desktop\\NextChip\\dataset\\images\\test\\1696.jpg: 1 duplicate labels removed\n",
      "\u001b[34m\u001b[1mval: \u001b[0mWARNING  C:\\Users\\ihman\\Desktop\\NextChip\\dataset\\images\\test\\4652.jpg: 1 duplicate labels removed\n",
      "\u001b[34m\u001b[1mval: \u001b[0mWARNING  C:\\Users\\ihman\\Desktop\\NextChip\\dataset\\images\\test\\6142.jpg: 1 duplicate labels removed\n",
      "\u001b[34m\u001b[1mval: \u001b[0mWARNING  C:\\Users\\ihman\\Desktop\\NextChip\\dataset\\images\\test\\6200.jpg: 2 duplicate labels removed\n"
     ]
    },
    {
     "name": "stderr",
     "output_type": "stream",
     "text": [
      "\n",
      "                 Class     Images  Instances      Box(P          R      mAP50  mAP50-95): 100%|██████████| 431/431 [00:34<00:00, 12.49it/s]\n"
     ]
    },
    {
     "name": "stdout",
     "output_type": "stream",
     "text": [
      "                   all       6883      50059      0.698      0.496      0.565      0.354\n",
      "                   per       3588      14780      0.702      0.473      0.541      0.247\n",
      "                   car       6531      26508      0.806      0.815      0.861      0.648\n",
      "                   bus       1789       2644      0.833      0.552      0.685      0.478\n",
      "                   tru       2048       3080      0.645      0.538      0.592      0.402\n",
      "                   cyc        463        606      0.407      0.191      0.204     0.0975\n",
      "                   mot       1786       2441      0.795      0.408      0.505      0.249\n",
      "Speed: 0.2ms preprocess, 1.0ms inference, 0.0ms loss, 0.7ms postprocess per image\n",
      "Results saved to \u001b[1m..\\..\\result\\val_result\\1.3 Bt\\v5n_4664_ta\u001b[0m\n",
      "v5n_4664 summary (fused): 188 layers, 2,463,026 parameters, 0 gradients, 6.9 GFLOPs\n",
      "Ultralytics 8.3.13  Python-3.10.13 torch-2.4.1+cu118 CUDA:0 (NVIDIA GeForce RTX 4060 Ti, 16379MiB)\n",
      "v5n_6886 summary (fused): 208 layers, 2,681,106 parameters, 0 gradients, 7.5 GFLOPs\n"
     ]
    },
    {
     "name": "stderr",
     "output_type": "stream",
     "text": [
      "\u001b[34m\u001b[1mval: \u001b[0mScanning C:\\Users\\ihman\\Desktop\\NextChip\\dataset\\labels\\test.cache... 6883 images, 0 backgrounds, 0 corrupt: 100%|██████████| 6883/6883 [00:00<?, ?it/s]"
     ]
    },
    {
     "name": "stdout",
     "output_type": "stream",
     "text": [
      "\u001b[34m\u001b[1mval: \u001b[0mWARNING  C:\\Users\\ihman\\Desktop\\NextChip\\dataset\\images\\test\\1100.jpg: 1 duplicate labels removed\n",
      "\u001b[34m\u001b[1mval: \u001b[0mWARNING  C:\\Users\\ihman\\Desktop\\NextChip\\dataset\\images\\test\\1101.jpg: 1 duplicate labels removed\n",
      "\u001b[34m\u001b[1mval: \u001b[0mWARNING  C:\\Users\\ihman\\Desktop\\NextChip\\dataset\\images\\test\\1658.jpg: 1 duplicate labels removed\n",
      "\u001b[34m\u001b[1mval: \u001b[0mWARNING  C:\\Users\\ihman\\Desktop\\NextChip\\dataset\\images\\test\\1696.jpg: 1 duplicate labels removed\n",
      "\u001b[34m\u001b[1mval: \u001b[0mWARNING  C:\\Users\\ihman\\Desktop\\NextChip\\dataset\\images\\test\\4652.jpg: 1 duplicate labels removed\n",
      "\u001b[34m\u001b[1mval: \u001b[0mWARNING  C:\\Users\\ihman\\Desktop\\NextChip\\dataset\\images\\test\\6142.jpg: 1 duplicate labels removed\n",
      "\u001b[34m\u001b[1mval: \u001b[0mWARNING  C:\\Users\\ihman\\Desktop\\NextChip\\dataset\\images\\test\\6200.jpg: 2 duplicate labels removed\n"
     ]
    },
    {
     "name": "stderr",
     "output_type": "stream",
     "text": [
      "\n",
      "                 Class     Images  Instances      Box(P          R      mAP50  mAP50-95): 100%|██████████| 431/431 [00:34<00:00, 12.56it/s]\n"
     ]
    },
    {
     "name": "stdout",
     "output_type": "stream",
     "text": [
      "                   all       6883      50059      0.696      0.492      0.561      0.354\n",
      "                   per       3588      14780      0.724      0.468      0.548      0.256\n",
      "                   car       6531      26508       0.82      0.811      0.863      0.651\n",
      "                   bus       1789       2644      0.864      0.528      0.682       0.48\n",
      "                   tru       2048       3080      0.654      0.557      0.606      0.412\n",
      "                   cyc        463        606      0.345      0.163      0.143     0.0761\n",
      "                   mot       1786       2441      0.768      0.427      0.525      0.247\n",
      "Speed: 0.2ms preprocess, 1.1ms inference, 0.0ms loss, 0.6ms postprocess per image\n",
      "Results saved to \u001b[1m..\\..\\result\\val_result\\1.3 Bt\\v5n_6886_ta\u001b[0m\n",
      "v5n_6886 summary (fused): 208 layers, 2,681,106 parameters, 0 gradients, 7.5 GFLOPs\n",
      "Ultralytics 8.3.13  Python-3.10.13 torch-2.4.1+cu118 CUDA:0 (NVIDIA GeForce RTX 4060 Ti, 16379MiB)\n",
      "v8n_2442 summary (fused): 158 layers, 2,904,226 parameters, 0 gradients, 7.6 GFLOPs\n"
     ]
    },
    {
     "name": "stderr",
     "output_type": "stream",
     "text": [
      "\u001b[34m\u001b[1mval: \u001b[0mScanning C:\\Users\\ihman\\Desktop\\NextChip\\dataset\\labels\\test.cache... 6883 images, 0 backgrounds, 0 corrupt: 100%|██████████| 6883/6883 [00:00<?, ?it/s]"
     ]
    },
    {
     "name": "stdout",
     "output_type": "stream",
     "text": [
      "\u001b[34m\u001b[1mval: \u001b[0mWARNING  C:\\Users\\ihman\\Desktop\\NextChip\\dataset\\images\\test\\1100.jpg: 1 duplicate labels removed\n",
      "\u001b[34m\u001b[1mval: \u001b[0mWARNING  C:\\Users\\ihman\\Desktop\\NextChip\\dataset\\images\\test\\1101.jpg: 1 duplicate labels removed\n",
      "\u001b[34m\u001b[1mval: \u001b[0mWARNING  C:\\Users\\ihman\\Desktop\\NextChip\\dataset\\images\\test\\1658.jpg: 1 duplicate labels removed\n",
      "\u001b[34m\u001b[1mval: \u001b[0mWARNING  C:\\Users\\ihman\\Desktop\\NextChip\\dataset\\images\\test\\1696.jpg: 1 duplicate labels removed\n",
      "\u001b[34m\u001b[1mval: \u001b[0mWARNING  C:\\Users\\ihman\\Desktop\\NextChip\\dataset\\images\\test\\4652.jpg: 1 duplicate labels removed\n",
      "\u001b[34m\u001b[1mval: \u001b[0mWARNING  C:\\Users\\ihman\\Desktop\\NextChip\\dataset\\images\\test\\6142.jpg: 1 duplicate labels removed\n",
      "\u001b[34m\u001b[1mval: \u001b[0mWARNING  C:\\Users\\ihman\\Desktop\\NextChip\\dataset\\images\\test\\6200.jpg: 2 duplicate labels removed\n"
     ]
    },
    {
     "name": "stderr",
     "output_type": "stream",
     "text": [
      "\n",
      "                 Class     Images  Instances      Box(P          R      mAP50  mAP50-95): 100%|██████████| 431/431 [00:34<00:00, 12.46it/s]\n"
     ]
    },
    {
     "name": "stdout",
     "output_type": "stream",
     "text": [
      "                   all       6883      50059      0.717      0.491      0.564      0.358\n",
      "                   per       3588      14780      0.743      0.468      0.555      0.259\n",
      "                   car       6531      26508      0.832      0.813      0.869      0.656\n",
      "                   bus       1789       2644       0.88      0.548      0.693      0.493\n",
      "                   tru       2048       3080       0.66      0.541      0.601      0.408\n",
      "                   cyc        463        606       0.39      0.165      0.157     0.0791\n",
      "                   mot       1786       2441      0.798      0.409       0.51      0.254\n",
      "Speed: 0.2ms preprocess, 1.1ms inference, 0.0ms loss, 0.7ms postprocess per image\n",
      "Results saved to \u001b[1m..\\..\\result\\val_result\\1.3 Bt\\v8n_2442_ta\u001b[0m\n",
      "v8n_2442 summary (fused): 158 layers, 2,904,226 parameters, 0 gradients, 7.6 GFLOPs\n",
      "Ultralytics 8.3.13  Python-3.10.13 torch-2.4.1+cu118 CUDA:0 (NVIDIA GeForce RTX 4060 Ti, 16379MiB)\n",
      "v8n_4664 summary (fused): 168 layers, 3,006,818 parameters, 0 gradients, 8.1 GFLOPs\n"
     ]
    },
    {
     "name": "stderr",
     "output_type": "stream",
     "text": [
      "\u001b[34m\u001b[1mval: \u001b[0mScanning C:\\Users\\ihman\\Desktop\\NextChip\\dataset\\labels\\test.cache... 6883 images, 0 backgrounds, 0 corrupt: 100%|██████████| 6883/6883 [00:00<?, ?it/s]"
     ]
    },
    {
     "name": "stdout",
     "output_type": "stream",
     "text": [
      "\u001b[34m\u001b[1mval: \u001b[0mWARNING  C:\\Users\\ihman\\Desktop\\NextChip\\dataset\\images\\test\\1100.jpg: 1 duplicate labels removed\n",
      "\u001b[34m\u001b[1mval: \u001b[0mWARNING  C:\\Users\\ihman\\Desktop\\NextChip\\dataset\\images\\test\\1101.jpg: 1 duplicate labels removed\n",
      "\u001b[34m\u001b[1mval: \u001b[0mWARNING  C:\\Users\\ihman\\Desktop\\NextChip\\dataset\\images\\test\\1658.jpg: 1 duplicate labels removed\n",
      "\u001b[34m\u001b[1mval: \u001b[0mWARNING  C:\\Users\\ihman\\Desktop\\NextChip\\dataset\\images\\test\\1696.jpg: 1 duplicate labels removed\n",
      "\u001b[34m\u001b[1mval: \u001b[0mWARNING  C:\\Users\\ihman\\Desktop\\NextChip\\dataset\\images\\test\\4652.jpg: 1 duplicate labels removed\n",
      "\u001b[34m\u001b[1mval: \u001b[0mWARNING  C:\\Users\\ihman\\Desktop\\NextChip\\dataset\\images\\test\\6142.jpg: 1 duplicate labels removed\n",
      "\u001b[34m\u001b[1mval: \u001b[0mWARNING  C:\\Users\\ihman\\Desktop\\NextChip\\dataset\\images\\test\\6200.jpg: 2 duplicate labels removed\n"
     ]
    },
    {
     "name": "stderr",
     "output_type": "stream",
     "text": [
      "\n",
      "                 Class     Images  Instances      Box(P          R      mAP50  mAP50-95): 100%|██████████| 431/431 [00:34<00:00, 12.47it/s]\n"
     ]
    },
    {
     "name": "stdout",
     "output_type": "stream",
     "text": [
      "                   all       6883      50059      0.722      0.495      0.569      0.361\n",
      "                   per       3588      14780      0.758      0.456      0.555      0.263\n",
      "                   car       6531      26508      0.833      0.813      0.872      0.665\n",
      "                   bus       1789       2644      0.871      0.561      0.707      0.492\n",
      "                   tru       2048       3080      0.641      0.552      0.603      0.413\n",
      "                   cyc        463        606      0.417      0.168      0.153     0.0735\n",
      "                   mot       1786       2441      0.812      0.421      0.523      0.261\n",
      "Speed: 0.2ms preprocess, 1.1ms inference, 0.0ms loss, 0.7ms postprocess per image\n",
      "Results saved to \u001b[1m..\\..\\result\\val_result\\1.3 Bt\\v8n_4664_ta\u001b[0m\n",
      "v8n_4664 summary (fused): 168 layers, 3,006,818 parameters, 0 gradients, 8.1 GFLOPs\n",
      "Ultralytics 8.3.13  Python-3.10.13 torch-2.4.1+cu118 CUDA:0 (NVIDIA GeForce RTX 4060 Ti, 16379MiB)\n",
      "v8n_6886 summary (fused): 188 layers, 3,442,498 parameters, 0 gradients, 9.1 GFLOPs\n"
     ]
    },
    {
     "name": "stderr",
     "output_type": "stream",
     "text": [
      "\u001b[34m\u001b[1mval: \u001b[0mScanning C:\\Users\\ihman\\Desktop\\NextChip\\dataset\\labels\\test.cache... 6883 images, 0 backgrounds, 0 corrupt: 100%|██████████| 6883/6883 [00:00<?, ?it/s]"
     ]
    },
    {
     "name": "stdout",
     "output_type": "stream",
     "text": [
      "\u001b[34m\u001b[1mval: \u001b[0mWARNING  C:\\Users\\ihman\\Desktop\\NextChip\\dataset\\images\\test\\1100.jpg: 1 duplicate labels removed\n",
      "\u001b[34m\u001b[1mval: \u001b[0mWARNING  C:\\Users\\ihman\\Desktop\\NextChip\\dataset\\images\\test\\1101.jpg: 1 duplicate labels removed\n",
      "\u001b[34m\u001b[1mval: \u001b[0mWARNING  C:\\Users\\ihman\\Desktop\\NextChip\\dataset\\images\\test\\1658.jpg: 1 duplicate labels removed\n",
      "\u001b[34m\u001b[1mval: \u001b[0mWARNING  C:\\Users\\ihman\\Desktop\\NextChip\\dataset\\images\\test\\1696.jpg: 1 duplicate labels removed\n",
      "\u001b[34m\u001b[1mval: \u001b[0mWARNING  C:\\Users\\ihman\\Desktop\\NextChip\\dataset\\images\\test\\4652.jpg: 1 duplicate labels removed\n",
      "\u001b[34m\u001b[1mval: \u001b[0mWARNING  C:\\Users\\ihman\\Desktop\\NextChip\\dataset\\images\\test\\6142.jpg: 1 duplicate labels removed\n",
      "\u001b[34m\u001b[1mval: \u001b[0mWARNING  C:\\Users\\ihman\\Desktop\\NextChip\\dataset\\images\\test\\6200.jpg: 2 duplicate labels removed\n"
     ]
    },
    {
     "name": "stderr",
     "output_type": "stream",
     "text": [
      "\n",
      "                 Class     Images  Instances      Box(P          R      mAP50  mAP50-95): 100%|██████████| 431/431 [00:34<00:00, 12.43it/s]\n"
     ]
    },
    {
     "name": "stdout",
     "output_type": "stream",
     "text": [
      "                   all       6883      50059      0.707      0.508      0.578      0.369\n",
      "                   per       3588      14780       0.76      0.475      0.563      0.267\n",
      "                   car       6531      26508      0.846      0.819      0.878      0.671\n",
      "                   bus       1789       2644      0.885      0.578      0.725      0.512\n",
      "                   tru       2048       3080      0.651      0.556       0.62      0.425\n",
      "                   cyc        463        606      0.346       0.19      0.148     0.0721\n",
      "                   mot       1786       2441      0.756      0.432      0.531      0.267\n",
      "Speed: 0.2ms preprocess, 1.1ms inference, 0.0ms loss, 0.6ms postprocess per image\n",
      "Results saved to \u001b[1m..\\..\\result\\val_result\\1.3 Bt\\v8n_6886_ta\u001b[0m\n",
      "v8n_6886 summary (fused): 188 layers, 3,442,498 parameters, 0 gradients, 9.1 GFLOPs\n",
      "Ultralytics 8.3.13  Python-3.10.13 torch-2.4.1+cu118 CUDA:0 (NVIDIA GeForce RTX 4060 Ti, 16379MiB)\n",
      "8s_3963_tv summary (fused): 173 layers, 11,209,954 parameters, 0 gradients, 29.5 GFLOPs\n"
     ]
    },
    {
     "name": "stderr",
     "output_type": "stream",
     "text": [
      "\u001b[34m\u001b[1mval: \u001b[0mScanning C:\\Users\\ihman\\Desktop\\NextChip\\dataset\\labels\\test.cache... 6883 images, 0 backgrounds, 0 corrupt: 100%|██████████| 6883/6883 [00:00<?, ?it/s]"
     ]
    },
    {
     "name": "stdout",
     "output_type": "stream",
     "text": [
      "\u001b[34m\u001b[1mval: \u001b[0mWARNING  C:\\Users\\ihman\\Desktop\\NextChip\\dataset\\images\\test\\1100.jpg: 1 duplicate labels removed\n",
      "\u001b[34m\u001b[1mval: \u001b[0mWARNING  C:\\Users\\ihman\\Desktop\\NextChip\\dataset\\images\\test\\1101.jpg: 1 duplicate labels removed\n",
      "\u001b[34m\u001b[1mval: \u001b[0mWARNING  C:\\Users\\ihman\\Desktop\\NextChip\\dataset\\images\\test\\1658.jpg: 1 duplicate labels removed\n",
      "\u001b[34m\u001b[1mval: \u001b[0mWARNING  C:\\Users\\ihman\\Desktop\\NextChip\\dataset\\images\\test\\1696.jpg: 1 duplicate labels removed\n",
      "\u001b[34m\u001b[1mval: \u001b[0mWARNING  C:\\Users\\ihman\\Desktop\\NextChip\\dataset\\images\\test\\4652.jpg: 1 duplicate labels removed\n",
      "\u001b[34m\u001b[1mval: \u001b[0mWARNING  C:\\Users\\ihman\\Desktop\\NextChip\\dataset\\images\\test\\6142.jpg: 1 duplicate labels removed\n",
      "\u001b[34m\u001b[1mval: \u001b[0mWARNING  C:\\Users\\ihman\\Desktop\\NextChip\\dataset\\images\\test\\6200.jpg: 2 duplicate labels removed\n"
     ]
    },
    {
     "name": "stderr",
     "output_type": "stream",
     "text": [
      "\n",
      "                 Class     Images  Instances      Box(P          R      mAP50  mAP50-95): 100%|██████████| 431/431 [00:42<00:00, 10.11it/s]\n"
     ]
    },
    {
     "name": "stdout",
     "output_type": "stream",
     "text": [
      "                   all       6883      50059      0.757      0.593      0.665      0.449\n",
      "                   per       3588      14780      0.799      0.564      0.658      0.358\n",
      "                   car       6531      26508      0.864      0.856      0.913      0.735\n",
      "                   bus       1789       2644      0.891       0.71      0.819       0.61\n",
      "                   tru       2048       3080      0.743      0.667      0.729      0.522\n",
      "                   cyc        463        606      0.418      0.273      0.246      0.128\n",
      "                   mot       1786       2441      0.827      0.489      0.624      0.341\n",
      "Speed: 0.2ms preprocess, 2.4ms inference, 0.0ms loss, 0.6ms postprocess per image\n",
      "Results saved to \u001b[1m..\\..\\result\\val_result\\1.4 P2 Bt\\v8s_3963_tv\u001b[0m\n",
      "8s_3963_tv summary (fused): 173 layers, 11,209,954 parameters, 0 gradients, 29.5 GFLOPs\n",
      "Ultralytics 8.3.13  Python-3.10.13 torch-2.4.1+cu118 CUDA:0 (NVIDIA GeForce RTX 4060 Ti, 16379MiB)\n",
      "v8s_org_tv summary (fused): 168 layers, 11,127,906 parameters, 0 gradients, 28.4 GFLOPs\n"
     ]
    },
    {
     "name": "stderr",
     "output_type": "stream",
     "text": [
      "\u001b[34m\u001b[1mval: \u001b[0mScanning C:\\Users\\ihman\\Desktop\\NextChip\\dataset\\labels\\test.cache... 6883 images, 0 backgrounds, 0 corrupt: 100%|██████████| 6883/6883 [00:00<?, ?it/s]"
     ]
    },
    {
     "name": "stdout",
     "output_type": "stream",
     "text": [
      "\u001b[34m\u001b[1mval: \u001b[0mWARNING  C:\\Users\\ihman\\Desktop\\NextChip\\dataset\\images\\test\\1100.jpg: 1 duplicate labels removed\n",
      "\u001b[34m\u001b[1mval: \u001b[0mWARNING  C:\\Users\\ihman\\Desktop\\NextChip\\dataset\\images\\test\\1101.jpg: 1 duplicate labels removed\n",
      "\u001b[34m\u001b[1mval: \u001b[0mWARNING  C:\\Users\\ihman\\Desktop\\NextChip\\dataset\\images\\test\\1658.jpg: 1 duplicate labels removed\n",
      "\u001b[34m\u001b[1mval: \u001b[0mWARNING  C:\\Users\\ihman\\Desktop\\NextChip\\dataset\\images\\test\\1696.jpg: 1 duplicate labels removed\n",
      "\u001b[34m\u001b[1mval: \u001b[0mWARNING  C:\\Users\\ihman\\Desktop\\NextChip\\dataset\\images\\test\\4652.jpg: 1 duplicate labels removed\n",
      "\u001b[34m\u001b[1mval: \u001b[0mWARNING  C:\\Users\\ihman\\Desktop\\NextChip\\dataset\\images\\test\\6142.jpg: 1 duplicate labels removed\n",
      "\u001b[34m\u001b[1mval: \u001b[0mWARNING  C:\\Users\\ihman\\Desktop\\NextChip\\dataset\\images\\test\\6200.jpg: 2 duplicate labels removed\n"
     ]
    },
    {
     "name": "stderr",
     "output_type": "stream",
     "text": [
      "\n",
      "                 Class     Images  Instances      Box(P          R      mAP50  mAP50-95): 100%|██████████| 431/431 [00:42<00:00, 10.21it/s]\n"
     ]
    },
    {
     "name": "stdout",
     "output_type": "stream",
     "text": [
      "                   all       6883      50059      0.727      0.612      0.662       0.44\n",
      "                   per       3588      14780       0.76      0.575      0.653      0.353\n",
      "                   car       6531      26508      0.841      0.866       0.91      0.734\n",
      "                   bus       1789       2644      0.878      0.714      0.809      0.598\n",
      "                   tru       2048       3080      0.712      0.641      0.697      0.498\n",
      "                   cyc        463        606      0.387      0.375      0.284      0.121\n",
      "                   mot       1786       2441      0.785      0.501      0.618      0.336\n",
      "Speed: 0.2ms preprocess, 2.3ms inference, 0.0ms loss, 0.6ms postprocess per image\n",
      "Results saved to \u001b[1m..\\..\\result\\val_result\\1.4 P2 Bt\\v8s_org_tv\u001b[0m\n",
      "v8s_org_tv summary (fused): 168 layers, 11,127,906 parameters, 0 gradients, 28.4 GFLOPs\n",
      "Ultralytics 8.3.13  Python-3.10.13 torch-2.4.1+cu118 CUDA:0 (NVIDIA GeForce RTX 4060 Ti, 16379MiB)\n",
      "sP2_3963_tv summary (fused): 200 layers, 11,407,202 parameters, 0 gradients, 33.4 GFLOPs\n"
     ]
    },
    {
     "name": "stderr",
     "output_type": "stream",
     "text": [
      "\u001b[34m\u001b[1mval: \u001b[0mScanning C:\\Users\\ihman\\Desktop\\NextChip\\dataset\\labels\\test.cache... 6883 images, 0 backgrounds, 0 corrupt: 100%|██████████| 6883/6883 [00:00<?, ?it/s]"
     ]
    },
    {
     "name": "stdout",
     "output_type": "stream",
     "text": [
      "\u001b[34m\u001b[1mval: \u001b[0mWARNING  C:\\Users\\ihman\\Desktop\\NextChip\\dataset\\images\\test\\1100.jpg: 1 duplicate labels removed\n",
      "\u001b[34m\u001b[1mval: \u001b[0mWARNING  C:\\Users\\ihman\\Desktop\\NextChip\\dataset\\images\\test\\1101.jpg: 1 duplicate labels removed\n",
      "\u001b[34m\u001b[1mval: \u001b[0mWARNING  C:\\Users\\ihman\\Desktop\\NextChip\\dataset\\images\\test\\1658.jpg: 1 duplicate labels removed\n",
      "\u001b[34m\u001b[1mval: \u001b[0mWARNING  C:\\Users\\ihman\\Desktop\\NextChip\\dataset\\images\\test\\1696.jpg: 1 duplicate labels removed\n",
      "\u001b[34m\u001b[1mval: \u001b[0mWARNING  C:\\Users\\ihman\\Desktop\\NextChip\\dataset\\images\\test\\4652.jpg: 1 duplicate labels removed\n",
      "\u001b[34m\u001b[1mval: \u001b[0mWARNING  C:\\Users\\ihman\\Desktop\\NextChip\\dataset\\images\\test\\6142.jpg: 1 duplicate labels removed\n",
      "\u001b[34m\u001b[1mval: \u001b[0mWARNING  C:\\Users\\ihman\\Desktop\\NextChip\\dataset\\images\\test\\6200.jpg: 2 duplicate labels removed\n"
     ]
    },
    {
     "name": "stderr",
     "output_type": "stream",
     "text": [
      "\n",
      "                 Class     Images  Instances      Box(P          R      mAP50  mAP50-95): 100%|██████████| 431/431 [00:48<00:00,  8.97it/s]\n"
     ]
    },
    {
     "name": "stdout",
     "output_type": "stream",
     "text": [
      "                   all       6883      50059      0.744      0.614       0.68      0.464\n",
      "                   per       3588      14780      0.798      0.587      0.682       0.39\n",
      "                   car       6531      26508      0.858      0.867      0.918      0.751\n",
      "                   bus       1789       2644      0.854      0.744      0.832      0.628\n",
      "                   tru       2048       3080      0.764      0.656      0.732      0.523\n",
      "                   cyc        463        606      0.384      0.297      0.252      0.123\n",
      "                   mot       1786       2441      0.805      0.533      0.664      0.371\n",
      "Speed: 0.2ms preprocess, 3.2ms inference, 0.0ms loss, 0.6ms postprocess per image\n",
      "Results saved to \u001b[1m..\\..\\result\\val_result\\1.4 P2 Bt\\v8s_P2_3963_tv\u001b[0m\n",
      "sP2_3963_tv summary (fused): 200 layers, 11,407,202 parameters, 0 gradients, 33.4 GFLOPs\n",
      "Ultralytics 8.3.13  Python-3.10.13 torch-2.4.1+cu118 CUDA:0 (NVIDIA GeForce RTX 4060 Ti, 16379MiB)\n",
      "sP2_9963_tv summary (fused): 210 layers, 11,448,290 parameters, 0 gradients, 35.5 GFLOPs\n"
     ]
    },
    {
     "name": "stderr",
     "output_type": "stream",
     "text": [
      "\u001b[34m\u001b[1mval: \u001b[0mScanning C:\\Users\\ihman\\Desktop\\NextChip\\dataset\\labels\\test.cache... 6883 images, 0 backgrounds, 0 corrupt: 100%|██████████| 6883/6883 [00:00<?, ?it/s]"
     ]
    },
    {
     "name": "stdout",
     "output_type": "stream",
     "text": [
      "\u001b[34m\u001b[1mval: \u001b[0mWARNING  C:\\Users\\ihman\\Desktop\\NextChip\\dataset\\images\\test\\1100.jpg: 1 duplicate labels removed\n",
      "\u001b[34m\u001b[1mval: \u001b[0mWARNING  C:\\Users\\ihman\\Desktop\\NextChip\\dataset\\images\\test\\1101.jpg: 1 duplicate labels removed\n",
      "\u001b[34m\u001b[1mval: \u001b[0mWARNING  C:\\Users\\ihman\\Desktop\\NextChip\\dataset\\images\\test\\1658.jpg: 1 duplicate labels removed\n",
      "\u001b[34m\u001b[1mval: \u001b[0mWARNING  C:\\Users\\ihman\\Desktop\\NextChip\\dataset\\images\\test\\1696.jpg: 1 duplicate labels removed\n",
      "\u001b[34m\u001b[1mval: \u001b[0mWARNING  C:\\Users\\ihman\\Desktop\\NextChip\\dataset\\images\\test\\4652.jpg: 1 duplicate labels removed\n",
      "\u001b[34m\u001b[1mval: \u001b[0mWARNING  C:\\Users\\ihman\\Desktop\\NextChip\\dataset\\images\\test\\6142.jpg: 1 duplicate labels removed\n",
      "\u001b[34m\u001b[1mval: \u001b[0mWARNING  C:\\Users\\ihman\\Desktop\\NextChip\\dataset\\images\\test\\6200.jpg: 2 duplicate labels removed\n"
     ]
    },
    {
     "name": "stderr",
     "output_type": "stream",
     "text": [
      "\n",
      "                 Class     Images  Instances      Box(P          R      mAP50  mAP50-95): 100%|██████████| 431/431 [01:30<00:00,  4.75it/s]\n"
     ]
    },
    {
     "name": "stdout",
     "output_type": "stream",
     "text": [
      "                   all       6883      50059       0.74      0.644      0.696      0.479\n",
      "                   per       3588      14780      0.781      0.603      0.689      0.394\n",
      "                   car       6531      26508      0.852      0.876      0.922      0.759\n",
      "                   bus       1789       2644      0.869      0.756       0.84      0.639\n",
      "                   tru       2048       3080      0.753      0.686      0.744      0.549\n",
      "                   cyc        463        606      0.396      0.398      0.332      0.167\n",
      "                   mot       1786       2441      0.788      0.547      0.646      0.366\n",
      "Speed: 0.2ms preprocess, 3.5ms inference, 0.0ms loss, 0.6ms postprocess per image\n",
      "Results saved to \u001b[1m..\\..\\result\\val_result\\1.4 P2 Bt\\v8s_P2_9963_tv\u001b[0m\n",
      "sP2_9963_tv summary (fused): 210 layers, 11,448,290 parameters, 0 gradients, 35.5 GFLOPs\n",
      "Ultralytics 8.3.13  Python-3.10.13 torch-2.4.1+cu118 CUDA:0 (NVIDIA GeForce RTX 4060 Ti, 16379MiB)\n",
      "sP2_B8 c c2f_N8 c c2f_tv summary (fused): 195 layers, 11,325,154 parameters, 0 gradients, 32.4 GFLOPs\n"
     ]
    },
    {
     "name": "stderr",
     "output_type": "stream",
     "text": [
      "\u001b[34m\u001b[1mval: \u001b[0mScanning C:\\Users\\ihman\\Desktop\\NextChip\\dataset\\labels\\test.cache... 6883 images, 0 backgrounds, 0 corrupt: 100%|██████████| 6883/6883 [00:00<?, ?it/s]"
     ]
    },
    {
     "name": "stdout",
     "output_type": "stream",
     "text": [
      "\u001b[34m\u001b[1mval: \u001b[0mWARNING  C:\\Users\\ihman\\Desktop\\NextChip\\dataset\\images\\test\\1100.jpg: 1 duplicate labels removed\n",
      "\u001b[34m\u001b[1mval: \u001b[0mWARNING  C:\\Users\\ihman\\Desktop\\NextChip\\dataset\\images\\test\\1101.jpg: 1 duplicate labels removed\n",
      "\u001b[34m\u001b[1mval: \u001b[0mWARNING  C:\\Users\\ihman\\Desktop\\NextChip\\dataset\\images\\test\\1658.jpg: 1 duplicate labels removed\n",
      "\u001b[34m\u001b[1mval: \u001b[0mWARNING  C:\\Users\\ihman\\Desktop\\NextChip\\dataset\\images\\test\\1696.jpg: 1 duplicate labels removed\n",
      "\u001b[34m\u001b[1mval: \u001b[0mWARNING  C:\\Users\\ihman\\Desktop\\NextChip\\dataset\\images\\test\\4652.jpg: 1 duplicate labels removed\n",
      "\u001b[34m\u001b[1mval: \u001b[0mWARNING  C:\\Users\\ihman\\Desktop\\NextChip\\dataset\\images\\test\\6142.jpg: 1 duplicate labels removed\n",
      "\u001b[34m\u001b[1mval: \u001b[0mWARNING  C:\\Users\\ihman\\Desktop\\NextChip\\dataset\\images\\test\\6200.jpg: 2 duplicate labels removed\n"
     ]
    },
    {
     "name": "stderr",
     "output_type": "stream",
     "text": [
      "\n",
      "                 Class     Images  Instances      Box(P          R      mAP50  mAP50-95): 100%|██████████| 431/431 [01:28<00:00,  4.88it/s]\n"
     ]
    },
    {
     "name": "stdout",
     "output_type": "stream",
     "text": [
      "                   all       6883      50059      0.778       0.61      0.678      0.465\n",
      "                   per       3588      14780      0.835      0.572      0.689      0.392\n",
      "                   car       6531      26508      0.876      0.857      0.921      0.754\n",
      "                   bus       1789       2644      0.902      0.736      0.844      0.636\n",
      "                   tru       2048       3080       0.77      0.661      0.734       0.53\n",
      "                   cyc        463        606      0.433      0.324      0.237       0.11\n",
      "                   mot       1786       2441      0.849      0.512      0.646      0.367\n",
      "Speed: 0.2ms preprocess, 3.1ms inference, 0.0ms loss, 0.6ms postprocess per image\n",
      "Results saved to \u001b[1m..\\..\\result\\val_result\\1.4 P2 Bt\\v8s_P2_tv\u001b[0m\n",
      "sP2_B8 c c2f_N8 c c2f_tv summary (fused): 195 layers, 11,325,154 parameters, 0 gradients, 32.4 GFLOPs\n",
      "Ultralytics 8.3.13  Python-3.10.13 torch-2.4.1+cu118 CUDA:0 (NVIDIA GeForce RTX 4060 Ti, 16379MiB)\n",
      "v5n_b8n5_2442 summary (fused): 170 layers, 2,627,938 parameters, 0 gradients, 6.9 GFLOPs\n"
     ]
    },
    {
     "name": "stderr",
     "output_type": "stream",
     "text": [
      "\u001b[34m\u001b[1mval: \u001b[0mScanning C:\\Users\\ihman\\Desktop\\NextChip\\dataset\\labels\\test.cache... 6883 images, 0 backgrounds, 0 corrupt: 100%|██████████| 6883/6883 [00:00<?, ?it/s]"
     ]
    },
    {
     "name": "stdout",
     "output_type": "stream",
     "text": [
      "\u001b[34m\u001b[1mval: \u001b[0mWARNING  C:\\Users\\ihman\\Desktop\\NextChip\\dataset\\images\\test\\1100.jpg: 1 duplicate labels removed\n",
      "\u001b[34m\u001b[1mval: \u001b[0mWARNING  C:\\Users\\ihman\\Desktop\\NextChip\\dataset\\images\\test\\1101.jpg: 1 duplicate labels removed\n",
      "\u001b[34m\u001b[1mval: \u001b[0mWARNING  C:\\Users\\ihman\\Desktop\\NextChip\\dataset\\images\\test\\1658.jpg: 1 duplicate labels removed\n",
      "\u001b[34m\u001b[1mval: \u001b[0mWARNING  C:\\Users\\ihman\\Desktop\\NextChip\\dataset\\images\\test\\1696.jpg: 1 duplicate labels removed\n",
      "\u001b[34m\u001b[1mval: \u001b[0mWARNING  C:\\Users\\ihman\\Desktop\\NextChip\\dataset\\images\\test\\4652.jpg: 1 duplicate labels removed\n",
      "\u001b[34m\u001b[1mval: \u001b[0mWARNING  C:\\Users\\ihman\\Desktop\\NextChip\\dataset\\images\\test\\6142.jpg: 1 duplicate labels removed\n",
      "\u001b[34m\u001b[1mval: \u001b[0mWARNING  C:\\Users\\ihman\\Desktop\\NextChip\\dataset\\images\\test\\6200.jpg: 2 duplicate labels removed\n"
     ]
    },
    {
     "name": "stderr",
     "output_type": "stream",
     "text": [
      "\n",
      "                 Class     Images  Instances      Box(P          R      mAP50  mAP50-95): 100%|██████████| 431/431 [01:14<00:00,  5.75it/s]\n"
     ]
    },
    {
     "name": "stdout",
     "output_type": "stream",
     "text": [
      "                   all       6883      50059      0.704      0.497      0.562      0.353\n",
      "                   per       3588      14780      0.727      0.468      0.552      0.256\n",
      "                   car       6531      26508      0.812      0.817      0.868      0.656\n",
      "                   bus       1789       2644      0.868      0.541      0.686      0.478\n",
      "                   tru       2048       3080      0.616      0.554      0.587      0.394\n",
      "                   cyc        463        606      0.414      0.177      0.164     0.0813\n",
      "                   mot       1786       2441      0.785      0.429      0.511      0.251\n",
      "Speed: 0.2ms preprocess, 1.1ms inference, 0.0ms loss, 0.6ms postprocess per image\n",
      "Results saved to \u001b[1m..\\..\\result\\val_result\\2.1 QE\\v5n_b8n5_2442_ta\u001b[0m\n",
      "v5n_b8n5_2442 summary (fused): 170 layers, 2,627,938 parameters, 0 gradients, 6.9 GFLOPs\n",
      "Ultralytics 8.3.13  Python-3.10.13 torch-2.4.1+cu118 CUDA:0 (NVIDIA GeForce RTX 4060 Ti, 16379MiB)\n",
      "v5n_b8n5_4664 summary (fused): 180 layers, 2,731,826 parameters, 0 gradients, 7.7 GFLOPs\n"
     ]
    },
    {
     "name": "stderr",
     "output_type": "stream",
     "text": [
      "\u001b[34m\u001b[1mval: \u001b[0mScanning C:\\Users\\ihman\\Desktop\\NextChip\\dataset\\labels\\test.cache... 6883 images, 0 backgrounds, 0 corrupt: 100%|██████████| 6883/6883 [00:00<?, ?it/s]"
     ]
    },
    {
     "name": "stdout",
     "output_type": "stream",
     "text": [
      "\u001b[34m\u001b[1mval: \u001b[0mWARNING  C:\\Users\\ihman\\Desktop\\NextChip\\dataset\\images\\test\\1100.jpg: 1 duplicate labels removed\n",
      "\u001b[34m\u001b[1mval: \u001b[0mWARNING  C:\\Users\\ihman\\Desktop\\NextChip\\dataset\\images\\test\\1101.jpg: 1 duplicate labels removed\n",
      "\u001b[34m\u001b[1mval: \u001b[0mWARNING  C:\\Users\\ihman\\Desktop\\NextChip\\dataset\\images\\test\\1658.jpg: 1 duplicate labels removed\n",
      "\u001b[34m\u001b[1mval: \u001b[0mWARNING  C:\\Users\\ihman\\Desktop\\NextChip\\dataset\\images\\test\\1696.jpg: 1 duplicate labels removed\n",
      "\u001b[34m\u001b[1mval: \u001b[0mWARNING  C:\\Users\\ihman\\Desktop\\NextChip\\dataset\\images\\test\\4652.jpg: 1 duplicate labels removed\n",
      "\u001b[34m\u001b[1mval: \u001b[0mWARNING  C:\\Users\\ihman\\Desktop\\NextChip\\dataset\\images\\test\\6142.jpg: 1 duplicate labels removed\n",
      "\u001b[34m\u001b[1mval: \u001b[0mWARNING  C:\\Users\\ihman\\Desktop\\NextChip\\dataset\\images\\test\\6200.jpg: 2 duplicate labels removed\n"
     ]
    },
    {
     "name": "stderr",
     "output_type": "stream",
     "text": [
      "\n",
      "                 Class     Images  Instances      Box(P          R      mAP50  mAP50-95): 100%|██████████| 431/431 [01:14<00:00,  5.76it/s] \n"
     ]
    },
    {
     "name": "stdout",
     "output_type": "stream",
     "text": [
      "                   all       6883      50059      0.689      0.502       0.56      0.354\n",
      "                   per       3588      14780      0.729      0.477      0.554       0.26\n",
      "                   car       6531      26508      0.819      0.817      0.871       0.66\n",
      "                   bus       1789       2644      0.854      0.556      0.693      0.483\n",
      "                   tru       2048       3080      0.614      0.569      0.614      0.414\n",
      "                   cyc        463        606      0.367      0.173      0.123     0.0502\n",
      "                   mot       1786       2441       0.75       0.42      0.505      0.254\n",
      "Speed: 0.2ms preprocess, 1.1ms inference, 0.0ms loss, 0.6ms postprocess per image\n",
      "Results saved to \u001b[1m..\\..\\result\\val_result\\2.1 QE\\v5n_b8n5_4664_ta\u001b[0m\n",
      "v5n_b8n5_4664 summary (fused): 180 layers, 2,731,826 parameters, 0 gradients, 7.7 GFLOPs\n",
      "Ultralytics 8.3.13  Python-3.10.13 torch-2.4.1+cu118 CUDA:0 (NVIDIA GeForce RTX 4060 Ti, 16379MiB)\n",
      "v5n_b8n5_6886 summary (fused): 200 layers, 3,167,506 parameters, 0 gradients, 8.8 GFLOPs\n"
     ]
    },
    {
     "name": "stderr",
     "output_type": "stream",
     "text": [
      "\u001b[34m\u001b[1mval: \u001b[0mScanning C:\\Users\\ihman\\Desktop\\NextChip\\dataset\\labels\\test.cache... 6883 images, 0 backgrounds, 0 corrupt: 100%|██████████| 6883/6883 [00:00<?, ?it/s]"
     ]
    },
    {
     "name": "stdout",
     "output_type": "stream",
     "text": [
      "\u001b[34m\u001b[1mval: \u001b[0mWARNING  C:\\Users\\ihman\\Desktop\\NextChip\\dataset\\images\\test\\1100.jpg: 1 duplicate labels removed\n",
      "\u001b[34m\u001b[1mval: \u001b[0mWARNING  C:\\Users\\ihman\\Desktop\\NextChip\\dataset\\images\\test\\1101.jpg: 1 duplicate labels removed\n",
      "\u001b[34m\u001b[1mval: \u001b[0mWARNING  C:\\Users\\ihman\\Desktop\\NextChip\\dataset\\images\\test\\1658.jpg: 1 duplicate labels removed\n",
      "\u001b[34m\u001b[1mval: \u001b[0mWARNING  C:\\Users\\ihman\\Desktop\\NextChip\\dataset\\images\\test\\1696.jpg: 1 duplicate labels removed\n",
      "\u001b[34m\u001b[1mval: \u001b[0mWARNING  C:\\Users\\ihman\\Desktop\\NextChip\\dataset\\images\\test\\4652.jpg: 1 duplicate labels removed\n",
      "\u001b[34m\u001b[1mval: \u001b[0mWARNING  C:\\Users\\ihman\\Desktop\\NextChip\\dataset\\images\\test\\6142.jpg: 1 duplicate labels removed\n",
      "\u001b[34m\u001b[1mval: \u001b[0mWARNING  C:\\Users\\ihman\\Desktop\\NextChip\\dataset\\images\\test\\6200.jpg: 2 duplicate labels removed\n"
     ]
    },
    {
     "name": "stderr",
     "output_type": "stream",
     "text": [
      "\n",
      "                 Class     Images  Instances      Box(P          R      mAP50  mAP50-95): 100%|██████████| 431/431 [00:34<00:00, 12.52it/s]\n"
     ]
    },
    {
     "name": "stdout",
     "output_type": "stream",
     "text": [
      "                   all       6883      50059      0.685      0.502      0.558      0.355\n",
      "                   per       3588      14780      0.711      0.487       0.56      0.263\n",
      "                   car       6531      26508       0.82      0.822      0.871      0.664\n",
      "                   bus       1789       2644      0.837      0.579      0.695      0.487\n",
      "                   tru       2048       3080      0.609      0.553      0.598       0.41\n",
      "                   cyc        463        606      0.359       0.16      0.113     0.0517\n",
      "                   mot       1786       2441      0.771      0.414      0.511      0.254\n",
      "Speed: 0.2ms preprocess, 1.1ms inference, 0.0ms loss, 0.6ms postprocess per image\n",
      "Results saved to \u001b[1m..\\..\\result\\val_result\\2.1 QE\\v5n_b8n5_6886_ta\u001b[0m\n",
      "v5n_b8n5_6886 summary (fused): 200 layers, 3,167,506 parameters, 0 gradients, 8.8 GFLOPs\n",
      "Ultralytics 8.3.13  Python-3.10.13 torch-2.4.1+cu118 CUDA:0 (NVIDIA GeForce RTX 4060 Ti, 16379MiB)\n",
      "v8n_b5n8_2442 summary (fused): 166 layers, 2,687,922 parameters, 0 gradients, 7.3 GFLOPs\n"
     ]
    },
    {
     "name": "stderr",
     "output_type": "stream",
     "text": [
      "\u001b[34m\u001b[1mval: \u001b[0mScanning C:\\Users\\ihman\\Desktop\\NextChip\\dataset\\labels\\test.cache... 6883 images, 0 backgrounds, 0 corrupt: 100%|██████████| 6883/6883 [00:00<?, ?it/s]"
     ]
    },
    {
     "name": "stdout",
     "output_type": "stream",
     "text": [
      "\u001b[34m\u001b[1mval: \u001b[0mWARNING  C:\\Users\\ihman\\Desktop\\NextChip\\dataset\\images\\test\\1100.jpg: 1 duplicate labels removed\n",
      "\u001b[34m\u001b[1mval: \u001b[0mWARNING  C:\\Users\\ihman\\Desktop\\NextChip\\dataset\\images\\test\\1101.jpg: 1 duplicate labels removed\n",
      "\u001b[34m\u001b[1mval: \u001b[0mWARNING  C:\\Users\\ihman\\Desktop\\NextChip\\dataset\\images\\test\\1658.jpg: 1 duplicate labels removed\n",
      "\u001b[34m\u001b[1mval: \u001b[0mWARNING  C:\\Users\\ihman\\Desktop\\NextChip\\dataset\\images\\test\\1696.jpg: 1 duplicate labels removed\n",
      "\u001b[34m\u001b[1mval: \u001b[0mWARNING  C:\\Users\\ihman\\Desktop\\NextChip\\dataset\\images\\test\\4652.jpg: 1 duplicate labels removed\n",
      "\u001b[34m\u001b[1mval: \u001b[0mWARNING  C:\\Users\\ihman\\Desktop\\NextChip\\dataset\\images\\test\\6142.jpg: 1 duplicate labels removed\n",
      "\u001b[34m\u001b[1mval: \u001b[0mWARNING  C:\\Users\\ihman\\Desktop\\NextChip\\dataset\\images\\test\\6200.jpg: 2 duplicate labels removed\n"
     ]
    },
    {
     "name": "stderr",
     "output_type": "stream",
     "text": [
      "\n",
      "                 Class     Images  Instances      Box(P          R      mAP50  mAP50-95): 100%|██████████| 431/431 [00:34<00:00, 12.50it/s]\n"
     ]
    },
    {
     "name": "stdout",
     "output_type": "stream",
     "text": [
      "                   all       6883      50059      0.687      0.492      0.556       0.35\n",
      "                   per       3588      14780      0.723      0.463      0.544      0.253\n",
      "                   car       6531      26508      0.826       0.81      0.865      0.654\n",
      "                   bus       1789       2644      0.822      0.552       0.68      0.474\n",
      "                   tru       2048       3080       0.63      0.552      0.593      0.405\n",
      "                   cyc        463        606      0.365      0.155      0.149     0.0723\n",
      "                   mot       1786       2441      0.759      0.422      0.507      0.244\n",
      "Speed: 0.2ms preprocess, 1.0ms inference, 0.0ms loss, 0.7ms postprocess per image\n",
      "Results saved to \u001b[1m..\\..\\result\\val_result\\2.1 QE\\v8n_b5n8_2442_ta\u001b[0m\n",
      "v8n_b5n8_2442 summary (fused): 166 layers, 2,687,922 parameters, 0 gradients, 7.3 GFLOPs\n",
      "Ultralytics 8.3.13  Python-3.10.13 torch-2.4.1+cu118 CUDA:0 (NVIDIA GeForce RTX 4060 Ti, 16379MiB)\n",
      "v8n_b5n8_4664 summary (fused): 176 layers, 2,738,018 parameters, 0 gradients, 7.3 GFLOPs\n"
     ]
    },
    {
     "name": "stderr",
     "output_type": "stream",
     "text": [
      "\u001b[34m\u001b[1mval: \u001b[0mScanning C:\\Users\\ihman\\Desktop\\NextChip\\dataset\\labels\\test.cache... 6883 images, 0 backgrounds, 0 corrupt: 100%|██████████| 6883/6883 [00:00<?, ?it/s]"
     ]
    },
    {
     "name": "stdout",
     "output_type": "stream",
     "text": [
      "\u001b[34m\u001b[1mval: \u001b[0mWARNING  C:\\Users\\ihman\\Desktop\\NextChip\\dataset\\images\\test\\1100.jpg: 1 duplicate labels removed\n",
      "\u001b[34m\u001b[1mval: \u001b[0mWARNING  C:\\Users\\ihman\\Desktop\\NextChip\\dataset\\images\\test\\1101.jpg: 1 duplicate labels removed\n",
      "\u001b[34m\u001b[1mval: \u001b[0mWARNING  C:\\Users\\ihman\\Desktop\\NextChip\\dataset\\images\\test\\1658.jpg: 1 duplicate labels removed\n",
      "\u001b[34m\u001b[1mval: \u001b[0mWARNING  C:\\Users\\ihman\\Desktop\\NextChip\\dataset\\images\\test\\1696.jpg: 1 duplicate labels removed\n",
      "\u001b[34m\u001b[1mval: \u001b[0mWARNING  C:\\Users\\ihman\\Desktop\\NextChip\\dataset\\images\\test\\4652.jpg: 1 duplicate labels removed\n",
      "\u001b[34m\u001b[1mval: \u001b[0mWARNING  C:\\Users\\ihman\\Desktop\\NextChip\\dataset\\images\\test\\6142.jpg: 1 duplicate labels removed\n",
      "\u001b[34m\u001b[1mval: \u001b[0mWARNING  C:\\Users\\ihman\\Desktop\\NextChip\\dataset\\images\\test\\6200.jpg: 2 duplicate labels removed\n"
     ]
    },
    {
     "name": "stderr",
     "output_type": "stream",
     "text": [
      "\n",
      "                 Class     Images  Instances      Box(P          R      mAP50  mAP50-95): 100%|██████████| 431/431 [00:34<00:00, 12.52it/s]\n"
     ]
    },
    {
     "name": "stdout",
     "output_type": "stream",
     "text": [
      "                   all       6883      50059      0.718      0.485      0.555      0.351\n",
      "                   per       3588      14780      0.769      0.447      0.553      0.257\n",
      "                   car       6531      26508      0.834       0.81      0.868      0.654\n",
      "                   bus       1789       2644      0.828      0.554      0.681       0.48\n",
      "                   tru       2048       3080      0.618       0.53      0.585      0.399\n",
      "                   cyc        463        606       0.46      0.153       0.14     0.0685\n",
      "                   mot       1786       2441      0.796      0.414      0.506      0.247\n",
      "Speed: 0.2ms preprocess, 1.0ms inference, 0.0ms loss, 0.7ms postprocess per image\n",
      "Results saved to \u001b[1m..\\..\\result\\val_result\\2.1 QE\\v8n_b5n8_4664_ta\u001b[0m\n",
      "v8n_b5n8_4664 summary (fused): 176 layers, 2,738,018 parameters, 0 gradients, 7.3 GFLOPs\n",
      "Ultralytics 8.3.13  Python-3.10.13 torch-2.4.1+cu118 CUDA:0 (NVIDIA GeForce RTX 4060 Ti, 16379MiB)\n",
      "v8n_b5n8_6886 summary (fused): 196 layers, 2,956,098 parameters, 0 gradients, 7.8 GFLOPs\n"
     ]
    },
    {
     "name": "stderr",
     "output_type": "stream",
     "text": [
      "\u001b[34m\u001b[1mval: \u001b[0mScanning C:\\Users\\ihman\\Desktop\\NextChip\\dataset\\labels\\test.cache... 6883 images, 0 backgrounds, 0 corrupt: 100%|██████████| 6883/6883 [00:00<?, ?it/s]"
     ]
    },
    {
     "name": "stdout",
     "output_type": "stream",
     "text": [
      "\u001b[34m\u001b[1mval: \u001b[0mWARNING  C:\\Users\\ihman\\Desktop\\NextChip\\dataset\\images\\test\\1100.jpg: 1 duplicate labels removed\n",
      "\u001b[34m\u001b[1mval: \u001b[0mWARNING  C:\\Users\\ihman\\Desktop\\NextChip\\dataset\\images\\test\\1101.jpg: 1 duplicate labels removed\n",
      "\u001b[34m\u001b[1mval: \u001b[0mWARNING  C:\\Users\\ihman\\Desktop\\NextChip\\dataset\\images\\test\\1658.jpg: 1 duplicate labels removed\n",
      "\u001b[34m\u001b[1mval: \u001b[0mWARNING  C:\\Users\\ihman\\Desktop\\NextChip\\dataset\\images\\test\\1696.jpg: 1 duplicate labels removed\n",
      "\u001b[34m\u001b[1mval: \u001b[0mWARNING  C:\\Users\\ihman\\Desktop\\NextChip\\dataset\\images\\test\\4652.jpg: 1 duplicate labels removed\n",
      "\u001b[34m\u001b[1mval: \u001b[0mWARNING  C:\\Users\\ihman\\Desktop\\NextChip\\dataset\\images\\test\\6142.jpg: 1 duplicate labels removed\n",
      "\u001b[34m\u001b[1mval: \u001b[0mWARNING  C:\\Users\\ihman\\Desktop\\NextChip\\dataset\\images\\test\\6200.jpg: 2 duplicate labels removed\n"
     ]
    },
    {
     "name": "stderr",
     "output_type": "stream",
     "text": [
      "\n",
      "                 Class     Images  Instances      Box(P          R      mAP50  mAP50-95): 100%|██████████| 431/431 [00:34<00:00, 12.49it/s]\n"
     ]
    },
    {
     "name": "stdout",
     "output_type": "stream",
     "text": [
      "                   all       6883      50059      0.676      0.505      0.559      0.355\n",
      "                   per       3588      14780      0.725      0.479      0.554       0.26\n",
      "                   car       6531      26508       0.82      0.821      0.874      0.663\n",
      "                   bus       1789       2644      0.846      0.596       0.71      0.497\n",
      "                   tru       2048       3080      0.612      0.569      0.605      0.408\n",
      "                   cyc        463        606      0.264      0.152      0.107     0.0476\n",
      "                   mot       1786       2441      0.787      0.411      0.502       0.25\n",
      "Speed: 0.2ms preprocess, 1.1ms inference, 0.0ms loss, 0.6ms postprocess per image\n",
      "Results saved to \u001b[1m..\\..\\result\\val_result\\2.1 QE\\v8n_b5n8_6886_ta\u001b[0m\n",
      "v8n_b5n8_6886 summary (fused): 196 layers, 2,956,098 parameters, 0 gradients, 7.8 GFLOPs\n",
      "Ultralytics 8.3.13  Python-3.10.13 torch-2.4.1+cu118 CUDA:0 (NVIDIA GeForce RTX 4060 Ti, 16379MiB)\n",
      "nP2_B8 c c2f_N8 SF c c3g_t summary (fused): 260 layers, 2,542,962 parameters, 0 gradients, 7.8 GFLOPs\n"
     ]
    },
    {
     "name": "stderr",
     "output_type": "stream",
     "text": [
      "\u001b[34m\u001b[1mval: \u001b[0mScanning C:\\Users\\ihman\\Desktop\\NextChip\\dataset\\labels\\test.cache... 6883 images, 0 backgrounds, 0 corrupt: 100%|██████████| 6883/6883 [00:00<?, ?it/s]"
     ]
    },
    {
     "name": "stdout",
     "output_type": "stream",
     "text": [
      "\u001b[34m\u001b[1mval: \u001b[0mWARNING  C:\\Users\\ihman\\Desktop\\NextChip\\dataset\\images\\test\\1100.jpg: 1 duplicate labels removed\n",
      "\u001b[34m\u001b[1mval: \u001b[0mWARNING  C:\\Users\\ihman\\Desktop\\NextChip\\dataset\\images\\test\\1101.jpg: 1 duplicate labels removed\n",
      "\u001b[34m\u001b[1mval: \u001b[0mWARNING  C:\\Users\\ihman\\Desktop\\NextChip\\dataset\\images\\test\\1658.jpg: 1 duplicate labels removed\n",
      "\u001b[34m\u001b[1mval: \u001b[0mWARNING  C:\\Users\\ihman\\Desktop\\NextChip\\dataset\\images\\test\\1696.jpg: 1 duplicate labels removed\n",
      "\u001b[34m\u001b[1mval: \u001b[0mWARNING  C:\\Users\\ihman\\Desktop\\NextChip\\dataset\\images\\test\\4652.jpg: 1 duplicate labels removed\n",
      "\u001b[34m\u001b[1mval: \u001b[0mWARNING  C:\\Users\\ihman\\Desktop\\NextChip\\dataset\\images\\test\\6142.jpg: 1 duplicate labels removed\n",
      "\u001b[34m\u001b[1mval: \u001b[0mWARNING  C:\\Users\\ihman\\Desktop\\NextChip\\dataset\\images\\test\\6200.jpg: 2 duplicate labels removed\n"
     ]
    },
    {
     "name": "stderr",
     "output_type": "stream",
     "text": [
      "\n",
      "                 Class     Images  Instances      Box(P          R      mAP50  mAP50-95): 100%|██████████| 431/431 [00:35<00:00, 12.26it/s]\n"
     ]
    },
    {
     "name": "stdout",
     "output_type": "stream",
     "text": [
      "                   all       6883      50059      0.673      0.526      0.577      0.371\n",
      "                   per       3588      14780      0.733      0.511      0.574      0.286\n",
      "                   car       6531      26508      0.818      0.835       0.88      0.681\n",
      "                   bus       1789       2644      0.793      0.607      0.703      0.494\n",
      "                   tru       2048       3080      0.675      0.586      0.644      0.439\n",
      "                   cyc        463        606      0.306      0.191      0.137     0.0656\n",
      "                   mot       1786       2441      0.712      0.425      0.527      0.261\n",
      "Speed: 0.2ms preprocess, 1.2ms inference, 0.0ms loss, 0.6ms postprocess per image\n",
      "Results saved to \u001b[1m..\\..\\result\\val_result\\2.2 nP2_c2f c3 c3g\\nP2_B8 c c2f_N8 SF c c3g_t\u001b[0m\n",
      "nP2_B8 c c2f_N8 SF c c3g_t summary (fused): 260 layers, 2,542,962 parameters, 0 gradients, 7.8 GFLOPs\n",
      "Ultralytics 8.3.13  Python-3.10.13 torch-2.4.1+cu118 CUDA:0 (NVIDIA GeForce RTX 4060 Ti, 16379MiB)\n",
      "nP2_B8 c c2f_N8 SF c c3_t summary (fused): 205 layers, 2,790,050 parameters, 0 gradients, 8.4 GFLOPs\n"
     ]
    },
    {
     "name": "stderr",
     "output_type": "stream",
     "text": [
      "\u001b[34m\u001b[1mval: \u001b[0mScanning C:\\Users\\ihman\\Desktop\\NextChip\\dataset\\labels\\test.cache... 6883 images, 0 backgrounds, 0 corrupt: 100%|██████████| 6883/6883 [00:00<?, ?it/s]"
     ]
    },
    {
     "name": "stdout",
     "output_type": "stream",
     "text": [
      "\u001b[34m\u001b[1mval: \u001b[0mWARNING  C:\\Users\\ihman\\Desktop\\NextChip\\dataset\\images\\test\\1100.jpg: 1 duplicate labels removed\n",
      "\u001b[34m\u001b[1mval: \u001b[0mWARNING  C:\\Users\\ihman\\Desktop\\NextChip\\dataset\\images\\test\\1101.jpg: 1 duplicate labels removed\n",
      "\u001b[34m\u001b[1mval: \u001b[0mWARNING  C:\\Users\\ihman\\Desktop\\NextChip\\dataset\\images\\test\\1658.jpg: 1 duplicate labels removed\n",
      "\u001b[34m\u001b[1mval: \u001b[0mWARNING  C:\\Users\\ihman\\Desktop\\NextChip\\dataset\\images\\test\\1696.jpg: 1 duplicate labels removed\n",
      "\u001b[34m\u001b[1mval: \u001b[0mWARNING  C:\\Users\\ihman\\Desktop\\NextChip\\dataset\\images\\test\\4652.jpg: 1 duplicate labels removed\n",
      "\u001b[34m\u001b[1mval: \u001b[0mWARNING  C:\\Users\\ihman\\Desktop\\NextChip\\dataset\\images\\test\\6142.jpg: 1 duplicate labels removed\n",
      "\u001b[34m\u001b[1mval: \u001b[0mWARNING  C:\\Users\\ihman\\Desktop\\NextChip\\dataset\\images\\test\\6200.jpg: 2 duplicate labels removed\n"
     ]
    },
    {
     "name": "stderr",
     "output_type": "stream",
     "text": [
      "\n",
      "                 Class     Images  Instances      Box(P          R      mAP50  mAP50-95): 100%|██████████| 431/431 [00:35<00:00, 12.27it/s]\n"
     ]
    },
    {
     "name": "stdout",
     "output_type": "stream",
     "text": [
      "                   all       6883      50059      0.724       0.52      0.589      0.381\n",
      "                   per       3588      14780      0.772      0.507      0.594      0.295\n",
      "                   car       6531      26508      0.853      0.824      0.884      0.692\n",
      "                   bus       1789       2644      0.851      0.583      0.712       0.51\n",
      "                   tru       2048       3080      0.663      0.581      0.631      0.436\n",
      "                   cyc        463        606      0.424      0.203      0.195      0.088\n",
      "                   mot       1786       2441       0.78      0.425      0.518      0.264\n",
      "Speed: 0.2ms preprocess, 1.2ms inference, 0.0ms loss, 0.6ms postprocess per image\n",
      "Results saved to \u001b[1m..\\..\\result\\val_result\\2.2 nP2_c2f c3 c3g\\nP2_B8 c c2f_N8 SF c c3_t\u001b[0m\n",
      "nP2_B8 c c2f_N8 SF c c3_t summary (fused): 205 layers, 2,790,050 parameters, 0 gradients, 8.4 GFLOPs\n",
      "Ultralytics 8.3.13  Python-3.10.13 torch-2.4.1+cu118 CUDA:0 (NVIDIA GeForce RTX 4060 Ti, 16379MiB)\n",
      "nP2_B8 c c2f_N8 SF gc c2f_t summary (fused): 204 layers, 2,962,322 parameters, 0 gradients, 8.9 GFLOPs\n"
     ]
    },
    {
     "name": "stderr",
     "output_type": "stream",
     "text": [
      "\u001b[34m\u001b[1mval: \u001b[0mScanning C:\\Users\\ihman\\Desktop\\NextChip\\dataset\\labels\\test.cache... 6883 images, 0 backgrounds, 0 corrupt: 100%|██████████| 6883/6883 [00:00<?, ?it/s]"
     ]
    },
    {
     "name": "stdout",
     "output_type": "stream",
     "text": [
      "\u001b[34m\u001b[1mval: \u001b[0mWARNING  C:\\Users\\ihman\\Desktop\\NextChip\\dataset\\images\\test\\1100.jpg: 1 duplicate labels removed\n",
      "\u001b[34m\u001b[1mval: \u001b[0mWARNING  C:\\Users\\ihman\\Desktop\\NextChip\\dataset\\images\\test\\1101.jpg: 1 duplicate labels removed\n",
      "\u001b[34m\u001b[1mval: \u001b[0mWARNING  C:\\Users\\ihman\\Desktop\\NextChip\\dataset\\images\\test\\1658.jpg: 1 duplicate labels removed\n",
      "\u001b[34m\u001b[1mval: \u001b[0mWARNING  C:\\Users\\ihman\\Desktop\\NextChip\\dataset\\images\\test\\1696.jpg: 1 duplicate labels removed\n",
      "\u001b[34m\u001b[1mval: \u001b[0mWARNING  C:\\Users\\ihman\\Desktop\\NextChip\\dataset\\images\\test\\4652.jpg: 1 duplicate labels removed\n",
      "\u001b[34m\u001b[1mval: \u001b[0mWARNING  C:\\Users\\ihman\\Desktop\\NextChip\\dataset\\images\\test\\6142.jpg: 1 duplicate labels removed\n",
      "\u001b[34m\u001b[1mval: \u001b[0mWARNING  C:\\Users\\ihman\\Desktop\\NextChip\\dataset\\images\\test\\6200.jpg: 2 duplicate labels removed\n"
     ]
    },
    {
     "name": "stderr",
     "output_type": "stream",
     "text": [
      "\n",
      "                 Class     Images  Instances      Box(P          R      mAP50  mAP50-95): 100%|██████████| 431/431 [00:35<00:00, 12.15it/s]\n"
     ]
    }
   ],
   "source": [
    "excel_tool.val_allll()"
   ]
  },
  {
   "cell_type": "code",
   "execution_count": null,
   "metadata": {},
   "outputs": [],
   "source": [
    "# excel_tool.val_model('1.1 v5n vs v8n', 'v5n_c2f_tv', first= True)"
   ]
  }
 ],
 "metadata": {
  "kernelspec": {
   "display_name": "DL",
   "language": "python",
   "name": "python3"
  },
  "language_info": {
   "codemirror_mode": {
    "name": "ipython",
    "version": 3
   },
   "file_extension": ".py",
   "mimetype": "text/x-python",
   "name": "python",
   "nbconvert_exporter": "python",
   "pygments_lexer": "ipython3",
   "version": "3.10.13"
  }
 },
 "nbformat": 4,
 "nbformat_minor": 2
}
