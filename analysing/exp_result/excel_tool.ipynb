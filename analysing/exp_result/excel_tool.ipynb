{
 "cells": [
  {
   "cell_type": "code",
   "execution_count": 1,
   "metadata": {},
   "outputs": [],
   "source": [
    "import excel_tool\n",
    "import os"
   ]
  },
  {
   "cell_type": "code",
   "execution_count": null,
   "metadata": {},
   "outputs": [],
   "source": [
    "excel_tool.val_allll()"
   ]
  },
  {
   "cell_type": "code",
   "execution_count": null,
   "metadata": {},
   "outputs": [
    {
     "name": "stdout",
     "output_type": "stream",
     "text": [
      "Ultralytics 8.3.13  Python-3.10.13 torch-2.4.1+cu118 CUDA:0 (NVIDIA GeForce RTX 4060 Ti, 16379MiB)\n",
      "v5n_c2f_tv summary (fused): 195 layers, 2,748,594 parameters, 0 gradients, 7.3 GFLOPs\n"
     ]
    },
    {
     "name": "stderr",
     "output_type": "stream",
     "text": [
      "\u001b[34m\u001b[1mval: \u001b[0mScanning C:\\Users\\ihman\\Desktop\\NextChip\\dataset\\labels\\test.cache... 6883 images, 0 backgrounds, 0 corrupt: 100%|██████████| 6883/6883 [00:00<?, ?it/s]"
     ]
    },
    {
     "name": "stdout",
     "output_type": "stream",
     "text": [
      "\u001b[34m\u001b[1mval: \u001b[0mWARNING  C:\\Users\\ihman\\Desktop\\NextChip\\dataset\\images\\test\\1100.jpg: 1 duplicate labels removed\n",
      "\u001b[34m\u001b[1mval: \u001b[0mWARNING  C:\\Users\\ihman\\Desktop\\NextChip\\dataset\\images\\test\\1101.jpg: 1 duplicate labels removed\n",
      "\u001b[34m\u001b[1mval: \u001b[0mWARNING  C:\\Users\\ihman\\Desktop\\NextChip\\dataset\\images\\test\\1658.jpg: 1 duplicate labels removed\n",
      "\u001b[34m\u001b[1mval: \u001b[0mWARNING  C:\\Users\\ihman\\Desktop\\NextChip\\dataset\\images\\test\\1696.jpg: 1 duplicate labels removed\n",
      "\u001b[34m\u001b[1mval: \u001b[0mWARNING  C:\\Users\\ihman\\Desktop\\NextChip\\dataset\\images\\test\\4652.jpg: 1 duplicate labels removed\n",
      "\u001b[34m\u001b[1mval: \u001b[0mWARNING  C:\\Users\\ihman\\Desktop\\NextChip\\dataset\\images\\test\\6142.jpg: 1 duplicate labels removed\n",
      "\u001b[34m\u001b[1mval: \u001b[0mWARNING  C:\\Users\\ihman\\Desktop\\NextChip\\dataset\\images\\test\\6200.jpg: 2 duplicate labels removed\n"
     ]
    },
    {
     "name": "stderr",
     "output_type": "stream",
     "text": [
      "\n",
      "                 Class     Images  Instances      Box(P          R      mAP50  mAP50-95): 100%|██████████| 431/431 [00:35<00:00, 12.19it/s]\n"
     ]
    },
    {
     "name": "stdout",
     "output_type": "stream",
     "text": [
      "                   all       6883      50059      0.713      0.523      0.585      0.376\n",
      "                   per       3588      14780      0.744      0.503       0.58      0.288\n",
      "                   car       6531      26508      0.823      0.833      0.881      0.678\n",
      "                   bus       1789       2644      0.847      0.624      0.726      0.514\n",
      "                   tru       2048       3080      0.693      0.568      0.633      0.429\n",
      "                   cyc        463        606       0.39      0.163      0.172     0.0722\n",
      "                   mot       1786       2441      0.779      0.445      0.519      0.274\n",
      "Speed: 0.2ms preprocess, 1.1ms inference, 0.0ms loss, 0.7ms postprocess per image\n",
      "Results saved to \u001b[1m..\\..\\result\\val_result\\1.1 v5n vs v8n\\v5n_c2f_tv\u001b[0m\n",
      "v5n_c2f_tv summary (fused): 195 layers, 2,748,594 parameters, 0 gradients, 7.3 GFLOPs\n"
     ]
    },
    {
     "data": {
      "text/html": [
       "<div>\n",
       "<style scoped>\n",
       "    .dataframe tbody tr th:only-of-type {\n",
       "        vertical-align: middle;\n",
       "    }\n",
       "\n",
       "    .dataframe tbody tr th {\n",
       "        vertical-align: top;\n",
       "    }\n",
       "\n",
       "    .dataframe thead th {\n",
       "        text-align: right;\n",
       "    }\n",
       "</style>\n",
       "<table border=\"1\" class=\"dataframe\">\n",
       "  <thead>\n",
       "    <tr style=\"text-align: right;\">\n",
       "      <th></th>\n",
       "      <th>Model</th>\n",
       "      <th>params</th>\n",
       "      <th>FPS</th>\n",
       "      <th>GFLOPs</th>\n",
       "      <th>N_mAP / G_mAP (%)</th>\n",
       "      <th>N_mAP</th>\n",
       "      <th>G_mAP</th>\n",
       "      <th>per</th>\n",
       "      <th>car</th>\n",
       "      <th>bus</th>\n",
       "      <th>tru</th>\n",
       "      <th>cyc</th>\n",
       "      <th>mot</th>\n",
       "      <th>data_set</th>\n",
       "    </tr>\n",
       "  </thead>\n",
       "  <tbody>\n",
       "    <tr>\n",
       "      <th>0</th>\n",
       "      <td>v5n_c2f_tv</td>\n",
       "      <td>2.75</td>\n",
       "      <td>0</td>\n",
       "      <td>7.25</td>\n",
       "      <td>0</td>\n",
       "      <td>0</td>\n",
       "      <td>58.51</td>\n",
       "      <td>58.02</td>\n",
       "      <td>88.08</td>\n",
       "      <td>72.57</td>\n",
       "      <td>63.31</td>\n",
       "      <td>17.18</td>\n",
       "      <td>51.9</td>\n",
       "      <td>tv</td>\n",
       "    </tr>\n",
       "  </tbody>\n",
       "</table>\n",
       "</div>"
      ],
      "text/plain": [
       "        Model  params  FPS  GFLOPs  N_mAP / G_mAP (%)  N_mAP  G_mAP    per  \\\n",
       "0  v5n_c2f_tv    2.75    0    7.25                  0      0  58.51  58.02   \n",
       "\n",
       "     car    bus    tru    cyc   mot data_set  \n",
       "0  88.08  72.57  63.31  17.18  51.9       tv  "
      ]
     },
     "execution_count": 2,
     "metadata": {},
     "output_type": "execute_result"
    }
   ],
   "source": [
    "# excel_tool.val_model('1.1 v5n vs v8n', 'v5n_c2f_tv', first= True)"
   ]
  }
 ],
 "metadata": {
  "kernelspec": {
   "display_name": "DL",
   "language": "python",
   "name": "python3"
  },
  "language_info": {
   "codemirror_mode": {
    "name": "ipython",
    "version": 3
   },
   "file_extension": ".py",
   "mimetype": "text/x-python",
   "name": "python",
   "nbconvert_exporter": "python",
   "pygments_lexer": "ipython3",
   "version": "3.10.13"
  }
 },
 "nbformat": 4,
 "nbformat_minor": 2
}
