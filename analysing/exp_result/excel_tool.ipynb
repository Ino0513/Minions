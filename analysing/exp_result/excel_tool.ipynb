{
 "cells": [
  {
   "cell_type": "code",
   "execution_count": 1,
   "metadata": {},
   "outputs": [],
   "source": [
    "import excel_tool\n",
    "import os\n",
    "import pandas as pd"
   ]
  },
  {
   "cell_type": "code",
   "execution_count": 2,
   "metadata": {},
   "outputs": [],
   "source": [
    "# excel_tool.val_allll()"
   ]
  },
  {
   "cell_type": "code",
   "execution_count": 3,
   "metadata": {},
   "outputs": [],
   "source": [
    "df = pd.read_csv('../../documents/exp_list.csv', index_col= 0)\n",
    "# display(df)"
   ]
  },
  {
   "cell_type": "code",
   "execution_count": 4,
   "metadata": {},
   "outputs": [
    {
     "name": "stdout",
     "output_type": "stream",
     "text": [
      "['1.1_v5n_vs_v8n', '1.2_P2', '1.3_Bt', '1.4_P2_Bt', '2.1_QE', '2.2_nP2_c2f_c3_c3g', '2.2_sP2_c2f_c3_c3g', 'org+org_add']\n",
      "['v8n_org_t.txt', 'v8n_P2_t.txt', 'v8s_org_t.txt', 'v8s_P2_t.txt']\n"
     ]
    }
   ],
   "source": [
    "path = '../../result/NmAP50_result'\n",
    "dir_list = os.listdir(path)\n",
    "print(dir_list)\n",
    "\n",
    "name_list = os.listdir(f'{path}/{dir_list[1]}')\n",
    "print(name_list)"
   ]
  },
  {
   "cell_type": "code",
   "execution_count": null,
   "metadata": {},
   "outputs": [
    {
     "name": "stdout",
     "output_type": "stream",
     "text": [
      "../../result/NmAP50_result/1.2_P2/v8n_org_t.txt\n",
      "0.33539499134777956\n"
     ]
    }
   ],
   "source": [
    "file_path = f'{path}/{dir_list[1]}/{name_list[0]}'\n",
    "print(file_path)\n",
    "\n",
    "\n",
    "mmm = excel_tool.extract_map50(file_path)\n",
    "print(mmm)"
   ]
  },
  {
   "cell_type": "code",
   "execution_count": null,
   "metadata": {},
   "outputs": [],
   "source": []
  }
 ],
 "metadata": {
  "kernelspec": {
   "display_name": "onnx",
   "language": "python",
   "name": "python3"
  },
  "language_info": {
   "codemirror_mode": {
    "name": "ipython",
    "version": 3
   },
   "file_extension": ".py",
   "mimetype": "text/x-python",
   "name": "python",
   "nbconvert_exporter": "python",
   "pygments_lexer": "ipython3",
   "version": "3.11.8"
  }
 },
 "nbformat": 4,
 "nbformat_minor": 2
}
