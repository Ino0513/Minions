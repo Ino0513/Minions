{
 "cells": [
  {
   "cell_type": "code",
   "execution_count": 1,
   "metadata": {},
   "outputs": [],
   "source": [
    "import pandas as pd\n",
    "import matplotlib.pyplot as plt\n",
    "import excel_tool"
   ]
  },
  {
   "cell_type": "code",
   "execution_count": 2,
   "metadata": {},
   "outputs": [],
   "source": [
    "exp_list = pd.read_csv('../../documents/exp_list.csv', index_col= 0)"
   ]
  },
  {
   "cell_type": "code",
   "execution_count": 3,
   "metadata": {},
   "outputs": [
    {
     "ename": "ZeroDivisionError",
     "evalue": "float division by zero",
     "output_type": "error",
     "traceback": [
      "\u001b[1;31m---------------------------------------------------------------------------\u001b[0m",
      "\u001b[1;31mZeroDivisionError\u001b[0m                         Traceback (most recent call last)",
      "Cell \u001b[1;32mIn[3], line 15\u001b[0m\n\u001b[0;32m      6\u001b[0m labels \u001b[38;5;241m=\u001b[39m [\n\u001b[0;32m      7\u001b[0m         \u001b[38;5;124m'\u001b[39m\u001b[38;5;124mN_mAP / G_mAP (\u001b[39m\u001b[38;5;124m%\u001b[39m\u001b[38;5;124m)\u001b[39m\u001b[38;5;124m'\u001b[39m,\n\u001b[0;32m      8\u001b[0m         \u001b[38;5;124m'\u001b[39m\u001b[38;5;124mN_mAP\u001b[39m\u001b[38;5;124m'\u001b[39m, \n\u001b[1;32m   (...)\u001b[0m\n\u001b[0;32m     11\u001b[0m         \u001b[38;5;66;03m# 'FPS',\u001b[39;00m\n\u001b[0;32m     12\u001b[0m         ]\n\u001b[0;32m     14\u001b[0m plt\u001b[38;5;241m.\u001b[39mfigure(figsize\u001b[38;5;241m=\u001b[39m(\u001b[38;5;241m12\u001b[39m, \u001b[38;5;241m5\u001b[39m))\n\u001b[1;32m---> 15\u001b[0m \u001b[43mexcel_tool\u001b[49m\u001b[38;5;241;43m.\u001b[39;49m\u001b[43mexp_graph_modified\u001b[49m\u001b[43m(\u001b[49m\u001b[38;5;124;43m'\u001b[39;49m\u001b[38;5;124;43mmodel\u001b[39;49m\u001b[38;5;124;43m'\u001b[39;49m\u001b[43m,\u001b[49m\u001b[43m \u001b[49m\u001b[38;5;124;43m'\u001b[39;49m\u001b[38;5;124;43mmAP\u001b[39;49m\u001b[38;5;124;43m'\u001b[39;49m\u001b[43m,\u001b[49m\u001b[43m \u001b[49m\u001b[38;5;124;43m'\u001b[39;49m\u001b[38;5;124;43mP2_3221  vs  P2_3321\u001b[39;49m\u001b[38;5;124;43m'\u001b[39;49m\u001b[43m,\u001b[49m\u001b[43m \u001b[49m\u001b[43mname_list\u001b[49m\u001b[43m,\u001b[49m\u001b[43m \u001b[49m\u001b[43m[\u001b[49m\u001b[38;5;241;43m0\u001b[39;49m\u001b[43m,\u001b[49m\u001b[43m \u001b[49m\u001b[38;5;241;43m3\u001b[39;49m\u001b[43m]\u001b[49m\u001b[43m,\u001b[49m\u001b[43m \u001b[49m\u001b[43mlabels\u001b[49m\u001b[43m,\u001b[49m\u001b[43m \u001b[49m\u001b[43my_lim\u001b[49m\u001b[38;5;241;43m=\u001b[39;49m\u001b[43m[\u001b[49m\u001b[38;5;241;43m40\u001b[39;49m\u001b[43m,\u001b[49m\u001b[43m \u001b[49m\u001b[38;5;241;43m80\u001b[39;49m\u001b[43m]\u001b[49m\u001b[43m)\u001b[49m\n",
      "File \u001b[1;32mc:\\Nextchip\\Minions\\analysing\\exp_result\\excel_tool.py:265\u001b[0m, in \u001b[0;36mexp_graph_modified\u001b[1;34m(x_title, y_title, title, name_list, name_range, labels, y_lim)\u001b[0m\n\u001b[0;32m    262\u001b[0m \u001b[38;5;28;01mif\u001b[39;00m(y_lim):\n\u001b[0;32m    263\u001b[0m     plt\u001b[38;5;241m.\u001b[39mylim(y_lim)\n\u001b[1;32m--> 265\u001b[0m \u001b[43mmethod_graph\u001b[49m\u001b[38;5;241;43m.\u001b[39;49m\u001b[43mcompare_graph\u001b[49m\u001b[43m(\u001b[49m\u001b[43mlabels\u001b[49m\u001b[43m,\u001b[49m\u001b[43m \u001b[49m\u001b[43my_data\u001b[49m\u001b[43m,\u001b[49m\u001b[43m \u001b[49m\u001b[43mnew_names\u001b[49m\u001b[43m,\u001b[49m\u001b[43m \u001b[49m\u001b[43mx_title\u001b[49m\u001b[38;5;241;43m=\u001b[39;49m\u001b[43m \u001b[49m\u001b[43mx_title\u001b[49m\u001b[43m,\u001b[49m\u001b[43m \u001b[49m\u001b[43my_title\u001b[49m\u001b[38;5;241;43m=\u001b[39;49m\u001b[43m \u001b[49m\u001b[43my_title\u001b[49m\u001b[43m,\u001b[49m\u001b[43m \u001b[49m\u001b[43mtitle\u001b[49m\u001b[38;5;241;43m=\u001b[39;49m\u001b[43m \u001b[49m\u001b[43mtitle\u001b[49m\u001b[43m)\u001b[49m\n",
      "File \u001b[1;32mc:\\Nextchip\\Minions\\analysing\\exp_result\\../bbox\\method_graph.py:50\u001b[0m, in \u001b[0;36mcompare_graph\u001b[1;34m(x_ticks, y_data, labels, x_title, y_title, title)\u001b[0m\n\u001b[0;32m     48\u001b[0m num_classes \u001b[38;5;241m=\u001b[39m \u001b[38;5;28mlen\u001b[39m(x_ticks)  \u001b[38;5;66;03m# x축 레이블의 개수\u001b[39;00m\n\u001b[0;32m     49\u001b[0m x_pos \u001b[38;5;241m=\u001b[39m np\u001b[38;5;241m.\u001b[39marange(num_classes)  \u001b[38;5;66;03m# x축 위치\u001b[39;00m\n\u001b[1;32m---> 50\u001b[0m width \u001b[38;5;241m=\u001b[39m \u001b[38;5;241;43m0.8\u001b[39;49m\u001b[43m \u001b[49m\u001b[38;5;241;43m/\u001b[39;49m\u001b[43m \u001b[49m\u001b[43mn\u001b[49m  \u001b[38;5;66;03m# 막대 너비 (막대 간 여유 공간 확보)\u001b[39;00m\n\u001b[0;32m     52\u001b[0m \u001b[38;5;66;03m# 그래프 그리기\u001b[39;00m\n\u001b[0;32m     53\u001b[0m \u001b[38;5;28;01mfor\u001b[39;00m i, y \u001b[38;5;129;01min\u001b[39;00m \u001b[38;5;28menumerate\u001b[39m(y_data):\n",
      "\u001b[1;31mZeroDivisionError\u001b[0m: float division by zero"
     ]
    },
    {
     "data": {
      "image/png": "[encoded data removed]",
      "text/plain": [
       "<Figure size 1200x500 with 1 Axes>"
      ]
     },
     "metadata": {},
     "output_type": "display_data"
    }
   ],
   "source": [
    "name_list = [\n",
    "        \"sP2_B c c2f_N c c2f_tv\",\n",
    "\n",
    "]\n",
    "\n",
    "labels = [\n",
    "        'N_mAP / G_mAP (%)',\n",
    "        'N_mAP', \n",
    "        'G_mAP',\n",
    "        # 'params',\n",
    "        # 'FPS',\n",
    "        ]\n",
    "\n",
    "plt.figure(figsize=(12, 5))\n",
    "excel_tool.exp_graph_modified('model', 'mAP', 'P2_3221  vs  P2_3321', name_list, [0, 3], labels, y_lim=[40, 80])"
   ]
  },
  {
   "cell_type": "code",
   "execution_count": null,
   "metadata": {},
   "outputs": [],
   "source": [
    "# name_list = [\n",
    "#         'v8s_P2_tv',\n",
    "#         'v8s_P2_1321_tv',\n",
    "#         'v8s_P2_2221_tv',\n",
    "#         'v8s_P2_3221_tv',\n",
    "#         'v8s_P2_3321_tv',\n",
    "#         'v8s_P2_4221_tv',\n",
    "#             ]\n",
    "\n",
    "# labels = [\n",
    "#         # 'N_mAP / G_mAP (%)',\n",
    "#         'N_mAP', \n",
    "#         # 'G_mAP',\n",
    "#         # 'params',\n",
    "#         # 'FPS',\n",
    "#         ]\n",
    "\n",
    "# plt.figure(figsize=(10, 5))\n",
    "# excel_tool.exp_graph('model', '%', 'org vs P2', name_list, [0, 2], labels, y_lim=[40, 55])"
   ]
  }
 ],
 "metadata": {
  "kernelspec": {
   "display_name": "nextchip",
   "language": "python",
   "name": "python3"
  },
  "language_info": {
   "codemirror_mode": {
    "name": "ipython",
    "version": 3
   },
   "file_extension": ".py",
   "mimetype": "text/x-python",
   "name": "python",
   "nbconvert_exporter": "python",
   "pygments_lexer": "ipython3",
   "version": "3.11.8"
  }
 },
 "nbformat": 4,
 "nbformat_minor": 2
}
