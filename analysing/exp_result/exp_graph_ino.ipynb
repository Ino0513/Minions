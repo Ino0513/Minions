{
 "cells": [
  {
   "cell_type": "code",
   "execution_count": 7,
   "metadata": {},
   "outputs": [],
   "source": [
    "import pandas as pd\n",
    "import matplotlib.pyplot as plt\n",
    "import excel_tool"
   ]
  },
  {
   "cell_type": "code",
   "execution_count": 8,
   "metadata": {},
   "outputs": [],
   "source": [
    "exp_list = pd.read_csv('../../documents/exp_list.csv', index_col= 0)"
   ]
  },
  {
   "cell_type": "code",
   "execution_count": 9,
   "metadata": {},
   "outputs": [],
   "source": [
    "name_list = [\n",
    "        # 'v5n_c2f_tv',\n",
    "        # 'v5n_k3_tv',\n",
    "        # 'v5n_org_tv',\n",
    "        # 'v8n_c3_tv',\n",
    "        # 'v8n_k6_tv',\n",
    "        # 'v8n_org_tv',\n",
    "            ]\n",
    "\n",
    "labels = [\n",
    "        # 'N_mAP / G_mAP (%)',\n",
    "        'N_mAP', \n",
    "        'G_mAP',\n",
    "        # 'params',\n",
    "        # 'FPS',\n",
    "        ]\n",
    "\n",
    "# plt.figure(figsize=())\n",
    "# excel_tool.exp_graph('model', '%', '', name_list, [0, 3], labels)"
   ]
  }
 ],
 "metadata": {
  "kernelspec": {
   "display_name": "DL",
   "language": "python",
   "name": "python3"
  },
  "language_info": {
   "codemirror_mode": {
    "name": "ipython",
    "version": 3
   },
   "file_extension": ".py",
   "mimetype": "text/x-python",
   "name": "python",
   "nbconvert_exporter": "python",
   "pygments_lexer": "ipython3",
   "version": "3.10.13"
  }
 },
 "nbformat": 4,
 "nbformat_minor": 2
}
