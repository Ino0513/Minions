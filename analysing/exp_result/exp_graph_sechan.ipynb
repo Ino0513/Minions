{
 "cells": [
  {
   "cell_type": "code",
   "execution_count": 1,
   "metadata": {},
   "outputs": [],
   "source": [
    "import pandas as pd\n",
    "import matplotlib.pyplot as plt\n",
    "import excel_tool"
   ]
  },
  {
   "cell_type": "code",
   "execution_count": 9,
   "metadata": {},
   "outputs": [],
   "source": [
    "exp_list = pd.read_csv('../../documents/exp_list.csv', index_col= 0)"
   ]
  },
  {
   "cell_type": "code",
   "execution_count": 12,
   "metadata": {},
   "outputs": [
    {
     "data": {
      "image/png": "[encoded data removed]",
      "text/plain": [
       "<Figure size 640x480 with 1 Axes>"
      ]
     },
     "metadata": {},
     "output_type": "display_data"
    }
   ],
   "source": [
    "name_list = [\n",
    "               # = 1.3 보고서 =\n",
    "                # 'v5n_1111_ta',\n",
    "                # 'v5n_1221_ta',\t#(=v5n_org)\n",
    "                # 'v5n_2222_ta',\n",
    "                # 'v5n_2332_ta',\n",
    "                # 'v8n_1111_ta',\n",
    "                # 'v8n_1221_ta',\t#(=v8n_org)\n",
    "                # 'v8n_2222_ta',\n",
    "                # 'v8n_2332_ta',\n",
    "                \n",
    "               # = 1.2 폴더 =\n",
    "                # 'v8n_t',\n",
    "                # 'v8n_P2_t', \n",
    "                'v8s_org_tv', \n",
    "                'v8s_P2_tv',\n",
    "\n",
    "                #  = 1.4 폴더 =\n",
    "        #         'v8s_P2_1321_tv',\n",
    "        #         'v8s_P2_2221_tv',\n",
    "        #         'v8s_P2_3221_tv',\n",
    "        #         'v8s_P2_3321_tv',\n",
    "        #         'v8s_P2_4221_tv',\n",
    "        # # ----------------------------------------\n",
    "        # # [보고서 2]\n",
    "        #         'v8s_P2_N c c3_tv',\n",
    "        #         'v8s_P2_N c c3g_tv',\n",
    "        #         'v8s_P2_N gc c2f_tv',\n",
    "        #         'v8s_P2_N gc c3_tv',\n",
    "        #         'v8s_P2_N gc c3g_tv',\n",
    "\n",
    "            ]\n",
    "\n",
    "labels = [\n",
    "        # 'N_mAP / G_mAP (%)',\n",
    "        'N_mAP', \n",
    "        'G_mAP',\n",
    "        # 'params',\n",
    "        # 'FPS',\n",
    "        ]\n",
    "\n",
    "# plt.figure(figsize=())\n",
    "excel_tool.exp_graph_modified('model', '%', '(c3g) gc vs c', name_list, [-2, -1], labels, y_lim= [40, 75])"
   ]
  },
  {
   "cell_type": "code",
   "execution_count": 4,
   "metadata": {},
   "outputs": [],
   "source": [
    "# name_list = [\n",
    "#         'v8s_P2_tv',\n",
    "#         'v8s_P2_1321_tv',\n",
    "#         'v8s_P2_2221_tv',\n",
    "#         'v8s_P2_3221_tv',\n",
    "#         'v8s_P2_3321_tv',\n",
    "#         'v8s_P2_4221_tv',\n",
    "#             ]\n",
    "\n",
    "# labels = [\n",
    "#         # 'N_mAP / G_mAP (%)',\n",
    "#         'N_mAP', \n",
    "#         # 'G_mAP',\n",
    "#         # 'params',\n",
    "#         # 'FPS',\n",
    "#         ]\n",
    "\n",
    "# plt.figure(figsize=(10, 5))\n",
    "# excel_tool.exp_graph('model', '%', 'org vs P2', name_list, [0, 2], labels, y_lim=[40, 55])"
   ]
  }
 ],
 "metadata": {
  "kernelspec": {
   "display_name": "DL",
   "language": "python",
   "name": "python3"
  },
  "language_info": {
   "codemirror_mode": {
    "name": "ipython",
    "version": 3
   },
   "file_extension": ".py",
   "mimetype": "text/x-python",
   "name": "python",
   "nbconvert_exporter": "python",
   "pygments_lexer": "ipython3",
   "version": "3.10.13"
  }
 },
 "nbformat": 4,
 "nbformat_minor": 2
}
