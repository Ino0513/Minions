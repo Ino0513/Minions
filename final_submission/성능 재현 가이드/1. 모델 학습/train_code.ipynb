{
 "cells": [
  {
   "cell_type": "code",
   "execution_count": null,
   "metadata": {},
   "outputs": [],
   "source": [
    "!pip install ultralytics"
   ]
  },
  {
   "cell_type": "code",
   "execution_count": null,
   "metadata": {},
   "outputs": [],
   "source": [
    "from ultralytics import YOLO\n",
    "from torchinfo import summary"
   ]
  },
  {
   "cell_type": "code",
   "execution_count": null,
   "metadata": {},
   "outputs": [],
   "source": [
    "# train\n",
    "model_v8s_P2G = YOLO('v8s_P2_2211_gc-c3g.yaml')\n",
    "\n",
    "model_v8s_P2G.train(data= 'nextchip_jvs.yaml', epochs= 150, batch= 32, save_period=5, project= 'exp', name= 'v8s_P2_2211_gc-c3g', exist_ok= True)"
   ]
  }
 ],
 "metadata": {
  "kernelspec": {
   "display_name": "nextchip",
   "language": "python",
   "name": "python3"
  },
  "language_info": {
   "name": "python",
   "version": "3.11.8"
  }
 },
 "nbformat": 4,
 "nbformat_minor": 2
}
