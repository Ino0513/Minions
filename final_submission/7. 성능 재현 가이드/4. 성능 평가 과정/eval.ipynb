{
 "cells": [
  {
   "cell_type": "code",
   "execution_count": null,
   "metadata": {},
   "outputs": [
    {
     "name": "stdout",
     "output_type": "stream",
     "text": [
      "{'metrics/precision(B)': np.float64(0.8449747046944808), 'metrics/recall(B)': np.float64(0.3959109776927039), 'metrics/mAP50(B)': np.float64(0.4686182845447174), 'metrics/mAP50-95(B)': np.float64(0.29599077748226854), 'fitness': np.float64(0.31325352818851343)}\n",
      "metrics/precision(B) | metrics/recall(B)  | metrics/mAP50(B)   | metrics/mAP50-95(B) | fitness            \n",
      "-------------------- | ------------------ | ------------------ | ------------------- | -------------------\n",
      "0.8449747046944808   | 0.3959109776927039 | 0.4686182845447174 | 0.29599077748226854 | 0.31325352818851343\n",
      "{'metrics/precision(B)': np.float64(0.8505689816114349), 'metrics/recall(B)': np.float64(0.3970097736974942), 'metrics/mAP50(B)': np.float64(0.4671704133490915), 'metrics/mAP50-95(B)': np.float64(0.2940234258048066), 'fitness': np.float64(0.31133812455923515)}\n",
      "metrics/precision(B) | metrics/recall(B)  | metrics/mAP50(B)   | metrics/mAP50-95(B) | fitness            \n",
      "-------------------- | ------------------ | ------------------ | ------------------- | -------------------\n",
      "0.8505689816114349   | 0.3970097736974942 | 0.4671704133490915 | 0.2940234258048066  | 0.31133812455923515\n"
     ]
    }
   ],
   "source": [
    "!python evaluate.py --pred result_folder_name"
   ]
  }
 ],
 "metadata": {
  "kernelspec": {
   "display_name": "nextchip",
   "language": "python",
   "name": "python3"
  },
  "language_info": {
   "codemirror_mode": {
    "name": "ipython",
    "version": 3
   },
   "file_extension": ".py",
   "mimetype": "text/x-python",
   "name": "python",
   "nbconvert_exporter": "python",
   "pygments_lexer": "ipython3",
   "version": "3.11.8"
  }
 },
 "nbformat": 4,
 "nbformat_minor": 2
}
