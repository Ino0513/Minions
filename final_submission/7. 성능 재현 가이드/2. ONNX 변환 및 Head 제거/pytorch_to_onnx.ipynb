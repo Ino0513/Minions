{
 "cells": [
  {
   "cell_type": "code",
   "execution_count": null,
   "metadata": {},
   "outputs": [],
   "source": [
    "!pip install onnx onnxruntime"
   ]
  },
  {
   "cell_type": "code",
   "execution_count": 1,
   "metadata": {},
   "outputs": [],
   "source": [
    "import torch\n",
    "import shutil\n",
    "\n",
    "from ultralytics import YOLO"
   ]
  },
  {
   "cell_type": "code",
   "execution_count": null,
   "metadata": {},
   "outputs": [
    {
     "name": "stdout",
     "output_type": "stream",
     "text": [
      "Ultralytics 8.3.31  Python-3.11.8 torch-2.5.1+cpu CPU (13th Gen Intel Core(TM) i3-1315U)\n",
      "WARNING  INT8 export requires a missing 'data' arg for calibration. Using default 'data=coco8.yaml'.\n",
      "v8s_P2G summary (fused): 269 layers, 9,443,842 parameters, 0 gradients, 27.7 GFLOPs\n",
      "\n",
      "\u001b[34m\u001b[1mPyTorch:\u001b[0m starting from 'v8s_P2G.pt' with input shape (1, 3, 640, 640) BCHW and output shape(s) (1, 10, 8400) (18.3 MB)\n",
      "\n",
      "\u001b[34m\u001b[1mONNX:\u001b[0m starting export with onnx 1.17.0 opset 17...\n",
      "\u001b[34m\u001b[1mONNX:\u001b[0m export success  1.2s, saved as 'v8s_P2G.onnx' (36.2 MB)\n",
      "\n",
      "Export complete (1.9s)\n",
      "Results saved to \u001b[1mC:\\Users\\Ino\\Desktop\\NextChip\\Minions_git\\first_submission\\  \u001b[0m\n",
      "Predict:         yolo predict task=detect model=v8s_P2G.onnx imgsz=640 int8 \n",
      "Validate:        yolo val task=detect model=v8s_P2G.onnx imgsz=640 data=nextchip_jvs.yaml int8 \n",
      "Visualize:       https://netron.app\n"
     ]
    },
    {
     "data": {
      "text/plain": [
       "'v8s_P2G.onnx'"
      ]
     },
     "execution_count": 2,
     "metadata": {},
     "output_type": "execute_result"
    }
   ],
   "source": [
    "model_path = \"/pt/model/path.pt\"\n",
    "\n",
    "model = YOLO(model_path)\n",
    "\n",
    "model.export(\n",
    "    format='onnx',\n",
    "    int8= True,\n",
    "    nms= True,\n",
    "    simplify= False,\n",
    "    opset= 17\n",
    ")"
   ]
  }
 ],
 "metadata": {
  "kernelspec": {
   "display_name": "onnx2",
   "language": "python",
   "name": "python3"
  },
  "language_info": {
   "codemirror_mode": {
    "name": "ipython",
    "version": 3
   },
   "file_extension": ".py",
   "mimetype": "text/x-python",
   "name": "python",
   "nbconvert_exporter": "python",
   "pygments_lexer": "ipython3",
   "version": "3.11.8"
  }
 },
 "nbformat": 4,
 "nbformat_minor": 2
}
