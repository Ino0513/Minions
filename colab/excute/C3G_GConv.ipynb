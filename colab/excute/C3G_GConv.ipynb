{
 "cells": [
  {
   "cell_type": "code",
   "execution_count": null,
   "metadata": {
    "collapsed": true,
    "id": "WMZlJmBUewNx"
   },
   "outputs": [],
   "source": [
    "# !git clone https://github.com/ultralytics/ultralytics.git # -> 일단 포기\n",
    "# import sys\n",
    "# sys.path.append('/root/content/ultralytics/ultralytics')\n",
    "\n",
    "!pip install torchinfo\n",
    "!pip install ultralytics\n",
    "!pip install YOLO"
   ]
  },
  {
   "cell_type": "code",
   "execution_count": null,
   "metadata": {
    "id": "5q8gxGL1U1NZ"
   },
   "outputs": [],
   "source": [
    "import os\n",
    "import shutil\n",
    "import ultralytics\n",
    "from ultralytics import YOLO\n",
    "\n",
    "from torchinfo import summary\n",
    "from google.colab import drive\n",
    "drive.mount('/content/drive')"
   ]
  },
  {
   "cell_type": "code",
   "execution_count": null,
   "metadata": {
    "id": "2t7JhRzDewN0"
   },
   "outputs": [],
   "source": [
    "name = 'v8s_c3ghost_ghostconv.yaml'\n",
    "ep = 100\n",
    "save_period = 5\n",
    "batch = 32\n",
    "result_dir = f'/content/{name}'\n",
    "exist_ok = True"
   ]
  },
  {
   "cell_type": "code",
   "execution_count": null,
   "metadata": {
    "id": "1d8UiwWaewN2"
   },
   "outputs": [],
   "source": [
    "# 결과 저장 함수\n",
    "\n",
    "def result_save_copy(result_dir, name):\n",
    "    save_path = '/content'  # 압축할 경로\n",
    "\n",
    "    # 압축 (이때 .zip 확장자가 자동으로 붙으므로 확장자 중복 방지)\n",
    "    zip_file = f'{save_path}/{name}'  # .zip 확장자는 자동으로 붙을 것임\n",
    "    shutil.make_archive(zip_file, 'zip', result_dir)\n",
    "\n",
    "    # 내 드라이브에 복사할 경로\n",
    "    drive_path = f'/content/drive/MyDrive/Nextchip_result/{name.split(\".\")[0]}.zip'\n",
    "\n",
    "    # Google Drive로 복사\n",
    "    shutil.copy(f'{zip_file}.zip', drive_path)\n",
    "\n",
    "    print(f'압축 파일이 Google Drive에 저장되었습니다: {drive_path}')"
   ]
  },
  {
   "cell_type": "code",
   "execution_count": null,
   "metadata": {
    "id": "Lwis72ugewN3"
   },
   "outputs": [],
   "source": [
    "def train_and_save(name, ep, save_period, batch, result_dir, exist_ok):\n",
    "\n",
    "    if('.yaml' in name):\n",
    "        model = YOLO(f'/content/drive/MyDrive/Nextchip_cfg/{name}')\n",
    "    elif('.pt' in name):\n",
    "        model = YOLO(f'/content/drive/MyDrive/Nextchip_cfg/{name}')\n",
    "    else:\n",
    "        print('너 바보, .yaml .pt 둘 다 아님')\n",
    "\n",
    "\n",
    "    model.train(data='/content/drive/MyDrive/Nextchip_cfg/nextchip_colab_add.yaml', exist_ok= exist_ok, epochs= ep, save_period= save_period, batch= batch, project= result_dir, name= name.split('.')[0])\n",
    "\n",
    "    # 결과를 압축할 폴더 경로 지정\n",
    "    result_folder = f'{result_dir}/{name.split(\".\")[0]}'  # 훈련된 모델 결과 폴더\n",
    "\n",
    "    result_save_copy(result_folder, name)"
   ]
  },
  {
   "cell_type": "code",
   "execution_count": null,
   "metadata": {
    "id": "Q7FMVRPUVMx0"
   },
   "outputs": [],
   "source": [
    "def unzip_data(file_name_list, output_dir_list):\n",
    "  for dir in output_dir_list:\n",
    "    os.makedirs(dir, exist_ok = True)\n",
    "  for idx in range(len(file_name_list)):\n",
    "    os.system(\"unzip \" + file_name_list[idx] + \" -d\" + output_dir_list[idx])"
   ]
  },
  {
   "cell_type": "code",
   "execution_count": null,
   "metadata": {
    "id": "2icz8g9qd7t0"
   },
   "outputs": [],
   "source": [
    "file_name_list = [# nextchip dataset\n",
    "                  # images\n",
    "                  '/content/drive/MyDrive/Nextchip_dataset/images_train.zip',\n",
    "                  '/content/drive/MyDrive/Nextchip_dataset/images_valid.zip',\n",
    "                  '/content/drive/MyDrive/Nextchip_dataset/images_test.zip',\n",
    "                  '/content/drive/MyDrive/Nextchip_dataset/images_add.zip',\n",
    "\n",
    "                  # labels\n",
    "                  '/content/drive/MyDrive/Nextchip_dataset/labels_train.zip',\n",
    "                  '/content/drive/MyDrive/Nextchip_dataset/labels_valid.zip',\n",
    "                  '/content/drive/MyDrive/Nextchip_dataset/labels_test.zip',\n",
    "                  '/content/drive/MyDrive/Nextchip_dataset/labels_add.zip',\n",
    "\n",
    "                  '/content/drive/MyDrive/Nextchip_dataset/path_txt.zip',]\n",
    "\n",
    "\n",
    "output_dir_list = [# nextchip dataset\n",
    "                   '/content/Nextchip_dataset/images/train',\n",
    "                   '/content/Nextchip_dataset/images/valid',\n",
    "                   '/content/Nextchip_dataset/images/test',\n",
    "                   '/content/Nextchip_dataset/images/add',\n",
    "\n",
    "                   '/content/Nextchip_dataset/labels/train',\n",
    "                   '/content/Nextchip_dataset/labels/valid',\n",
    "                   '/content/Nextchip_dataset/labels/test',\n",
    "                   '/content/Nextchip_dataset/labels/add',\n",
    "\n",
    "\n",
    "                   '/content/Nextchip_dataset',]"
   ]
  },
  {
   "cell_type": "code",
   "execution_count": null,
   "metadata": {
    "id": "-7q4E0o1jzmr"
   },
   "outputs": [],
   "source": [
    "unzip_data(file_name_list, output_dir_list)"
   ]
  },
  {
   "cell_type": "code",
   "execution_count": null,
   "metadata": {
    "id": "8gN35PY9bVvM"
   },
   "outputs": [],
   "source": [
    "# 데이터 경로 설정\n",
    "data_root = '/content/Nextchip_dataset'\n",
    "subdirs = ['train', 'valid', 'test']  # 서브 폴더 리스트\n",
    "images_counts = {}\n",
    "labels_counts = {}\n",
    "\n",
    "# images 개수 계산\n",
    "for subdir in subdirs:\n",
    "    dir_path = os.path.join(data_root, 'images', subdir)\n",
    "    if os.path.exists(dir_path):\n",
    "        images_count = len([f for f in os.listdir(dir_path) if f.endswith(('.jpg'))])\n",
    "        images_counts[subdir] = images_count\n",
    "        print(images_count)\n",
    "    else:\n",
    "        images_counts[subdir] = 'Directory not found'\n",
    "\n",
    "# labels 개수 계산\n",
    "for subdir in subdirs:\n",
    "    dir_path = os.path.join(data_root, 'labels', subdir)\n",
    "    if os.path.exists(dir_path):\n",
    "        labels_count = len([f for f in os.listdir(dir_path) if f.endswith(('.txt'))])\n",
    "        labels_counts[subdir] = labels_count\n",
    "        print(labels_count)\n",
    "    else:\n",
    "        labels_counts[subdir] = 'Directory not found'\n",
    "\n",
    "# 수 안맞으면 실행 중단 -> 무한 루프로 바꾸면 더 편할듯?\n",
    "if(images_counts['train'] != labels_counts['train']):\n",
    "    print('train file num error')\n",
    "    error\n",
    "elif(images_counts['valid'] != labels_counts['valid']):\n",
    "    print('valid file num error')\n",
    "    error\n",
    "elif(images_counts['test'] != labels_counts['test']):\n",
    "    print('test file num error')\n",
    "    error\n",
    "else:\n",
    "    pass"
   ]
  },
  {
   "cell_type": "code",
   "execution_count": null,
   "metadata": {
    "id": "NlJG5m3KewN8"
   },
   "outputs": [],
   "source": [
    "# def train_and_save(name, ep, save_period, batch, result_dir, exist_ok):\n",
    "\n",
    "train_and_save(name, ep, save_period, batch, result_dir, exist_ok)"
   ]
  }
 ],
 "metadata": {
  "accelerator": "GPU",
  "colab": {
   "gpuType": "T4",
   "provenance": []
  },
  "kernelspec": {
   "display_name": "Python 3",
   "name": "python3"
  },
  "language_info": {
   "codemirror_mode": {
    "name": "ipython",
    "version": 3
   },
   "file_extension": ".py",
   "mimetype": "text/x-python",
   "name": "python",
   "nbconvert_exporter": "python",
   "pygments_lexer": "ipython3",
   "version": "3.11.8"
  }
 },
 "nbformat": 4,
 "nbformat_minor": 0
}
