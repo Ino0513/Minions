{
 "cells": [
  {
   "cell_type": "code",
   "execution_count": 1,
   "metadata": {},
   "outputs": [],
   "source": [
    "import cv2\n",
    "import glob\n",
    "import os\n",
    "import matplotlib.pyplot as plt\n",
    "import bbox_method"
   ]
  },
  {
   "cell_type": "code",
   "execution_count": 2,
   "metadata": {},
   "outputs": [
    {
     "name": "stdout",
     "output_type": "stream",
     "text": [
      "12732\n"
     ]
    }
   ],
   "source": [
    "label_path = 'C:/Users/Ino/Desktop/NextChip/dataset/labels/train'\n",
    "txt_list = glob.glob(label_path + '/*.txt')\n",
    "print(len(txt_list))"
   ]
  },
  {
   "cell_type": "code",
   "execution_count": 3,
   "metadata": {},
   "outputs": [
    {
     "name": "stdout",
     "output_type": "stream",
     "text": [
      "1 0.22734374999999998 0.3416666666666667 0.14375 0.10833333333333334\n",
      "\n",
      "1 0.36874999999999997 0.3125 0.0296875 0.025\n",
      "\n",
      "3 0.445703125 0.30486111111111114 0.03203125 0.0625\n",
      "\n",
      "3 0.3984375 0.30972222222222223 0.015625 0.022222222222222223\n",
      "\n",
      "[['1', '0.22734374999999998', '0.3416666666666667', '0.14375', '0.10833333333333334'], ['1', '0.36874999999999997', '0.3125', '0.0296875', '0.025'], ['3', '0.445703125', '0.30486111111111114', '0.03203125', '0.0625'], ['3', '0.3984375', '0.30972222222222223', '0.015625', '0.022222222222222223']]\n"
     ]
    }
   ],
   "source": [
    "l_list = bbox_method.get_box_class(txt_list[0])\n",
    "print(l_list)"
   ]
  },
  {
   "cell_type": "code",
   "execution_count": 77,
   "metadata": {},
   "outputs": [
    {
     "name": "stdout",
     "output_type": "stream",
     "text": [
      "['1 0.22734374999999998 0.3416666666666667 0.14375 0.10833333333333334\\n', '1 0.36874999999999997 0.3125 0.0296875 0.025\\n', '3 0.445703125 0.30486111111111114 0.03203125 0.0625\\n', '3 0.3984375 0.30972222222222223 0.015625 0.022222222222222223\\n']\n"
     ]
    }
   ],
   "source": [
    "with open(txt_list[0], 'r') as f:\n",
    "    line_list = []\n",
    "    for line in f:\n",
    "        line_list.append(line)\n",
    "\n",
    "print(line_list)"
   ]
  },
  {
   "cell_type": "code",
   "execution_count": 78,
   "metadata": {},
   "outputs": [
    {
     "name": "stdout",
     "output_type": "stream",
     "text": [
      "0.10833333333333334\n",
      "\n"
     ]
    }
   ],
   "source": [
    "a, b, c, d, e = line_list[0].split(' ')\n",
    "print(e)"
   ]
  },
  {
   "cell_type": "code",
   "execution_count": 79,
   "metadata": {},
   "outputs": [],
   "source": [
    "def check_result(gt_path): #, pred_path):\n",
    "    gt_line = []\n",
    "    pr_line = []\n",
    "\n",
    "    img_path = gt_path.replace('labels', 'images')[:-3] + 'jpg'\n",
    "    print(img_path)\n",
    "    img = cv2.imread(img_path, cv2.IMREAD_COLOR)\n",
    "    \n",
    "    with open(gt_path, 'r') as gt:\n",
    "        for line in gt:\n",
    "            gt_line.append(line)\n",
    "            cls, center_x, center_y, width, height = line.split(' ')\n",
    "            center_x = float(center_x)\n",
    "            center_y = float(center_y)\n",
    "            width = float(width)\n",
    "            height = float(height)\n",
    "            #print(center_x, center_y, width, height)\n",
    "            pt1 = (int(1280*(center_x - 0.5*width)), int(720*(center_y - 0.5*height)))\n",
    "            pt2 = (int(1280*(center_x + 0.5*width)), int(720*(center_y + 0.5*height)))\n",
    "            print(pt1, pt2)\n",
    "            cv2.rectangle(img, pt1, pt2, (255, 255, 0), 2)\n",
    "\n",
    "    #with open(pred_path, 'r') as pr:\n",
    "    #    for line in pr:\n",
    "    #        pr_line.append(line)\n",
    "\n",
    "    cv2.imshow('img', img)\n",
    "    cv2.waitKey()\n",
    "    cv2.destroyAllWindows()"
   ]
  },
  {
   "cell_type": "code",
   "execution_count": 80,
   "metadata": {},
   "outputs": [
    {
     "name": "stdout",
     "output_type": "stream",
     "text": [
      "C:/Users/Ino/Desktop/NextChip/dataset/images/train\\10014.jpg\n",
      "0.925390625 0.3847222222222222 0.04921875 0.07777777777777778\n",
      "(1153, 249) (1216, 304)\n",
      "0.4921875 0.3270833333333333 0.0125 0.015277777777777777\n",
      "(622, 229) (638, 240)\n",
      "0.5179687500000001 0.325 0.0140625 0.025\n",
      "(654, 225) (672, 243)\n",
      "0.43984375000000003 0.32916666666666666 0.0171875 0.019444444444444445\n",
      "(552, 229) (574, 244)\n",
      "0.38398437500000004 0.32708333333333334 0.03046875 0.034722222222222224\n",
      "(472, 223) (511, 248)\n",
      "0.04140625 0.35624999999999996 0.0125 0.07916666666666666\n",
      "(45, 228) (61, 284)\n",
      "0.1375 0.3520833333333333 0.009375 0.06527777777777778\n",
      "(170, 229) (182, 277)\n",
      "0.248046875 0.3416666666666667 0.00859375 0.03611111111111111\n",
      "(312, 233) (323, 259)\n",
      "0.25898437500000004 0.34305555555555556 0.00703125 0.03333333333333333\n",
      "(327, 235) (336, 259)\n",
      "0.284765625 0.3361111111111111 0.00546875 0.041666666666666664\n",
      "(361, 227) (368, 256)\n",
      "0.296875 0.3375 0.00625 0.03333333333333333\n",
      "(376, 231) (384, 255)\n",
      "0.30156249999999996 0.3361111111111111 0.0046875 0.03333333333333333\n",
      "(383, 229) (388, 253)\n"
     ]
    }
   ],
   "source": [
    "check_result(txt_list[20])"
   ]
  },
  {
   "cell_type": "code",
   "execution_count": 6,
   "metadata": {},
   "outputs": [],
   "source": [
    "def make_histo(gt_label_path):\n",
    "    file_list = os.listdir(gt_label_path)\n",
    "    area_list = []\n",
    "    \n",
    "    for name in file_list:\n",
    "        with open(f'{gt_label_path}/{name}', 'r') as txt_file:\n",
    "            for line in txt_file:\n",
    "                a, b, c, w, h = line.split(' ')\n",
    "                w = float(w)\n",
    "                h = float(h)\n",
    "                area = 1280*720*(w*h)\n",
    "                area_list.append(area)\n",
    "\n",
    "    print(len(area_list))\n",
    "    return area_list"
   ]
  },
  {
   "cell_type": "code",
   "execution_count": 7,
   "metadata": {},
   "outputs": [
    {
     "name": "stdout",
     "output_type": "stream",
     "text": [
      "88862\n"
     ]
    }
   ],
   "source": [
    "a_list = make_histo(label_path)"
   ]
  },
  {
   "cell_type": "code",
   "execution_count": 8,
   "metadata": {},
   "outputs": [
    {
     "data": {
      "image/png": "[encoded data removed]",
      "text/plain": [
       "<Figure size 640x480 with 1 Axes>"
      ]
     },
     "metadata": {},
     "output_type": "display_data"
    },
    {
     "name": "stdout",
     "output_type": "stream",
     "text": [
      "921600\n"
     ]
    }
   ],
   "source": [
    "plt.hist(a_list, bins=100)\n",
    "#plt.xlim([0, 10000])\n",
    "plt.show()\n",
    "print(1280*720)"
   ]
  },
  {
   "cell_type": "code",
   "execution_count": 9,
   "metadata": {},
   "outputs": [],
   "source": [
    "# plt.boxplot(a_list)\n",
    "# plt.show()"
   ]
  }
 ],
 "metadata": {
  "kernelspec": {
   "display_name": "notebook",
   "language": "python",
   "name": "python3"
  },
  "language_info": {
   "codemirror_mode": {
    "name": "ipython",
    "version": 3
   },
   "file_extension": ".py",
   "mimetype": "text/x-python",
   "name": "python",
   "nbconvert_exporter": "python",
   "pygments_lexer": "ipython3",
   "version": "3.11.8"
  }
 },
 "nbformat": 4,
 "nbformat_minor": 2
}
