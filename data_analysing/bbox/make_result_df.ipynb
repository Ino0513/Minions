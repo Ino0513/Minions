{
 "cells": [
  {
   "cell_type": "code",
   "execution_count": 1,
   "metadata": {},
   "outputs": [],
   "source": [
    "import cv2\n",
    "import glob\n",
    "import os\n",
    "import matplotlib.pyplot as plt\n",
    "import dataframe_method\n",
    "import graph_method"
   ]
  },
  {
   "cell_type": "code",
   "execution_count": null,
   "metadata": {},
   "outputs": [],
   "source": [
    "true_label_dir = rf'C:\\Users\\Ino\\Desktop\\NextChip\\dataset\\labels\\test_rename'\n",
    "\n",
    "folder_name = ' '\n",
    "pred_label_dir = rf'C:\\Users\\Ino\\Desktop\\NextChip\\eval_result'"
   ]
  },
  {
   "cell_type": "code",
   "execution_count": 3,
   "metadata": {},
   "outputs": [],
   "source": [
    "sample_true = r'C:\\Users\\Ino\\Desktop\\NextChip\\Minions_git\\data_analysing\\bbox\\sample\\true'\n",
    "sample_pred = r'C:\\Users\\Ino\\Desktop\\NextChip\\Minions_git\\data_analysing\\bbox\\sample\\pred'"
   ]
  },
  {
   "cell_type": "code",
   "execution_count": 4,
   "metadata": {},
   "outputs": [],
   "source": [
    "# folder_name = 'v8n_ghost_100best'\n",
    "\n",
    "# v8n_ghost_df = graph_method.get_meta_df(true_label_dir, f'{pred_label_dir}/{folder_name}', 0.5)\n",
    "# v8n_ghost_df.to_csv(rf'C:\\Users\\Ino\\Desktop\\NextChip\\Minions_git\\data_analysing\\bbox\\{folder_name}.csv')"
   ]
  },
  {
   "cell_type": "code",
   "execution_count": 5,
   "metadata": {},
   "outputs": [],
   "source": [
    "# folder_name = 'v8n_ghostp2_100best'\n",
    "\n",
    "# v8n_ghostp2_df = graph_method.get_meta_df(true_label_dir, f'{pred_label_dir}/{folder_name}', 0.5)\n",
    "# v8n_ghostp2_df.to_csv(rf'C:\\Users\\Ino\\Desktop\\NextChip\\Minions_git\\data_analysing\\bbox\\{folder_name}.csv')"
   ]
  },
  {
   "cell_type": "code",
   "execution_count": 6,
   "metadata": {},
   "outputs": [],
   "source": [
    "# folder_name = 'v8n_ghostp6_100best'\n",
    "\n",
    "# v8n_ghostp6_df = graph_method.get_meta_df(true_label_dir, f'{pred_label_dir}/{folder_name}', 0.5)\n",
    "# v8n_ghostp6_df.to_csv(rf'C:\\Users\\Ino\\Desktop\\NextChip\\Minions_git\\data_analysing\\bbox\\{folder_name}.csv')"
   ]
  },
  {
   "cell_type": "code",
   "execution_count": 7,
   "metadata": {},
   "outputs": [],
   "source": [
    "# a_list = graph_method.make_histo_list(true_label_dir)\n",
    "\n",
    "# # histogram\n",
    "# plt.hist(a_list, bins=100)\n",
    "# plt.xlim([0, 120000])\n",
    "# plt.show()\n",
    "# print(1280*720)\n",
    "\n",
    "# # boxplot\n",
    "# plt.boxplot(a_list)\n",
    "# plt.show()"
   ]
  },
  {
   "cell_type": "code",
   "execution_count": 8,
   "metadata": {},
   "outputs": [],
   "source": [
    "# # method test\n",
    "\n",
    "# num = '0000.txt'\n",
    "# true_path = rf'{true_label_dir}/{num}'\n",
    "# pred_path = rf'{sample_pred}/{num}'\n",
    "\n",
    "# info = bbox_method.get_info_from_txt(true_path)\n",
    "# print('info')\n",
    "# for item in info:\n",
    "#     print(item)\n",
    "\n",
    "# print('\\nout')\n",
    "# out = bbox_method.compare_file_to_file(true_path, pred_path)\n",
    "# for item in out:\n",
    "#     print(item)\n",
    "\n",
    "# bbox_method.check_result(true_path, pred_path)"
   ]
  },
  {
   "cell_type": "code",
   "execution_count": 9,
   "metadata": {},
   "outputs": [
    {
     "name": "stdout",
     "output_type": "stream",
     "text": [
      "0000.txt is in the folder, do not excute renaming\n",
      "num of files is same\n"
     ]
    },
    {
     "data": {
      "text/html": [
       "<div>\n",
       "<style scoped>\n",
       "    .dataframe tbody tr th:only-of-type {\n",
       "        vertical-align: middle;\n",
       "    }\n",
       "\n",
       "    .dataframe tbody tr th {\n",
       "        vertical-align: top;\n",
       "    }\n",
       "\n",
       "    .dataframe thead th {\n",
       "        text-align: right;\n",
       "    }\n",
       "</style>\n",
       "<table border=\"1\" class=\"dataframe\">\n",
       "  <thead>\n",
       "    <tr style=\"text-align: right;\">\n",
       "      <th></th>\n",
       "      <th>file_name</th>\n",
       "      <th>class</th>\n",
       "      <th>detect_tf</th>\n",
       "      <th>size</th>\n",
       "      <th>iou_tf</th>\n",
       "      <th>class_tf</th>\n",
       "      <th>iou</th>\n",
       "      <th>conf</th>\n",
       "    </tr>\n",
       "  </thead>\n",
       "  <tbody>\n",
       "    <tr>\n",
       "      <th>206</th>\n",
       "      <td>0100.txt</td>\n",
       "      <td>car</td>\n",
       "      <td>False</td>\n",
       "      <td>442</td>\n",
       "      <td>True</td>\n",
       "      <td>1</td>\n",
       "      <td>0.608815</td>\n",
       "      <td>0.017986</td>\n",
       "    </tr>\n",
       "    <tr>\n",
       "      <th>153</th>\n",
       "      <td>0058.txt</td>\n",
       "      <td>car</td>\n",
       "      <td>False</td>\n",
       "      <td>357</td>\n",
       "      <td>True</td>\n",
       "      <td>1</td>\n",
       "      <td>0.589109</td>\n",
       "      <td>0.119203</td>\n",
       "    </tr>\n",
       "    <tr>\n",
       "      <th>95</th>\n",
       "      <td>0032.txt</td>\n",
       "      <td>car</td>\n",
       "      <td>False</td>\n",
       "      <td>5900</td>\n",
       "      <td>True</td>\n",
       "      <td>1</td>\n",
       "      <td>0.904237</td>\n",
       "      <td>0.268941</td>\n",
       "    </tr>\n",
       "    <tr>\n",
       "      <th>94</th>\n",
       "      <td>0031.txt</td>\n",
       "      <td>car</td>\n",
       "      <td>False</td>\n",
       "      <td>1140</td>\n",
       "      <td>True</td>\n",
       "      <td>1</td>\n",
       "      <td>0.869085</td>\n",
       "      <td>0.119203</td>\n",
       "    </tr>\n",
       "    <tr>\n",
       "      <th>154</th>\n",
       "      <td>0059.txt</td>\n",
       "      <td>car</td>\n",
       "      <td>False</td>\n",
       "      <td>360</td>\n",
       "      <td>True</td>\n",
       "      <td>1</td>\n",
       "      <td>0.780822</td>\n",
       "      <td>0.268941</td>\n",
       "    </tr>\n",
       "    <tr>\n",
       "      <th>...</th>\n",
       "      <td>...</td>\n",
       "      <td>...</td>\n",
       "      <td>...</td>\n",
       "      <td>...</td>\n",
       "      <td>...</td>\n",
       "      <td>...</td>\n",
       "      <td>...</td>\n",
       "      <td>...</td>\n",
       "    </tr>\n",
       "    <tr>\n",
       "      <th>79</th>\n",
       "      <td>0024.txt</td>\n",
       "      <td>car</td>\n",
       "      <td>True</td>\n",
       "      <td>2052</td>\n",
       "      <td>True</td>\n",
       "      <td>1</td>\n",
       "      <td>0.912281</td>\n",
       "      <td>0.880797</td>\n",
       "    </tr>\n",
       "    <tr>\n",
       "      <th>83</th>\n",
       "      <td>0026.txt</td>\n",
       "      <td>car</td>\n",
       "      <td>True</td>\n",
       "      <td>3174</td>\n",
       "      <td>True</td>\n",
       "      <td>1</td>\n",
       "      <td>0.887417</td>\n",
       "      <td>0.880797</td>\n",
       "    </tr>\n",
       "    <tr>\n",
       "      <th>86</th>\n",
       "      <td>0027.txt</td>\n",
       "      <td>car</td>\n",
       "      <td>True</td>\n",
       "      <td>1505</td>\n",
       "      <td>True</td>\n",
       "      <td>1</td>\n",
       "      <td>0.888218</td>\n",
       "      <td>0.500000</td>\n",
       "    </tr>\n",
       "    <tr>\n",
       "      <th>70</th>\n",
       "      <td>0021.txt</td>\n",
       "      <td>car</td>\n",
       "      <td>True</td>\n",
       "      <td>8723</td>\n",
       "      <td>True</td>\n",
       "      <td>1</td>\n",
       "      <td>0.914823</td>\n",
       "      <td>0.731059</td>\n",
       "    </tr>\n",
       "    <tr>\n",
       "      <th>103</th>\n",
       "      <td>0036.txt</td>\n",
       "      <td>car</td>\n",
       "      <td>True</td>\n",
       "      <td>7137</td>\n",
       "      <td>True</td>\n",
       "      <td>1</td>\n",
       "      <td>0.951981</td>\n",
       "      <td>0.500000</td>\n",
       "    </tr>\n",
       "  </tbody>\n",
       "</table>\n",
       "<p>207 rows × 8 columns</p>\n",
       "</div>"
      ],
      "text/plain": [
       "    file_name class detect_tf  size iou_tf  class_tf       iou      conf\n",
       "206  0100.txt   car     False   442   True         1  0.608815  0.017986\n",
       "153  0058.txt   car     False   357   True         1  0.589109  0.119203\n",
       "95   0032.txt   car     False  5900   True         1  0.904237  0.268941\n",
       "94   0031.txt   car     False  1140   True         1  0.869085  0.119203\n",
       "154  0059.txt   car     False   360   True         1  0.780822  0.268941\n",
       "..        ...   ...       ...   ...    ...       ...       ...       ...\n",
       "79   0024.txt   car      True  2052   True         1  0.912281  0.880797\n",
       "83   0026.txt   car      True  3174   True         1  0.887417  0.880797\n",
       "86   0027.txt   car      True  1505   True         1  0.888218  0.500000\n",
       "70   0021.txt   car      True  8723   True         1  0.914823  0.731059\n",
       "103  0036.txt   car      True  7137   True         1  0.951981  0.500000\n",
       "\n",
       "[207 rows x 8 columns]"
      ]
     },
     "metadata": {},
     "output_type": "display_data"
    }
   ],
   "source": [
    "# sample_df\n",
    "# filtered_line_list가 비었을때는 어떻게 동작하는지 체크\n",
    "\n",
    "sample_df = graph_method.get_meta_df(sample_true, sample_pred, 0.5)\n",
    "display(sample_df.sort_values(['detect_tf']))\n",
    "sample_df.to_csv(rf'C:\\Users\\Ino\\Desktop\\NextChip\\Minions_git\\data_analysing\\bbox\\sample.csv')"
   ]
  },
  {
   "cell_type": "code",
   "execution_count": 10,
   "metadata": {},
   "outputs": [],
   "source": [
    "# v5n_CBAM_df = graph_method.get_meta_df(true_label_dir, f'{pred_label_dir}/{folder_name}')\n",
    "# v5n_CBAM_df.to_csv(rf'C:\\Users\\Ino\\Desktop\\NextChip\\Minions_git\\data_analysing\\bbox\\{folder_name}.csv')"
   ]
  },
  {
   "cell_type": "code",
   "execution_count": 11,
   "metadata": {},
   "outputs": [
    {
     "name": "stdout",
     "output_type": "stream",
     "text": [
      "0000.txt is in the folder, do not excute renaming\n",
      "num of files is same\n"
     ]
    }
   ],
   "source": [
    "folder_name = 'v5n_org_100best'\n",
    "v8n_org_100best = graph_method.get_meta_df(true_label_dir, f'{pred_label_dir}/{folder_name}', 0.5)\n",
    "v8n_org_100best.to_csv(rf'C:\\Users\\Ino\\Desktop\\NextChip\\Minions_git\\data_analysing\\bbox\\{folder_name}.csv')"
   ]
  },
  {
   "cell_type": "code",
   "execution_count": 12,
   "metadata": {},
   "outputs": [
    {
     "name": "stdout",
     "output_type": "stream",
     "text": [
      "0000.txt is in the folder, do not excute renaming\n",
      "num of files is same\n"
     ]
    }
   ],
   "source": [
    "folder_name = 'v8n_org_100best'\n",
    "v5n_org_100b = graph_method.get_meta_df(true_label_dir, f'{pred_label_dir}/{folder_name}', 0.5)\n",
    "v5n_org_100b.to_csv(rf'C:\\Users\\Ino\\Desktop\\NextChip\\Minions_git\\data_analysing\\bbox\\{folder_name}.csv')"
   ]
  }
 ],
 "metadata": {
  "kernelspec": {
   "display_name": "notebook",
   "language": "python",
   "name": "python3"
  },
  "language_info": {
   "codemirror_mode": {
    "name": "ipython",
    "version": 3
   },
   "file_extension": ".py",
   "mimetype": "text/x-python",
   "name": "python",
   "nbconvert_exporter": "python",
   "pygments_lexer": "ipython3",
   "version": "3.11.8"
  }
 },
 "nbformat": 4,
 "nbformat_minor": 2
}
