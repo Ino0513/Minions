{
 "cells": [
  {
   "cell_type": "code",
   "execution_count": 3,
   "metadata": {},
   "outputs": [],
   "source": [
    "import cv2\n",
    "import glob\n",
    "import os\n",
    "import matplotlib.pyplot as plt\n",
    "import method_dataframe\n",
    "import method_graph"
   ]
  },
  {
   "cell_type": "code",
   "execution_count": 4,
   "metadata": {},
   "outputs": [],
   "source": [
    "folder_name = ' '\n",
    "\n",
    "true_label_dir = rf'C:\\Users\\Ino\\Desktop\\NextChip\\dataset\\labels\\test_rename'\n",
    "pred_label_dir = rf'C:\\Users\\Ino\\Desktop\\NextChip\\eval_result'\n",
    "result_dir = r'C:\\Users\\Ino\\Desktop\\NextChip\\Minions_git\\result\\data_result'"
   ]
  },
  {
   "cell_type": "code",
   "execution_count": 5,
   "metadata": {},
   "outputs": [],
   "source": [
    "sample_true = r'C:\\Users\\Ino\\Desktop\\NextChip\\Minions_git\\data_analysing\\bbox\\sample\\true'\n",
    "sample_pred = r'C:\\Users\\Ino\\Desktop\\NextChip\\Minions_git\\data_analysing\\bbox\\sample\\pred'"
   ]
  },
  {
   "cell_type": "code",
   "execution_count": 6,
   "metadata": {},
   "outputs": [],
   "source": [
    "# folder_name = 'v8n_ghost_100best'\n",
    "\n",
    "# v8n_ghost_df = graph_method.get_meta_df(true_label_dir, f'{pred_label_dir}/{folder_name}', 0.5)\n",
    "# v8n_ghost_df.to_csv(rf'C:\\Users\\Ino\\Desktop\\NextChip\\Minions_git\\data_analysing\\bbox\\{folder_name}.csv')"
   ]
  },
  {
   "cell_type": "code",
   "execution_count": 7,
   "metadata": {},
   "outputs": [],
   "source": [
    "# folder_name = 'v8n_ghostp2_100best'\n",
    "\n",
    "# v8n_ghostp2_df = graph_method.get_meta_df(true_label_dir, f'{pred_label_dir}/{folder_name}', 0.5)\n",
    "# v8n_ghostp2_df.to_csv(rf'C:\\Users\\Ino\\Desktop\\NextChip\\Minions_git\\data_analysing\\bbox\\{folder_name}.csv')"
   ]
  },
  {
   "cell_type": "code",
   "execution_count": 8,
   "metadata": {},
   "outputs": [],
   "source": [
    "# folder_name = 'v8n_ghostp6_100best'\n",
    "\n",
    "# v8n_ghostp6_df = graph_method.get_meta_df(true_label_dir, f'{pred_label_dir}/{folder_name}', 0.5)\n",
    "# v8n_ghostp6_df.to_csv(rf'C:\\Users\\Ino\\Desktop\\NextChip\\Minions_git\\data_analysing\\bbox\\{folder_name}.csv')"
   ]
  },
  {
   "cell_type": "code",
   "execution_count": 9,
   "metadata": {},
   "outputs": [],
   "source": [
    "# a_list = graph_method.make_histo_list(true_label_dir)\n",
    "\n",
    "# # histogram\n",
    "# plt.hist(a_list, bins=100)\n",
    "# plt.xlim([0, 120000])\n",
    "# plt.show()\n",
    "# print(1280*720)\n",
    "\n",
    "# # boxplot\n",
    "# plt.boxplot(a_list)\n",
    "# plt.show()"
   ]
  },
  {
   "cell_type": "code",
   "execution_count": 10,
   "metadata": {},
   "outputs": [],
   "source": [
    "# # method test\n",
    "\n",
    "# num = '0000.txt'\n",
    "# true_path = rf'{true_label_dir}/{num}'\n",
    "# pred_path = rf'{sample_pred}/{num}'\n",
    "\n",
    "# info = bbox_method.get_info_from_txt(true_path)\n",
    "# print('info')\n",
    "# for item in info:\n",
    "#     print(item)\n",
    "\n",
    "# print('\\nout')\n",
    "# out = bbox_method.compare_file_to_file(true_path, pred_path)\n",
    "# for item in out:\n",
    "#     print(item)\n",
    "\n",
    "# bbox_method.check_result(true_path, pred_path)"
   ]
  },
  {
   "cell_type": "code",
   "execution_count": 11,
   "metadata": {},
   "outputs": [],
   "source": [
    "# # sample_df\n",
    "# # filtered_line_list가 비었을때는 어떻게 동작하는지 체크\n",
    "\n",
    "# sample_df = method_graph.get_meta_df(sample_true, sample_pred, 0.5)\n",
    "# display(sample_df.sort_values(['detect_tf']))\n",
    "# sample_df.to_csv(rf'C:\\Users\\Ino\\Desktop\\NextChip\\Minions_git\\data_analysing\\bbox\\sample.csv')"
   ]
  },
  {
   "cell_type": "code",
   "execution_count": 12,
   "metadata": {},
   "outputs": [],
   "source": [
    "# v5n_CBAM_df = graph_method.get_meta_df(true_label_dir, f'{pred_label_dir}/{folder_name}')\n",
    "# v5n_CBAM_df.to_csv(rf'C:\\Users\\Ino\\Desktop\\NextChip\\Minions_git\\data_analysing\\bbox\\{folder_name}.csv')"
   ]
  },
  {
   "cell_type": "code",
   "execution_count": 13,
   "metadata": {},
   "outputs": [],
   "source": [
    "# folder_name = 'v5n_org_100best'\n",
    "# v8n_org_100best = method_graph.get_meta_df(true_label_dir, f'{pred_label_dir}/{folder_name}', 0.5, 0.1)\n",
    "# v8n_org_100best.to_csv(rf'{result_dir}\\{folder_name}.csv')"
   ]
  },
  {
   "cell_type": "code",
   "execution_count": 14,
   "metadata": {},
   "outputs": [],
   "source": [
    "# folder_name = 'v8n_org_100best'\n",
    "# v5n_org_100b = method_graph.get_meta_df(true_label_dir, f'{pred_label_dir}/{folder_name}', 0.5, 0.1)\n",
    "# v5n_org_100b.to_csv(rf'{result_dir}\\{folder_name}.csv')"
   ]
  },
  {
   "cell_type": "code",
   "execution_count": 15,
   "metadata": {},
   "outputs": [
    {
     "name": "stdout",
     "output_type": "stream",
     "text": [
      "0000.txt is not in the folder, excute renaming\n",
      "num of files is same\n",
      "progress is 14.53%\n",
      "progress is 29.06%\n",
      "progress is 43.59%\n",
      "progress is 58.11%\n",
      "progress is 72.64%\n",
      "progress is 87.17%\n"
     ]
    }
   ],
   "source": [
    "folder_name = 'v8s_ghost_c3ghost_100ep'\n",
    "v8s_ghost_c3ghost_100ep = method_graph.get_meta_df(true_label_dir, f'{pred_label_dir}/{folder_name}', 0.5, 0.1)\n",
    "v8s_ghost_c3ghost_100ep.to_csv(rf'{result_dir}\\{folder_name}.csv')"
   ]
  },
  {
   "cell_type": "code",
   "execution_count": 16,
   "metadata": {},
   "outputs": [],
   "source": [
    "# folder_name = 'v5s_org_100best'\n",
    "# v5s_org_100b = method_graph.get_meta_df(true_label_dir, f'{pred_label_dir}/{folder_name}', 0.5)\n",
    "# v5s_org_100b.to_csv(rf'C:\\Users\\Ino\\Desktop\\NextChip\\Minions_git\\data_analysing\\bbox\\{folder_name}.csv')"
   ]
  },
  {
   "cell_type": "code",
   "execution_count": 17,
   "metadata": {},
   "outputs": [],
   "source": [
    "# folder_name = 'v8s_org_100best'\n",
    "# v8s_org_100b = method_graph.get_meta_df(true_label_dir, f'{pred_label_dir}/{folder_name}', 0.5)\n",
    "# v8s_org_100b.to_csv(rf'C:\\Users\\Ino\\Desktop\\NextChip\\Minions_git\\data_analysing\\bbox\\{folder_name}.csv')"
   ]
  }
 ],
 "metadata": {
  "kernelspec": {
   "display_name": "notebook",
   "language": "python",
   "name": "python3"
  },
  "language_info": {
   "codemirror_mode": {
    "name": "ipython",
    "version": 3
   },
   "file_extension": ".py",
   "mimetype": "text/x-python",
   "name": "python",
   "nbconvert_exporter": "python",
   "pygments_lexer": "ipython3",
   "version": "3.11.8"
  }
 },
 "nbformat": 4,
 "nbformat_minor": 2
}
