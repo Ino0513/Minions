{
 "cells": [
  {
   "cell_type": "code",
   "execution_count": 1,
   "metadata": {},
   "outputs": [],
   "source": [
    "import cv2\n",
    "import glob\n",
    "import os\n",
    "import matplotlib.pyplot as plt\n",
    "import bbox_method\n",
    "import graph_method"
   ]
  },
  {
   "cell_type": "code",
   "execution_count": 2,
   "metadata": {},
   "outputs": [],
   "source": [
    "true_label_dir = rf'C:\\Users\\Ino\\Desktop\\NextChip\\dataset\\labels\\test'\n",
    "\n",
    "# folder_name = 'v8n_ghost'\n",
    "# folder_name = 'v5_next_org'\n",
    "folder_name = ' '\n",
    "pred_label_dir = rf'C:\\Users\\Ino\\Desktop\\NextChip\\eval_result'"
   ]
  },
  {
   "cell_type": "code",
   "execution_count": 3,
   "metadata": {},
   "outputs": [],
   "source": [
    "sample_true = r'C:\\Users\\Ino\\Desktop\\NextChip\\Minions_git\\data_analysing\\bbox\\sample\\true'\n",
    "sample_pred = r'C:\\Users\\Ino\\Desktop\\NextChip\\Minions_git\\data_analysing\\bbox\\sample\\pred'"
   ]
  },
  {
   "cell_type": "code",
   "execution_count": 4,
   "metadata": {},
   "outputs": [],
   "source": [
    "# a_list = graph_method.make_histo_list(true_label_dir)"
   ]
  },
  {
   "cell_type": "code",
   "execution_count": 5,
   "metadata": {},
   "outputs": [],
   "source": [
    "# plt.hist(a_list, bins=100)\n",
    "# plt.xlim([0, 120000])\n",
    "# plt.show()\n",
    "# print(1280*720)"
   ]
  },
  {
   "cell_type": "code",
   "execution_count": 6,
   "metadata": {},
   "outputs": [],
   "source": [
    "# plt.boxplot(a_list)\n",
    "# plt.show()"
   ]
  },
  {
   "cell_type": "code",
   "execution_count": 7,
   "metadata": {},
   "outputs": [
    {
     "name": "stdout",
     "output_type": "stream",
     "text": [
      "info\n",
      "['1', '0.601171875', '0.33333333333333337', '0.07734375', '0.07777777777777778']\n",
      "['1', '0.5125', '0.3159722222222222', '0.0125', '0.015277777777777777']\n",
      "['1', '0.49140625000000004', '0.3173611111111111', '0.0109375', '0.015277777777777777']\n",
      "\n",
      "out\n",
      "['car', True, 5543, 0.940628129586642, 0.731059]\n",
      "['car', True, 175, 0.5138253856765825, 0.047426]\n",
      "['car', True, 154, 0.5368567767923421, 0.268941]\n"
     ]
    }
   ],
   "source": [
    "# method test\n",
    "\n",
    "num = '0000.txt'\n",
    "true_path = rf'{true_label_dir}/{num}'\n",
    "pred_path = rf'{sample_pred}/{num}'\n",
    "\n",
    "info = bbox_method.get_info_from_txt(true_path)\n",
    "print('info')\n",
    "for item in info:\n",
    "    print(item)\n",
    "\n",
    "print('\\nout')\n",
    "out = bbox_method.compare_file_to_file(true_path, pred_path)\n",
    "for item in out:\n",
    "    print(item)\n",
    "\n",
    "bbox_method.check_result(true_path, pred_path)"
   ]
  },
  {
   "cell_type": "code",
   "execution_count": 8,
   "metadata": {},
   "outputs": [],
   "source": [
    "# a = graph_method.get_meta_df(sample_true, sample_pred)\n",
    "# display(a)\n",
    "# a.to_csv(rf'C:\\Users\\Ino\\Desktop\\NextChip\\Minions_git\\data_analysing\\bbox\\sample.csv')"
   ]
  },
  {
   "cell_type": "code",
   "execution_count": 9,
   "metadata": {},
   "outputs": [],
   "source": [
    "# v5n_CBAM_df = graph_method.get_meta_df(true_label_dir, f'{pred_label_dir}/{folder_name}')"
   ]
  },
  {
   "cell_type": "code",
   "execution_count": 10,
   "metadata": {},
   "outputs": [],
   "source": [
    "# v5n_CBAM_df.to_csv(rf'C:\\Users\\Ino\\Desktop\\NextChip\\Minions_git\\data_analysing\\bbox\\{folder_name}.csv')"
   ]
  }
 ],
 "metadata": {
  "kernelspec": {
   "display_name": "notebook",
   "language": "python",
   "name": "python3"
  },
  "language_info": {
   "codemirror_mode": {
    "name": "ipython",
    "version": 3
   },
   "file_extension": ".py",
   "mimetype": "text/x-python",
   "name": "python",
   "nbconvert_exporter": "python",
   "pygments_lexer": "ipython3",
   "version": "3.11.8"
  }
 },
 "nbformat": 4,
 "nbformat_minor": 2
}
