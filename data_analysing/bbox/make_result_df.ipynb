{
 "cells": [
  {
   "cell_type": "code",
   "execution_count": 2,
   "metadata": {},
   "outputs": [],
   "source": [
    "import cv2\n",
    "import glob\n",
    "import os\n",
    "import matplotlib.pyplot as plt\n",
    "import method_dataframe\n",
    "import method_graph"
   ]
  },
  {
   "cell_type": "code",
   "execution_count": 3,
   "metadata": {},
   "outputs": [],
   "source": [
    "folder_name = ' '\n",
    "\n",
    "true_label_dir = rf'C:\\Users\\Ino\\Desktop\\NextChip\\dataset\\labels\\test'\n",
    "true_rename = rf'C:\\Users\\Ino\\Desktop\\NextChip\\dataset\\labels\\test_rename'\n",
    "pred_label_dir = rf'C:\\Users\\Ino\\Desktop\\NextChip\\eval_result'\n",
    "result_dir = r'C:\\Users\\Ino\\Desktop\\NextChip\\Minions_git\\result\\data_result'"
   ]
  },
  {
   "cell_type": "code",
   "execution_count": 3,
   "metadata": {},
   "outputs": [],
   "source": [
    "sample_true = r'C:\\Users\\Ino\\Desktop\\NextChip\\Minions_git\\data_analysing\\bbox\\sample\\true'\n",
    "sample_pred = r'C:\\Users\\Ino\\Desktop\\NextChip\\Minions_git\\data_analysing\\bbox\\sample\\pred'"
   ]
  },
  {
   "cell_type": "code",
   "execution_count": 4,
   "metadata": {},
   "outputs": [],
   "source": [
    "# # sample_df\n",
    "# # filtered_line_list가 비었을때는 어떻게 동작하는지 체크\n",
    "\n",
    "# sample_df = method_dataframe.get_meta_df(sample_true, sample_pred, 0.5, 0.3)\n",
    "# display(sample_df.sort_values(['dt_condition']))\n",
    "# sample_df.to_csv(rf'C:\\Users\\Ino\\Desktop\\NextChip\\Minions_git\\data_analysing\\bbox\\sample.csv')"
   ]
  },
  {
   "cell_type": "code",
   "execution_count": 7,
   "metadata": {},
   "outputs": [
    {
     "name": "stdout",
     "output_type": "stream",
     "text": [
      "num of files is same\n",
      "progress is 14.53%\n",
      "progress is 29.06%\n",
      "progress is 43.59%\n",
      "progress is 58.11%\n",
      "progress is 72.64%\n",
      "progress is 87.17%\n",
      "progress is 100.0%\n"
     ]
    }
   ],
   "source": [
    "folder_name = 'v5n_org_100b'\n",
    "v5n_org_100best = method_dataframe.get_meta_df(true_label_dir, f'{pred_label_dir}/{folder_name}', 0.5, 0.3)\n",
    "v5n_org_100best.to_csv(rf'{result_dir}\\{folder_name}.csv')"
   ]
  },
  {
   "cell_type": "code",
   "execution_count": 8,
   "metadata": {},
   "outputs": [
    {
     "name": "stdout",
     "output_type": "stream",
     "text": [
      "num of files is same\n",
      "progress is 14.53%\n",
      "progress is 29.06%\n",
      "progress is 43.59%\n",
      "progress is 58.11%\n",
      "progress is 72.64%\n",
      "progress is 87.17%\n",
      "progress is 100.0%\n"
     ]
    }
   ],
   "source": [
    "folder_name = 'v8n_org_100b'\n",
    "v8n_org_100b = method_dataframe.get_meta_df(true_label_dir, f'{pred_label_dir}/{folder_name}', 0.5, 0.3)\n",
    "v8n_org_100b.to_csv(rf'{result_dir}\\{folder_name}.csv')"
   ]
  },
  {
   "cell_type": "code",
   "execution_count": 4,
   "metadata": {},
   "outputs": [
    {
     "name": "stdout",
     "output_type": "stream",
     "text": [
      "num of files is same\n",
      "progress is 14.53%\n",
      "progress is 29.06%\n",
      "progress is 43.59%\n",
      "progress is 58.11%\n",
      "progress is 72.64%\n",
      "progress is 87.17%\n",
      "progress is 100.0%\n"
     ]
    }
   ],
   "source": [
    "folder_name = 'v5n_add'\n",
    "v5n_add = method_dataframe.get_meta_df(true_label_dir, f'{pred_label_dir}/{folder_name}', 0.5, 0.3)\n",
    "v5n_add.to_csv(rf'{result_dir}\\{folder_name}.csv')"
   ]
  },
  {
   "cell_type": "code",
   "execution_count": 5,
   "metadata": {},
   "outputs": [
    {
     "name": "stdout",
     "output_type": "stream",
     "text": [
      "num of files is same\n",
      "progress is 14.53%\n",
      "progress is 29.06%\n",
      "progress is 43.59%\n",
      "progress is 58.11%\n",
      "progress is 72.64%\n",
      "progress is 87.17%\n",
      "progress is 100.0%\n"
     ]
    }
   ],
   "source": [
    "folder_name = 'v8n_add'\n",
    "v8n_add = method_dataframe.get_meta_df(true_label_dir, f'{pred_label_dir}/{folder_name}', 0.5, 0.3)\n",
    "v8n_add.to_csv(rf'{result_dir}\\{folder_name}.csv')"
   ]
  }
 ],
 "metadata": {
  "kernelspec": {
   "display_name": "notebook",
   "language": "python",
   "name": "python3"
  },
  "language_info": {
   "codemirror_mode": {
    "name": "ipython",
    "version": 3
   },
   "file_extension": ".py",
   "mimetype": "text/x-python",
   "name": "python",
   "nbconvert_exporter": "python",
   "pygments_lexer": "ipython3",
   "version": "3.11.8"
  }
 },
 "nbformat": 4,
 "nbformat_minor": 2
}
