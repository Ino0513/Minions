{
 "cells": [
  {
   "cell_type": "code",
   "execution_count": 1,
   "metadata": {},
   "outputs": [],
   "source": [
    "import cv2\n",
    "import glob\n",
    "import method_draw"
   ]
  },
  {
   "cell_type": "code",
   "execution_count": 2,
   "metadata": {},
   "outputs": [],
   "source": [
    "file_name = '3514.txt'\n",
    "gt = rf'C:\\Users\\Ino\\Desktop\\NextChip\\dataset\\labels\\test\\{file_name}'\n",
    "pred = rf'C:\\Users\\Ino\\Desktop\\NextChip\\eval_result\\v8n_org_100best\\{file_name}'"
   ]
  },
  {
   "cell_type": "code",
   "execution_count": 3,
   "metadata": {},
   "outputs": [],
   "source": [
    "# method_draw.check_result(gt, pred)"
   ]
  },
  {
   "cell_type": "code",
   "execution_count": 5,
   "metadata": {},
   "outputs": [],
   "source": [
    "method_draw.draw_box(gt, [0, 4, 7, 10])"
   ]
  },
  {
   "cell_type": "code",
   "execution_count": 21,
   "metadata": {},
   "outputs": [
    {
     "name": "stdout",
     "output_type": "stream",
     "text": [
      "['C:/Users/Ino/Downloads/add_data/bicycle_add_dataset/bicycle_add_dataset/train/labels/1.txt', 'C:/Users/Ino/Downloads/add_data/bicycle_add_dataset/bicycle_add_dataset/train/labels/10.txt', 'C:/Users/Ino/Downloads/add_data/bicycle_add_dataset/bicycle_add_dataset/train/labels/100.txt', 'C:/Users/Ino/Downloads/add_data/bicycle_add_dataset/bicycle_add_dataset/train/labels/1000.txt', 'C:/Users/Ino/Downloads/add_data/bicycle_add_dataset/bicycle_add_dataset/train/labels/1001.txt', 'C:/Users/Ino/Downloads/add_data/bicycle_add_dataset/bicycle_add_dataset/train/labels/1002.txt', 'C:/Users/Ino/Downloads/add_data/bicycle_add_dataset/bicycle_add_dataset/train/labels/1003.txt', 'C:/Users/Ino/Downloads/add_data/bicycle_add_dataset/bicycle_add_dataset/train/labels/1004.txt', 'C:/Users/Ino/Downloads/add_data/bicycle_add_dataset/bicycle_add_dataset/train/labels/1005.txt', 'C:/Users/Ino/Downloads/add_data/bicycle_add_dataset/bicycle_add_dataset/train/labels/1006.txt']\n"
     ]
    }
   ],
   "source": [
    "txt_list = glob.glob(r'C:\\Users\\Ino\\Downloads\\add_data\\bicycle_add_dataset\\bicycle_add_dataset\\train\\labels\\*.txt')\n",
    "txt_list = [txt.replace('\\\\', '/') for txt in txt_list]\n",
    "print(txt_list[:10])"
   ]
  },
  {
   "cell_type": "code",
   "execution_count": 25,
   "metadata": {},
   "outputs": [],
   "source": [
    "for item in txt_list[150:170]:\n",
    "    method_draw.draw_box(item, 'all')"
   ]
  }
 ],
 "metadata": {
  "kernelspec": {
   "display_name": "notebook",
   "language": "python",
   "name": "python3"
  },
  "language_info": {
   "codemirror_mode": {
    "name": "ipython",
    "version": 3
   },
   "file_extension": ".py",
   "mimetype": "text/x-python",
   "name": "python",
   "nbconvert_exporter": "python",
   "pygments_lexer": "ipython3",
   "version": "3.11.8"
  }
 },
 "nbformat": 4,
 "nbformat_minor": 2
}
