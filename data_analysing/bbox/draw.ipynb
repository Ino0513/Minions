{
 "cells": [
  {
   "cell_type": "code",
   "execution_count": 1,
   "metadata": {},
   "outputs": [],
   "source": [
    "import cv2\n",
    "import glob\n",
    "import method_draw"
   ]
  },
  {
   "cell_type": "code",
   "execution_count": 2,
   "metadata": {},
   "outputs": [],
   "source": [
    "# file_name = '0015.txt'\n",
    "# gt = rf'C:\\Users\\Ino\\Desktop\\NextChip\\dataset\\labels\\test\\{file_name}'\n",
    "# pred = rf'C:\\Users\\Ino\\Desktop\\NextChip\\eval_result\\v8n_org_100best\\{file_name}'"
   ]
  },
  {
   "cell_type": "code",
   "execution_count": 3,
   "metadata": {},
   "outputs": [],
   "source": [
    "# method_draw.check_result(gt, pred)"
   ]
  },
  {
   "cell_type": "code",
   "execution_count": null,
   "metadata": {},
   "outputs": [
    {
     "ename": "FileNotFoundError",
     "evalue": "[Errno 2] No such file or directory: 'C:\\\\Users\\\\Ino\\\\Desktop\\\\NextChip\\\\dataset\\\\images\\\\add\\\\mot\\\\120.txt'",
     "output_type": "error",
     "traceback": [
      "\u001b[1;31m---------------------------------------------------------------------------\u001b[0m",
      "\u001b[1;31mFileNotFoundError\u001b[0m                         Traceback (most recent call last)",
      "Cell \u001b[1;32mIn[4], line 2\u001b[0m\n\u001b[0;32m      1\u001b[0m path \u001b[38;5;241m=\u001b[39m \u001b[38;5;124mr\u001b[39m\u001b[38;5;124m'\u001b[39m\u001b[38;5;124mC:\u001b[39m\u001b[38;5;124m\\\u001b[39m\u001b[38;5;124mUsers\u001b[39m\u001b[38;5;124m\\\u001b[39m\u001b[38;5;124mIno\u001b[39m\u001b[38;5;124m\\\u001b[39m\u001b[38;5;124mDesktop\u001b[39m\u001b[38;5;124m\\\u001b[39m\u001b[38;5;124mNextChip\u001b[39m\u001b[38;5;124m\\\u001b[39m\u001b[38;5;124mdataset\u001b[39m\u001b[38;5;124m\\\u001b[39m\u001b[38;5;124mimages\u001b[39m\u001b[38;5;124m\\\u001b[39m\u001b[38;5;124madd\u001b[39m\u001b[38;5;124m\\\u001b[39m\u001b[38;5;124mmot\u001b[39m\u001b[38;5;124m\\\u001b[39m\u001b[38;5;124m120.txt\u001b[39m\u001b[38;5;124m'\u001b[39m\n\u001b[1;32m----> 2\u001b[0m \u001b[43mmethod_draw\u001b[49m\u001b[38;5;241;43m.\u001b[39;49m\u001b[43mdraw_box\u001b[49m\u001b[43m(\u001b[49m\u001b[43mpath\u001b[49m\u001b[43m,\u001b[49m\u001b[43m \u001b[49m\u001b[38;5;124;43m'\u001b[39;49m\u001b[38;5;124;43mall\u001b[39;49m\u001b[38;5;124;43m'\u001b[39;49m\u001b[43m)\u001b[49m\n",
      "File \u001b[1;32mc:\\Users\\Ino\\Desktop\\NextChip\\Minions_git\\data_analysing\\bbox\\method_draw.py:56\u001b[0m, in \u001b[0;36mdraw_box\u001b[1;34m(gt_txt_path, idx_list)\u001b[0m\n\u001b[0;32m     53\u001b[0m img_size \u001b[38;5;241m=\u001b[39m (gt_img\u001b[38;5;241m.\u001b[39mshape[\u001b[38;5;241m1\u001b[39m], gt_img\u001b[38;5;241m.\u001b[39mshape[\u001b[38;5;241m0\u001b[39m])\n\u001b[0;32m     55\u001b[0m \u001b[38;5;66;03m# get info\u001b[39;00m\n\u001b[1;32m---> 56\u001b[0m info \u001b[38;5;241m=\u001b[39m \u001b[43mmethod_dataframe\u001b[49m\u001b[38;5;241;43m.\u001b[39;49m\u001b[43mget_info_from_txt\u001b[49m\u001b[43m(\u001b[49m\u001b[43mgt_txt_path\u001b[49m\u001b[43m)\u001b[49m\n\u001b[0;32m     58\u001b[0m \u001b[38;5;28;01mif\u001b[39;00m(idx_list \u001b[38;5;241m==\u001b[39m \u001b[38;5;124m'\u001b[39m\u001b[38;5;124mall\u001b[39m\u001b[38;5;124m'\u001b[39m):\n\u001b[0;32m     59\u001b[0m     idx_list \u001b[38;5;241m=\u001b[39m \u001b[38;5;28mrange\u001b[39m(\u001b[38;5;241m0\u001b[39m, \u001b[38;5;28mlen\u001b[39m(info), \u001b[38;5;241m1\u001b[39m)\n",
      "File \u001b[1;32mc:\\Users\\Ino\\Desktop\\NextChip\\Minions_git\\data_analysing\\bbox\\method_dataframe.py:17\u001b[0m, in \u001b[0;36mget_info_from_txt\u001b[1;34m(file_path)\u001b[0m\n\u001b[0;32m     16\u001b[0m \u001b[38;5;28;01mdef\u001b[39;00m \u001b[38;5;21mget_info_from_txt\u001b[39m(file_path):\n\u001b[1;32m---> 17\u001b[0m     \u001b[38;5;28;01mwith\u001b[39;00m \u001b[38;5;28;43mopen\u001b[39;49m\u001b[43m(\u001b[49m\u001b[43mfile_path\u001b[49m\u001b[43m,\u001b[49m\u001b[43m \u001b[49m\u001b[38;5;124;43m'\u001b[39;49m\u001b[38;5;124;43mr\u001b[39;49m\u001b[38;5;124;43m'\u001b[39;49m\u001b[43m)\u001b[49m \u001b[38;5;28;01mas\u001b[39;00m f:\n\u001b[0;32m     18\u001b[0m         line_list \u001b[38;5;241m=\u001b[39m []\n\u001b[0;32m     19\u001b[0m         \u001b[38;5;28;01mfor\u001b[39;00m line \u001b[38;5;129;01min\u001b[39;00m f:\n",
      "\u001b[1;31mFileNotFoundError\u001b[0m: [Errno 2] No such file or directory: 'C:\\\\Users\\\\Ino\\\\Desktop\\\\NextChip\\\\dataset\\\\images\\\\add\\\\mot\\\\120.txt'"
     ]
    }
   ],
   "source": [
    "path = r'C:\\Users\\Ino\\Desktop\\NextChip\\dataset\\labels\\add\\mot\\120.txt'\n",
    "method_draw.draw_box(path, 'all')"
   ]
  },
  {
   "cell_type": "code",
   "execution_count": null,
   "metadata": {},
   "outputs": [],
   "source": [
    "# txt_list = glob.glob(r'C:\\Users\\Ino\\Downloads\\add_data\\bicycle_add_dataset\\bicycle_add_dataset\\train\\labels\\*.txt')\n",
    "# txt_list = [txt.replace('\\\\', '/') for txt in txt_list]\n",
    "# print(txt_list[:10])"
   ]
  },
  {
   "cell_type": "code",
   "execution_count": null,
   "metadata": {},
   "outputs": [
    {
     "ename": "NameError",
     "evalue": "name 'txt_list' is not defined",
     "output_type": "error",
     "traceback": [
      "\u001b[1;31m---------------------------------------------------------------------------\u001b[0m",
      "\u001b[1;31mNameError\u001b[0m                                 Traceback (most recent call last)",
      "Cell \u001b[1;32mIn[6], line 1\u001b[0m\n\u001b[1;32m----> 1\u001b[0m \u001b[38;5;28;01mfor\u001b[39;00m item \u001b[38;5;129;01min\u001b[39;00m \u001b[43mtxt_list\u001b[49m[\u001b[38;5;241m150\u001b[39m:\u001b[38;5;241m170\u001b[39m]:\n\u001b[0;32m      2\u001b[0m     method_draw\u001b[38;5;241m.\u001b[39mdraw_box(item, \u001b[38;5;124m'\u001b[39m\u001b[38;5;124mall\u001b[39m\u001b[38;5;124m'\u001b[39m)\n",
      "\u001b[1;31mNameError\u001b[0m: name 'txt_list' is not defined"
     ]
    }
   ],
   "source": [
    "# for item in txt_list[150:170]:\n",
    "#     method_draw.draw_box(item, 'all')"
   ]
  }
 ],
 "metadata": {
  "kernelspec": {
   "display_name": "notebook",
   "language": "python",
   "name": "python3"
  },
  "language_info": {
   "codemirror_mode": {
    "name": "ipython",
    "version": 3
   },
   "file_extension": ".py",
   "mimetype": "text/x-python",
   "name": "python",
   "nbconvert_exporter": "python",
   "pygments_lexer": "ipython3",
   "version": "3.11.8"
  }
 },
 "nbformat": 4,
 "nbformat_minor": 2
}
