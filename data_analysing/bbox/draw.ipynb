{
 "cells": [
  {
   "cell_type": "code",
   "execution_count": 1,
   "metadata": {},
   "outputs": [],
   "source": [
    "import cv2\n",
    "import glob\n",
    "import method_draw"
   ]
  },
  {
   "cell_type": "code",
   "execution_count": 2,
   "metadata": {},
   "outputs": [],
   "source": [
    "# file_name = '0015.txt'\n",
    "# gt = rf'C:\\Users\\Ino\\Desktop\\NextChip\\dataset\\labels\\test\\{file_name}'\n",
    "# pred = rf'C:\\Users\\Ino\\Desktop\\NextChip\\eval_result\\v8n_org_100best\\{file_name}'"
   ]
  },
  {
   "cell_type": "code",
   "execution_count": 3,
   "metadata": {},
   "outputs": [],
   "source": [
    "# method_draw.check_result(gt, pred)"
   ]
  },
  {
   "cell_type": "code",
   "execution_count": 5,
   "metadata": {},
   "outputs": [
    {
     "name": "stdout",
     "output_type": "stream",
     "text": [
      "[0.29453125, 0.7265625, 0.0609375, 0.1296875, (640, 640)]\n",
      "[0.33828125, 0.5328125, 0.034375, 0.078125, (640, 640)]\n",
      "[0.59140625, 0.29609375, 0.01484375, 0.03515625, (640, 640)]\n"
     ]
    }
   ],
   "source": [
    "path = r'C:\\Users\\Ino\\Desktop\\NextChip\\dataset\\labels\\add\\mot\\120.txt'\n",
    "method_draw.draw_box(path, 'all')"
   ]
  },
  {
   "cell_type": "code",
   "execution_count": null,
   "metadata": {},
   "outputs": [],
   "source": [
    "# txt_list = glob.glob(r'C:\\Users\\Ino\\Downloads\\add_data\\bicycle_add_dataset\\bicycle_add_dataset\\train\\labels\\*.txt')\n",
    "# txt_list = [txt.replace('\\\\', '/') for txt in txt_list]\n",
    "# print(txt_list[:10])"
   ]
  },
  {
   "cell_type": "code",
   "execution_count": null,
   "metadata": {},
   "outputs": [
    {
     "ename": "NameError",
     "evalue": "name 'txt_list' is not defined",
     "output_type": "error",
     "traceback": [
      "\u001b[1;31m---------------------------------------------------------------------------\u001b[0m",
      "\u001b[1;31mNameError\u001b[0m                                 Traceback (most recent call last)",
      "Cell \u001b[1;32mIn[6], line 1\u001b[0m\n\u001b[1;32m----> 1\u001b[0m \u001b[38;5;28;01mfor\u001b[39;00m item \u001b[38;5;129;01min\u001b[39;00m \u001b[43mtxt_list\u001b[49m[\u001b[38;5;241m150\u001b[39m:\u001b[38;5;241m170\u001b[39m]:\n\u001b[0;32m      2\u001b[0m     method_draw\u001b[38;5;241m.\u001b[39mdraw_box(item, \u001b[38;5;124m'\u001b[39m\u001b[38;5;124mall\u001b[39m\u001b[38;5;124m'\u001b[39m)\n",
      "\u001b[1;31mNameError\u001b[0m: name 'txt_list' is not defined"
     ]
    }
   ],
   "source": [
    "# for item in txt_list[150:170]:\n",
    "#     method_draw.draw_box(item, 'all')"
   ]
  }
 ],
 "metadata": {
  "kernelspec": {
   "display_name": "notebook",
   "language": "python",
   "name": "python3"
  },
  "language_info": {
   "codemirror_mode": {
    "name": "ipython",
    "version": 3
   },
   "file_extension": ".py",
   "mimetype": "text/x-python",
   "name": "python",
   "nbconvert_exporter": "python",
   "pygments_lexer": "ipython3",
   "version": "3.11.8"
  }
 },
 "nbformat": 4,
 "nbformat_minor": 2
}
