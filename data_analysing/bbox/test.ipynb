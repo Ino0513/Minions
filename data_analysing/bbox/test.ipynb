{
 "cells": [
  {
   "cell_type": "code",
   "execution_count": null,
   "metadata": {},
   "outputs": [],
   "source": [
    "import os\n",
    "import method_dataframe\n",
    "import method_draw\n",
    "import method_graph"
   ]
  },
  {
   "cell_type": "code",
   "execution_count": null,
   "metadata": {},
   "outputs": [
    {
     "name": "stdout",
     "output_type": "stream",
     "text": [
      "C:\\Users\\Ino\\Desktop\\NextChip\\evaluator\n",
      "{'metrics/precision(B)': 0.9059927376888878, 'metrics/recall(B)': 0.237954967783801, 'metrics/mAP50(B)': 0.3030666163574533, 'metrics/mAP50-95(B)': 0.1924925115748492, 'fitness': 0.20354992205310962}\n",
      "metrics/precision(B) | metrics/recall(B) | metrics/mAP50(B)   | metrics/mAP50-95(B) | fitness            \n",
      "-------------------- | ----------------- | ------------------ | ------------------- | -------------------\n",
      "0.9059927376888878   | 0.237954967783801 | 0.3030666163574533 | 0.1924925115748492  | 0.20354992205310962\n",
      "{'metrics/precision(B)': 0.9059927376888878, 'metrics/recall(B)': 0.237954967783801, 'metrics/mAP50(B)': 0.3030666163574533, 'metrics/mAP50-95(B)': 0.1924925115748492, 'fitness': 0.20354992205310962}\n",
      "metrics/precision(B) | metrics/recall(B) | metrics/mAP50(B)   | metrics/mAP50-95(B) | fitness            \n",
      "-------------------- | ----------------- | ------------------ | ------------------- | -------------------\n",
      "0.9059927376888878   | 0.237954967783801 | 0.3030666163574533 | 0.1924925115748492  | 0.20354992205310962\n"
     ]
    }
   ],
   "source": [
    "%cd C:\\Users\\Ino\\Desktop\\NextChip\\evaluator\n",
    "\n",
    "# !python evaluate.py --pred v5n_org_100best\n",
    "# !python evaluate.py --pred v8n_org_100best\n",
    "# !python evaluate.py --pred v8n_ghost_100best\n",
    "# !python evaluate.py --pred v8n_ghostp2_100best\n",
    "# !python evaluate.py --pred v8n_ghostp6_100best\n",
    "# !python evaluate.py --pred v8s_ghost_c3ghost_100ep\n",
    "!python evaluate.py --pred v5n_add\n",
    "!python evaluate.py --pred v8n_add\n",
    "!python evaluate.py --pred v5n_add_new"
   ]
  },
  {
   "cell_type": "code",
   "execution_count": null,
   "metadata": {},
   "outputs": [],
   "source": [
    "# name = '0087.txt'\n",
    "# sample_true = rf'C:\\Users\\Ino\\Desktop\\NextChip\\Minions_git\\data_analysing\\bbox\\sample\\true\\{name}'\n",
    "# sample_pred = rf'C:\\Users\\Ino\\Desktop\\NextChip\\Minions_git\\data_analysing\\bbox\\sample\\pred\\{name}'\n",
    "# detect_list = method_dataframe.ftf_by_true(sample_true, sample_pred, 0.5, 0.3)\n",
    "\n",
    "# print('\\n')\n",
    "# for item in detect_list:\n",
    "#     print(item)"
   ]
  },
  {
   "cell_type": "code",
   "execution_count": null,
   "metadata": {},
   "outputs": [],
   "source": [
    "# method_dataframe.compare_line_to_line()"
   ]
  }
 ],
 "metadata": {
  "kernelspec": {
   "display_name": "yolov8",
   "language": "python",
   "name": "python3"
  },
  "language_info": {
   "codemirror_mode": {
    "name": "ipython",
    "version": 3
   },
   "file_extension": ".py",
   "mimetype": "text/x-python",
   "name": "python",
   "nbconvert_exporter": "python",
   "pygments_lexer": "ipython3",
   "version": "3.12.7"
  }
 },
 "nbformat": 4,
 "nbformat_minor": 2
}
