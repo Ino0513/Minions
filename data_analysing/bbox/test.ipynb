{
 "cells": [
  {
   "cell_type": "code",
   "execution_count": 1,
   "metadata": {},
   "outputs": [],
   "source": [
    "import os\n",
    "import bbox_method\n",
    "import graph_method"
   ]
  },
  {
   "cell_type": "code",
   "execution_count": 2,
   "metadata": {},
   "outputs": [
    {
     "name": "stdout",
     "output_type": "stream",
     "text": [
      "['0.txt', '1.txt', '2.txt', '3.txt']\n"
     ]
    }
   ],
   "source": [
    "t_list = ['1.txt', '2.txt', '3.txt', '4.txt']\n",
    "\n",
    "for idx in range(len(t_list)):\n",
    "    name = t_list[idx]\n",
    "    num = int(name.split('.')[0])\n",
    "    new_name = name.replace(f'{num}', f'{num-1}')\n",
    "    t_list[idx] = new_name\n",
    "\n",
    "print(t_list)"
   ]
  },
  {
   "cell_type": "code",
   "execution_count": 1,
   "metadata": {},
   "outputs": [
    {
     "name": "stdout",
     "output_type": "stream",
     "text": [
      "00013.txt\n",
      "<class 'str'>\n"
     ]
    }
   ],
   "source": [
    "a = 13\n",
    "b = '{0:05d}.txt'.format(a)\n",
    "print(b)\n",
    "print(type(b))"
   ]
  },
  {
   "cell_type": "code",
   "execution_count": 5,
   "metadata": {},
   "outputs": [
    {
     "name": "stdout",
     "output_type": "stream",
     "text": [
      "164.99999999999957\n"
     ]
    }
   ],
   "source": [
    "true_bbox = bbox_method.coordinate_conveter(0.469140625, 0.31875, 0.01171875, 0.015277777777777777, 1280, 720)\n",
    "true_bbox_area = (true_bbox[2] - true_bbox[0]) * (true_bbox[3] - true_bbox[1])\n",
    "print(true_bbox_area)"
   ]
  },
  {
   "cell_type": "code",
   "execution_count": 8,
   "metadata": {},
   "outputs": [
    {
     "name": "stdout",
     "output_type": "stream",
     "text": [
      "per\n"
     ]
    }
   ],
   "source": [
    "cls_dict = {'0': 'per',\n",
    "                    '1': 'car',\n",
    "                    '2': 'bus',\n",
    "                    '3': 'tru',\n",
    "                    '4': 'cyc',\n",
    "                    '5': 'mot'}\n",
    "\n",
    "print(cls_dict['0'])"
   ]
  }
 ],
 "metadata": {
  "kernelspec": {
   "display_name": "notebook",
   "language": "python",
   "name": "python3"
  },
  "language_info": {
   "codemirror_mode": {
    "name": "ipython",
    "version": 3
   },
   "file_extension": ".py",
   "mimetype": "text/x-python",
   "name": "python",
   "nbconvert_exporter": "python",
   "pygments_lexer": "ipython3",
   "version": "3.11.8"
  }
 },
 "nbformat": 4,
 "nbformat_minor": 2
}
