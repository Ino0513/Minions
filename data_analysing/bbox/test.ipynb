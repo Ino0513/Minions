{
 "cells": [
  {
   "cell_type": "code",
   "execution_count": 1,
   "metadata": {},
   "outputs": [],
   "source": [
    "import os\n",
    "import dataframe_method\n",
    "import graph_method\n",
    "import draw_method"
   ]
  },
  {
   "cell_type": "code",
   "execution_count": 2,
   "metadata": {},
   "outputs": [],
   "source": [
    "# dataframe_method.draw_box(r'C:\\Users\\Ino\\Desktop\\NextChip\\dataset\\labels\\test\\0097.txt', 0, (1280, 720))"
   ]
  },
  {
   "cell_type": "code",
   "execution_count": 3,
   "metadata": {},
   "outputs": [],
   "source": [
    "# graph_method.rename_files(r'C:\\Users\\Ino\\Desktop\\NextChip\\eval_result\\v8n_ghostp6_100best')"
   ]
  },
  {
   "cell_type": "code",
   "execution_count": 16,
   "metadata": {},
   "outputs": [
    {
     "name": "stdout",
     "output_type": "stream",
     "text": [
      "C:\\Users\\Ino\\Desktop\\NextChip\\dataset\\images\\test\\0801.jpg\n"
     ]
    }
   ],
   "source": [
    "file_name = '0801.txt'\n",
    "gt = rf'C:\\Users\\Ino\\Desktop\\NextChip\\dataset\\labels\\test_rename\\{file_name}'\n",
    "pred = rf'C:\\Users\\Ino\\Desktop\\NextChip\\eval_result\\v8n_org_100best\\{file_name}'\n",
    "draw_method.check_result(gt, pred)"
   ]
  },
  {
   "cell_type": "code",
   "execution_count": 5,
   "metadata": {},
   "outputs": [],
   "source": [
    "# name_list = [\n",
    "#     'v5n_org_100best',\n",
    "#     'v8n_org_100best',\n",
    "# ]\n",
    "\n",
    "# for name in name_list:\n",
    "#     graph_method.rename_files(rf'C:\\Users\\Ino\\Desktop\\NextChip\\eval_result\\{name}')"
   ]
  },
  {
   "cell_type": "code",
   "execution_count": 6,
   "metadata": {},
   "outputs": [],
   "source": [
    "# %cd C:\\Users\\Ino\\Desktop\\NextChip\\evaluator\n",
    "\n",
    "# !python evaluate.py --pred v5n_org_100best\n",
    "# !python evaluate.py --pred v8n_org_100best\n",
    "# !python evaluate.py --pred v8n_ghost_100best\n",
    "# !python evaluate.py --pred v8n_ghostp2_100best\n",
    "# !python evaluate.py --pred v8n_ghostp6_100best"
   ]
  },
  {
   "cell_type": "code",
   "execution_count": null,
   "metadata": {},
   "outputs": [],
   "source": []
  }
 ],
 "metadata": {
  "kernelspec": {
   "display_name": "notebook",
   "language": "python",
   "name": "python3"
  },
  "language_info": {
   "codemirror_mode": {
    "name": "ipython",
    "version": 3
   },
   "file_extension": ".py",
   "mimetype": "text/x-python",
   "name": "python",
   "nbconvert_exporter": "python",
   "pygments_lexer": "ipython3",
   "version": "3.11.8"
  }
 },
 "nbformat": 4,
 "nbformat_minor": 2
}
