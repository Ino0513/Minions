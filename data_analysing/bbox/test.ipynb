{
 "cells": [
  {
   "cell_type": "code",
   "execution_count": null,
   "metadata": {},
   "outputs": [],
   "source": [
    "import os\n",
    "import method_dataframe\n",
    "import method_draw\n",
    "import method_graph"
   ]
  },
  {
   "cell_type": "code",
   "execution_count": 6,
   "metadata": {},
   "outputs": [
    {
     "name": "stdout",
     "output_type": "stream",
     "text": [
      "C:\\Users\\Ino\\Desktop\\NextChip\\evaluator\n"
     ]
    },
    {
     "name": "stdout",
     "output_type": "stream",
     "text": [
      "{'metrics/precision(B)': 0.8461496506989911, 'metrics/recall(B)': 0.35659437092303214, 'metrics/mAP50(B)': 0.47249205713862447, 'metrics/mAP50-95(B)': 0.2970891855542208, 'fitness': 0.3146294727126612}\n",
      "metrics/precision(B) | metrics/recall(B)   | metrics/mAP50(B)    | metrics/mAP50-95(B) | fitness           \n",
      "-------------------- | ------------------- | ------------------- | ------------------- | ------------------\n",
      "0.8461496506989911   | 0.35659437092303214 | 0.47249205713862447 | 0.2970891855542208  | 0.3146294727126612\n",
      "{'metrics/precision(B)': 0.9120949478048065, 'metrics/recall(B)': 0.33993153311598445, 'metrics/mAP50(B)': 0.4400107547222892, 'metrics/mAP50-95(B)': 0.2757973313040751, 'fitness': 0.2922186736458965}\n",
      "metrics/precision(B) | metrics/recall(B)   | metrics/mAP50(B)   | metrics/mAP50-95(B) | fitness           \n",
      "-------------------- | ------------------- | ------------------ | ------------------- | ------------------\n",
      "0.9120949478048065   | 0.33993153311598445 | 0.4400107547222892 | 0.2757973313040751  | 0.2922186736458965\n"
     ]
    }
   ],
   "source": [
    "%cd C:\\Users\\Ino\\Desktop\\NextChip\\evaluator\n",
    "\n",
    "# !python evaluate.py --pred v5n_org_100best\n",
    "# !python evaluate.py --pred v8n_org_100best\n",
    "# !python evaluate.py --pred v8n_ghost_100best\n",
    "# !python evaluate.py --pred v8n_ghostp2_100best\n",
    "# !python evaluate.py --pred v8n_ghostp6_100best\n",
    "# !python evaluate.py --pred v5n_add\n",
    "# !python evaluate.py --pred v8n_add\n",
    "# !python evaluate.py --pred v5n_add_new\n",
    "# !python evaluate.py --pred v8s_ghost_c3ghost_100ep\n",
    "\n",
    "!python evaluate.py --pred v8s_ghost_c3ghost_100ep_2\n",
    "!python evaluate.py --pred v8s_org_100ep_2"
   ]
  },
  {
   "cell_type": "code",
   "execution_count": null,
   "metadata": {},
   "outputs": [],
   "source": [
    "# name = '0087.txt'\n",
    "# sample_true = rf'C:\\Users\\Ino\\Desktop\\NextChip\\Minions_git\\data_analysing\\bbox\\sample\\true\\{name}'\n",
    "# sample_pred = rf'C:\\Users\\Ino\\Desktop\\NextChip\\Minions_git\\data_analysing\\bbox\\sample\\pred\\{name}'\n",
    "# detect_list = method_dataframe.ftf_by_true(sample_true, sample_pred, 0.5, 0.3)\n",
    "\n",
    "# print('\\n')\n",
    "# for item in detect_list:\n",
    "#     print(item)"
   ]
  },
  {
   "cell_type": "code",
   "execution_count": null,
   "metadata": {},
   "outputs": [],
   "source": [
    "# method_dataframe.compare_line_to_line()"
   ]
  }
 ],
 "metadata": {
  "kernelspec": {
   "display_name": "yolov8",
   "language": "python",
   "name": "python3"
  },
  "language_info": {
   "codemirror_mode": {
    "name": "ipython",
    "version": 3
   },
   "file_extension": ".py",
   "mimetype": "text/x-python",
   "name": "python",
   "nbconvert_exporter": "python",
   "pygments_lexer": "ipython3",
   "version": "3.12.7"
  }
 },
 "nbformat": 4,
 "nbformat_minor": 2
}
