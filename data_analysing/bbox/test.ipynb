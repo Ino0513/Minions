{
 "cells": [
  {
   "cell_type": "code",
   "execution_count": 3,
   "metadata": {},
   "outputs": [],
   "source": [
    "import os\n",
    "import dataframe_method\n",
    "import graph_method"
   ]
  },
  {
   "cell_type": "code",
   "execution_count": 4,
   "metadata": {},
   "outputs": [
    {
     "name": "stdout",
     "output_type": "stream",
     "text": [
      "[1, 0.44275, 0.314504, 0.016543, 0.02767, 0.001501]\n",
      "[1, 0.490502, 0.31652, 0.019498, 0.014417, 0.029312]\n",
      "[1, 0.512528, 0.318789, 0.019056, 0.018957, 0.029312]\n",
      "[1, 0.538853, 0.317877, 0.016232, 0.020839, 0.00407]\n",
      "[1, 0.60198, 0.335854, 0.073079, 0.078246, 0.817575]\n",
      "[1, 0.601766, 0.335855, 0.075063, 0.078273, 0.817575]\n",
      "[1, 0.602376, 0.333335, 0.073919, 0.073143, 0.817575]\n",
      "[1, 0.60233, 0.333339, 0.074016, 0.073159, 0.817575]\n",
      "[1, 0.442938, 0.318267, 0.014364, 0.016914, 0.002473]\n",
      "[1, 0.490047, 0.317201, 0.016859, 0.019035, 0.006693]\n",
      "[1, 0.512456, 0.317178, 0.017008, 0.019081, 0.00407]\n",
      "[1, 0.512538, 0.316536, 0.016988, 0.017736, 0.010987]\n",
      "[1, 0.537792, 0.319173, 0.014918, 0.023243, 0.002473]\n",
      "[1, 0.600799, 0.333346, 0.076527, 0.073655, 0.731059]\n",
      "[1, 0.602886, 0.333335, 0.074995, 0.073681, 0.817575]\n",
      "[1, 0.601559, 0.333339, 0.075018, 0.073703, 0.731059]\n",
      "[1, 0.601532, 0.334469, 0.075004, 0.075955, 0.817575]\n",
      "[1, 0.602237, 0.33337, 0.073613, 0.073615, 0.029312]\n",
      "[1, 0.600818, 0.332257, 0.073396, 0.075881, 0.029312]\n",
      "[1, 0.602883, 0.332228, 0.074955, 0.075931, 0.622459]\n",
      "[2, 0.538853, 0.317877, 0.016232, 0.020839, 0.002473]\n",
      "[3, 0.538853, 0.317877, 0.016232, 0.020839, 0.001501]\n"
     ]
    }
   ],
   "source": [
    "a = dataframe_method.get_info_from_txt(r'C:\\Users\\Ino\\Desktop\\NextChip\\eval_result\\v5_next_org\\0000.txt')\n",
    "for item in a:\n",
    "    print(item)"
   ]
  },
  {
   "cell_type": "code",
   "execution_count": 4,
   "metadata": {},
   "outputs": [
    {
     "name": "stdout",
     "output_type": "stream",
     "text": [
      "['0.txt', '1.txt', '2.txt', '3.txt']\n"
     ]
    }
   ],
   "source": [
    "t_list = ['1.txt', '2.txt', '3.txt', '4.txt']\n",
    "\n",
    "for idx in range(len(t_list)):\n",
    "    name = t_list[idx]\n",
    "    num = int(name.split('.')[0])\n",
    "    new_name = name.replace(f'{num}', f'{num-1}')\n",
    "    t_list[idx] = new_name\n",
    "\n",
    "print(t_list)"
   ]
  },
  {
   "cell_type": "code",
   "execution_count": 5,
   "metadata": {},
   "outputs": [
    {
     "name": "stdout",
     "output_type": "stream",
     "text": [
      "00013.txt\n",
      "<class 'str'>\n"
     ]
    }
   ],
   "source": [
    "a = 13\n",
    "b = '{0:05d}.txt'.format(a)\n",
    "print(b)\n",
    "print(type(b))"
   ]
  },
  {
   "cell_type": "code",
   "execution_count": 6,
   "metadata": {},
   "outputs": [
    {
     "name": "stdout",
     "output_type": "stream",
     "text": [
      "150\n"
     ]
    }
   ],
   "source": [
    "true_bbox = dataframe_method.coordinate_conveter(0.469140625, 0.31875, 0.01171875, 0.015277777777777777, 1280, 720)\n",
    "true_bbox_area = (true_bbox[2] - true_bbox[0]) * (true_bbox[3] - true_bbox[1])\n",
    "print(true_bbox_area)"
   ]
  },
  {
   "cell_type": "code",
   "execution_count": 7,
   "metadata": {},
   "outputs": [
    {
     "name": "stdout",
     "output_type": "stream",
     "text": [
      "per\n"
     ]
    }
   ],
   "source": [
    "cls_dict = {'0': 'per',\n",
    "                    '1': 'car',\n",
    "                    '2': 'bus',\n",
    "                    '3': 'tru',\n",
    "                    '4': 'cyc',\n",
    "                    '5': 'mot'}\n",
    "\n",
    "print(cls_dict['0'])"
   ]
  },
  {
   "cell_type": "code",
   "execution_count": 8,
   "metadata": {},
   "outputs": [
    {
     "name": "stdout",
     "output_type": "stream",
     "text": [
      "[1, 2, 3]\n",
      "[[0, 0, 2, 3]]\n"
     ]
    }
   ],
   "source": [
    "a = ['empty']\n",
    "a = [1, 2, 3]\n",
    "b = [4, 5, 6, 7]\n",
    "print(a)\n",
    "c = []\n",
    "c.append([0, 0, *a[-2:]])\n",
    "print(c)"
   ]
  },
  {
   "cell_type": "code",
   "execution_count": 14,
   "metadata": {},
   "outputs": [],
   "source": [
    "dataframe_method.draw_box(r'C:\\Users\\Ino\\Desktop\\NextChip\\dataset\\labels\\test\\0097.txt', 0, (1280, 720))"
   ]
  },
  {
   "cell_type": "code",
   "execution_count": 6,
   "metadata": {},
   "outputs": [
    {
     "name": "stdout",
     "output_type": "stream",
     "text": [
      "<class 'bool'>\n",
      "<class 'bool'>\n"
     ]
    }
   ],
   "source": [
    "print(type('not_exist' == 'True'))\n",
    "print(type(True == True))"
   ]
  },
  {
   "cell_type": "code",
   "execution_count": null,
   "metadata": {},
   "outputs": [
    {
     "name": "stdout",
     "output_type": "stream",
     "text": [
      "<class 'bool'>\n",
      "not_exist\n",
      "<class 'bool'>\n",
      "True\n",
      "<class 'bool'>\n",
      "positive\n",
      "<class 'bool'>\n",
      "True\n",
      "<class 'bool'>\n",
      "not_exist\n",
      "<class 'bool'>\n",
      "True\n",
      "<class 'bool'>\n",
      "not_exist\n",
      "<class 'bool'>\n",
      "True\n",
      "<class 'bool'>\n",
      "not_exist\n",
      "<class 'bool'>\n",
      "True\n",
      "<class 'bool'>\n",
      "not_exist\n",
      "<class 'bool'>\n",
      "True\n",
      "<class 'bool'>\n",
      "not_exist\n",
      "<class 'bool'>\n",
      "True\n",
      "<class 'bool'>\n",
      "not_exist\n",
      "<class 'bool'>\n",
      "True\n",
      "<class 'bool'>\n",
      "not_exist\n",
      "<class 'bool'>\n",
      "True\n",
      "<class 'bool'>\n",
      "not_exist\n",
      "<class 'bool'>\n",
      "True\n",
      "<class 'bool'>\n",
      "not_exist\n",
      "<class 'bool'>\n",
      "True\n",
      "<class 'bool'>\n",
      "not_exist\n",
      "<class 'bool'>\n",
      "True\n",
      "<class 'bool'>\n",
      "not_exist\n",
      "<class 'bool'>\n",
      "True\n",
      "<class 'bool'>\n",
      "not_exist\n",
      "<class 'bool'>\n",
      "True\n",
      "<class 'bool'>\n",
      "not_exist\n",
      "<class 'bool'>\n",
      "True\n",
      "<class 'bool'>\n",
      "True\n",
      "<class 'bool'>\n",
      "True\n",
      "[['car', False, 92486, -1, -1, -1, -1], ['car', True, 368, 'True', True, 0.6012658227848101, 0.00407]]\n"
     ]
    }
   ],
   "source": [
    "import dataframe_method\n",
    "dataframe_method.compare_file_to_file(r'C:\\Users\\Ino\\Desktop\\NextChip\\dataset\\labels\\test\\0097.txt',\n",
    "                                      r'C:\\Users\\Ino\\Desktop\\NextChip\\eval_result\\v5_next_org\\0097.txt', 0.5)"
   ]
  },
  {
   "cell_type": "code",
   "execution_count": 2,
   "metadata": {},
   "outputs": [
    {
     "name": "stdout",
     "output_type": "stream",
     "text": [
      "False\n"
     ]
    }
   ],
   "source": [
    "a = 'not_exist'\n",
    "b = True\n",
    "print((a == 'True') & (b == True))"
   ]
  }
 ],
 "metadata": {
  "kernelspec": {
   "display_name": "notebook",
   "language": "python",
   "name": "python3"
  },
  "language_info": {
   "codemirror_mode": {
    "name": "ipython",
    "version": 3
   },
   "file_extension": ".py",
   "mimetype": "text/x-python",
   "name": "python",
   "nbconvert_exporter": "python",
   "pygments_lexer": "ipython3",
   "version": "3.11.8"
  }
 },
 "nbformat": 4,
 "nbformat_minor": 2
}
