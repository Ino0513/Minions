{
 "cells": [
  {
   "cell_type": "code",
   "execution_count": 1,
   "metadata": {},
   "outputs": [],
   "source": [
    "import os\n",
    "import dataframe_method\n",
    "import graph_method"
   ]
  },
  {
   "cell_type": "code",
   "execution_count": 2,
   "metadata": {},
   "outputs": [],
   "source": [
    "# dataframe_method.draw_box(r'C:\\Users\\Ino\\Desktop\\NextChip\\dataset\\labels\\test\\0097.txt', 0, (1280, 720))"
   ]
  },
  {
   "cell_type": "code",
   "execution_count": null,
   "metadata": {},
   "outputs": [
    {
     "name": "stdout",
     "output_type": "stream",
     "text": [
      "0000.txt is in the folder, do not excute renaming\n"
     ]
    }
   ],
   "source": [
    "# graph_method.rename_files(r'C:\\Users\\Ino\\Desktop\\NextChip\\eval_result\\v8n_ghostp6_100best')"
   ]
  },
  {
   "cell_type": "code",
   "execution_count": 4,
   "metadata": {},
   "outputs": [],
   "source": [
    "# file_name = '0900.txt'\n",
    "# gt = rf'C:\\Users\\Ino\\Desktop\\NextChip\\dataset\\labels\\test\\{file_name}'\n",
    "# pred = rf'C:\\Users\\Ino\\Desktop\\NextChip\\eval_result\\v8n_ghostp6_100best\\{file_name}'\n",
    "# dataframe_method.check_result(gt, pred)"
   ]
  },
  {
   "cell_type": "code",
   "execution_count": 5,
   "metadata": {},
   "outputs": [],
   "source": [
    "# name_list = [\n",
    "#     'v5n_org_100best',\n",
    "#     'v8n_org_100best',\n",
    "# ]\n",
    "\n",
    "# for name in name_list:\n",
    "#     graph_method.rename_files(rf'C:\\Users\\Ino\\Desktop\\NextChip\\eval_result\\{name}')"
   ]
  },
  {
   "cell_type": "code",
   "execution_count": null,
   "metadata": {},
   "outputs": [
    {
     "name": "stdout",
     "output_type": "stream",
     "text": [
      "C:\\Users\\Ino\\Desktop\\NextChip\\evaluator\n",
      "{'metrics/precision(B)': 0.8775566027471102, 'metrics/recall(B)': 0.25791581336125063, 'metrics/mAP50(B)': 0.31609393460166785, 'metrics/mAP50-95(B)': 0.1946431347198115, 'fitness': 0.20678821470799713}\n",
      "metrics/precision(B) | metrics/recall(B)   | metrics/mAP50(B)    | metrics/mAP50-95(B) | fitness            \n",
      "-------------------- | ------------------- | ------------------- | ------------------- | -------------------\n",
      "0.8775566027471102   | 0.25791581336125063 | 0.31609393460166785 | 0.1946431347198115  | 0.20678821470799713\n",
      "{'metrics/precision(B)': 0.8054188270897352, 'metrics/recall(B)': 0.28458695617212343, 'metrics/mAP50(B)': 0.3451238602439821, 'metrics/mAP50-95(B)': 0.2139036016827823, 'fitness': 0.2270256275389023}\n",
      "metrics/precision(B) | metrics/recall(B)   | metrics/mAP50(B)   | metrics/mAP50-95(B) | fitness           \n",
      "-------------------- | ------------------- | ------------------ | ------------------- | ------------------\n",
      "0.8054188270897352   | 0.28458695617212343 | 0.3451238602439821 | 0.2139036016827823  | 0.2270256275389023\n",
      "{'metrics/precision(B)': 0.873667175340069, 'metrics/recall(B)': 0.21897788305449065, 'metrics/mAP50(B)': 0.27587758529562284, 'metrics/mAP50-95(B)': 0.16896333408374714, 'fitness': 0.17965475920493473}\n",
      "metrics/precision(B) | metrics/recall(B)   | metrics/mAP50(B)    | metrics/mAP50-95(B) | fitness            \n",
      "-------------------- | ------------------- | ------------------- | ------------------- | -------------------\n",
      "0.873667175340069    | 0.21897788305449065 | 0.27587758529562284 | 0.16896333408374714 | 0.17965475920493473\n",
      "{'metrics/precision(B)': 0.880756583600612, 'metrics/recall(B)': 0.14366997422987896, 'metrics/mAP50(B)': 0.22969002773209357, 'metrics/mAP50-95(B)': 0.14502094594995527, 'fitness': 0.15348785412816912}\n",
      "metrics/precision(B) | metrics/recall(B)   | metrics/mAP50(B)    | metrics/mAP50-95(B) | fitness            \n",
      "-------------------- | ------------------- | ------------------- | ------------------- | -------------------\n",
      "0.880756583600612    | 0.14366997422987896 | 0.22969002773209357 | 0.14502094594995527 | 0.15348785412816912\n"
     ]
    },
    {
     "name": "stderr",
     "output_type": "stream",
     "text": [
      "C:\\Users\\Ino\\Desktop\\NextChip\\evaluator\\evaluate.py:70: UserWarning: loadtxt: input contained no data: \"C:/Users/Ino/Desktop/NextChip/eval_result/v8n_ghostp2_100best\\5058.txt\"\n",
      "  pred = np.loadtxt(os.path.join(pred_path, p_name))\n",
      "C:\\Users\\Ino\\Desktop\\NextChip\\evaluator\\evaluate.py:70: UserWarning: loadtxt: input contained no data: \"C:/Users/Ino/Desktop/NextChip/eval_result/v8n_ghostp2_100best\\5059.txt\"\n",
      "  pred = np.loadtxt(os.path.join(pred_path, p_name))\n",
      "C:\\Users\\Ino\\Desktop\\NextChip\\evaluator\\evaluate.py:70: UserWarning: loadtxt: input contained no data: \"C:/Users/Ino/Desktop/NextChip/eval_result/v8n_ghostp2_100best\\5060.txt\"\n",
      "  pred = np.loadtxt(os.path.join(pred_path, p_name))\n"
     ]
    },
    {
     "name": "stdout",
     "output_type": "stream",
     "text": [
      "{'metrics/precision(B)': 0.43217912835983485, 'metrics/recall(B)': 0.11037541580809355, 'metrics/mAP50(B)': 0.2796739636441821, 'metrics/mAP50-95(B)': 0.20374571500165253, 'fitness': 0.2113385398659055}\n",
      "metrics/precision(B) | metrics/recall(B)   | metrics/mAP50(B)   | metrics/mAP50-95(B) | fitness           \n",
      "-------------------- | ------------------- | ------------------ | ------------------- | ------------------\n",
      "0.43217912835983485  | 0.11037541580809355 | 0.2796739636441821 | 0.20374571500165253 | 0.2113385398659055\n"
     ]
    }
   ],
   "source": [
    "# %cd C:\\Users\\Ino\\Desktop\\NextChip\\evaluator\n",
    "\n",
    "# !python evaluate.py --pred v5n_org_100best\n",
    "# !python evaluate.py --pred v8n_org_100best\n",
    "# !python evaluate.py --pred v8n_ghost_100best\n",
    "# !python evaluate.py --pred v8n_ghostp2_100best\n",
    "# !python evaluate.py --pred v8n_ghostp6_100best"
   ]
  },
  {
   "cell_type": "code",
   "execution_count": null,
   "metadata": {},
   "outputs": [],
   "source": []
  }
 ],
 "metadata": {
  "kernelspec": {
   "display_name": "yolov8",
   "language": "python",
   "name": "python3"
  },
  "language_info": {
   "codemirror_mode": {
    "name": "ipython",
    "version": 3
   },
   "file_extension": ".py",
   "mimetype": "text/x-python",
   "name": "python",
   "nbconvert_exporter": "python",
   "pygments_lexer": "ipython3",
   "version": "3.12.7"
  }
 },
 "nbformat": 4,
 "nbformat_minor": 2
}
