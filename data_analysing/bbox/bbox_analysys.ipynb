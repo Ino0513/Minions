{
 "cells": [
  {
   "cell_type": "code",
   "execution_count": 2,
   "metadata": {},
   "outputs": [],
   "source": [
    "import cv2\n",
    "import glob\n",
    "import os\n",
    "import matplotlib.pyplot as plt\n",
    "import pandas as pd"
   ]
  },
  {
   "cell_type": "code",
   "execution_count": 1,
   "metadata": {},
   "outputs": [],
   "source": [
    "import method_dataframe\n",
    "import method_graph\n",
    "import method_draw"
   ]
  },
  {
   "cell_type": "code",
   "execution_count": 35,
   "metadata": {},
   "outputs": [
    {
     "data": {
      "text/html": [
       "<div>\n",
       "<style scoped>\n",
       "    .dataframe tbody tr th:only-of-type {\n",
       "        vertical-align: middle;\n",
       "    }\n",
       "\n",
       "    .dataframe tbody tr th {\n",
       "        vertical-align: top;\n",
       "    }\n",
       "\n",
       "    .dataframe thead th {\n",
       "        text-align: right;\n",
       "    }\n",
       "</style>\n",
       "<table border=\"1\" class=\"dataframe\">\n",
       "  <thead>\n",
       "    <tr style=\"text-align: right;\">\n",
       "      <th></th>\n",
       "      <th>file_name</th>\n",
       "      <th>class</th>\n",
       "      <th>detect_tf</th>\n",
       "      <th>size</th>\n",
       "      <th>iou_tf</th>\n",
       "      <th>class_tf</th>\n",
       "      <th>iou</th>\n",
       "      <th>conf</th>\n",
       "    </tr>\n",
       "  </thead>\n",
       "  <tbody>\n",
       "    <tr>\n",
       "      <th>25022</th>\n",
       "      <td>3514.txt</td>\n",
       "      <td>per</td>\n",
       "      <td>False</td>\n",
       "      <td>27</td>\n",
       "      <td>not_exist</td>\n",
       "      <td>-100</td>\n",
       "      <td>-100.000000</td>\n",
       "      <td>-1.000000</td>\n",
       "    </tr>\n",
       "    <tr>\n",
       "      <th>20555</th>\n",
       "      <td>3186.txt</td>\n",
       "      <td>car</td>\n",
       "      <td>False</td>\n",
       "      <td>28</td>\n",
       "      <td>not_exist</td>\n",
       "      <td>-100</td>\n",
       "      <td>-100.000000</td>\n",
       "      <td>-1.000000</td>\n",
       "    </tr>\n",
       "    <tr>\n",
       "      <th>25004</th>\n",
       "      <td>3514.txt</td>\n",
       "      <td>per</td>\n",
       "      <td>False</td>\n",
       "      <td>33</td>\n",
       "      <td>not_exist</td>\n",
       "      <td>-100</td>\n",
       "      <td>-100.000000</td>\n",
       "      <td>-1.000000</td>\n",
       "    </tr>\n",
       "    <tr>\n",
       "      <th>20589</th>\n",
       "      <td>3191.txt</td>\n",
       "      <td>car</td>\n",
       "      <td>False</td>\n",
       "      <td>36</td>\n",
       "      <td>not_exist</td>\n",
       "      <td>-100</td>\n",
       "      <td>-100.000000</td>\n",
       "      <td>-1.000000</td>\n",
       "    </tr>\n",
       "    <tr>\n",
       "      <th>23192</th>\n",
       "      <td>3437.txt</td>\n",
       "      <td>per</td>\n",
       "      <td>False</td>\n",
       "      <td>36</td>\n",
       "      <td>not_exist</td>\n",
       "      <td>-100</td>\n",
       "      <td>-100.000000</td>\n",
       "      <td>-1.000000</td>\n",
       "    </tr>\n",
       "    <tr>\n",
       "      <th>...</th>\n",
       "      <td>...</td>\n",
       "      <td>...</td>\n",
       "      <td>...</td>\n",
       "      <td>...</td>\n",
       "      <td>...</td>\n",
       "      <td>...</td>\n",
       "      <td>...</td>\n",
       "      <td>...</td>\n",
       "    </tr>\n",
       "    <tr>\n",
       "      <th>10257</th>\n",
       "      <td>1761.txt</td>\n",
       "      <td>tru</td>\n",
       "      <td>False</td>\n",
       "      <td>342125</td>\n",
       "      <td>not_exist</td>\n",
       "      <td>-100</td>\n",
       "      <td>-100.000000</td>\n",
       "      <td>-1.000000</td>\n",
       "    </tr>\n",
       "    <tr>\n",
       "      <th>9834</th>\n",
       "      <td>1687.txt</td>\n",
       "      <td>tru</td>\n",
       "      <td>False</td>\n",
       "      <td>394626</td>\n",
       "      <td>not_exist</td>\n",
       "      <td>-100</td>\n",
       "      <td>-100.000000</td>\n",
       "      <td>-1.000000</td>\n",
       "    </tr>\n",
       "    <tr>\n",
       "      <th>9860</th>\n",
       "      <td>1694.txt</td>\n",
       "      <td>car</td>\n",
       "      <td>only_pos</td>\n",
       "      <td>407511</td>\n",
       "      <td>positive</td>\n",
       "      <td>0</td>\n",
       "      <td>0.006341</td>\n",
       "      <td>0.001501</td>\n",
       "    </tr>\n",
       "    <tr>\n",
       "      <th>9831</th>\n",
       "      <td>1686.txt</td>\n",
       "      <td>tru</td>\n",
       "      <td>False</td>\n",
       "      <td>410400</td>\n",
       "      <td>not_exist</td>\n",
       "      <td>-100</td>\n",
       "      <td>-100.000000</td>\n",
       "      <td>-1.000000</td>\n",
       "    </tr>\n",
       "    <tr>\n",
       "      <th>9857</th>\n",
       "      <td>1693.txt</td>\n",
       "      <td>car</td>\n",
       "      <td>False</td>\n",
       "      <td>423108</td>\n",
       "      <td>not_exist</td>\n",
       "      <td>-100</td>\n",
       "      <td>-100.000000</td>\n",
       "      <td>-1.000000</td>\n",
       "    </tr>\n",
       "  </tbody>\n",
       "</table>\n",
       "<p>50067 rows × 8 columns</p>\n",
       "</div>"
      ],
      "text/plain": [
       "      file_name class detect_tf    size     iou_tf  class_tf         iou  \\\n",
       "25022  3514.txt   per     False      27  not_exist      -100 -100.000000   \n",
       "20555  3186.txt   car     False      28  not_exist      -100 -100.000000   \n",
       "25004  3514.txt   per     False      33  not_exist      -100 -100.000000   \n",
       "20589  3191.txt   car     False      36  not_exist      -100 -100.000000   \n",
       "23192  3437.txt   per     False      36  not_exist      -100 -100.000000   \n",
       "...         ...   ...       ...     ...        ...       ...         ...   \n",
       "10257  1761.txt   tru     False  342125  not_exist      -100 -100.000000   \n",
       "9834   1687.txt   tru     False  394626  not_exist      -100 -100.000000   \n",
       "9860   1694.txt   car  only_pos  407511   positive         0    0.006341   \n",
       "9831   1686.txt   tru     False  410400  not_exist      -100 -100.000000   \n",
       "9857   1693.txt   car     False  423108  not_exist      -100 -100.000000   \n",
       "\n",
       "           conf  \n",
       "25022 -1.000000  \n",
       "20555 -1.000000  \n",
       "25004 -1.000000  \n",
       "20589 -1.000000  \n",
       "23192 -1.000000  \n",
       "...         ...  \n",
       "10257 -1.000000  \n",
       "9834  -1.000000  \n",
       "9860   0.001501  \n",
       "9831  -1.000000  \n",
       "9857  -1.000000  \n",
       "\n",
       "[50067 rows x 8 columns]"
      ]
     },
     "metadata": {},
     "output_type": "display_data"
    }
   ],
   "source": [
    "# load result_df\n",
    "csv_path = r'C:\\Users\\Ino\\Desktop\\NextChip\\Minions_git\\result\\data_result'\n",
    "result_df = pd.read_csv(rf'{csv_path}\\v5n_org_100best.csv', index_col= 0)\n",
    "display(result_df.sort_values('size'))"
   ]
  },
  {
   "cell_type": "code",
   "execution_count": 36,
   "metadata": {},
   "outputs": [],
   "source": [
    "#display(result_df.sort_values(by= ['box_size']))"
   ]
  },
  {
   "cell_type": "code",
   "execution_count": 37,
   "metadata": {},
   "outputs": [],
   "source": [
    "# # show size\n",
    "# trues = [0.7953125, 0.4097222222222222, 0.1671875, 0.2722222222222222]\n",
    "# preds = [0, 0, 0, 0]\n",
    "# iou, bbox = dataframe_method.get_IoU(trues, preds)\n",
    "# print('bbox size is', bbox)\n",
    "# file_name = '5807.txt'\n",
    "\n",
    "# # show Bbox\n",
    "# txt_path = rf'C:\\Users\\Ino\\Desktop\\NextChip\\dataset\\labels\\test\\{file_name}'\n",
    "# draw_method.draw_box(txt_path, 0, (1280, 720))"
   ]
  },
  {
   "cell_type": "code",
   "execution_count": 38,
   "metadata": {},
   "outputs": [],
   "source": [
    "# box size별 정확도\n",
    "\n",
    "# range 설정\n",
    "bin = [0, 700, 1900, 7500, 921600]\n",
    "\n",
    "# size별로 df 필터링\n",
    "xsmall_df = result_df[(bin[0] <= result_df['size']) & (result_df['size'] < bin[1])]\n",
    "small_df = result_df[(bin[1] <= result_df['size']) & (result_df['size'] < bin[2])]\n",
    "medium_df = result_df[(bin[2] <= result_df['size']) & (result_df['size'] < bin[3])]\n",
    "medium2_df = result_df[(bin[3] <= result_df['size']) & (result_df['size'] < bin[4])]\n",
    "# large_df = result_df[(bin[4] <= result_df['size']) & (result_df['size'] < bin[5])]\n",
    "\n",
    "# display(xsmall_df.sort_values(by= ['size']))\n",
    "# display(small_df.sort_values(by= ['size']))\n",
    "# display(medium_df.sort_values(by= ['size']))\n",
    "# display(large_df.sort_values(by= ['size']))"
   ]
  },
  {
   "cell_type": "code",
   "execution_count": 62,
   "metadata": {},
   "outputs": [],
   "source": [
    "def make_acc(df):\n",
    "    acc = len(df[(df['detect_tf'] == 'True') | (df['detect_tf'] == 'lack_conf') | (df['detect_tf'] == 'only_pos')]) / len(df)\n",
    "    print(round(acc*100, 3), 'num is', len(df[(df['detect_tf'] == 'True') | (df['detect_tf'] == 'lack_conf') | (df['detect_tf'] == 'only_pos')]), len(df))\n",
    "    \n",
    "    return round(acc*100, 2) #, len(df[(df['detect_tf'] == 'True') | (df['detect_tf'] == 'lack_conf')]), len(df)"
   ]
  },
  {
   "cell_type": "code",
   "execution_count": 63,
   "metadata": {},
   "outputs": [
    {
     "name": "stdout",
     "output_type": "stream",
     "text": [
      "5.98 num is 889 14867\n",
      "11.374 num is 1371 12054\n",
      "16.08 num is 2032 12637\n",
      "18.013 num is 1893 10509\n"
     ]
    }
   ],
   "source": [
    "acc1 = make_acc(xsmall_df)\n",
    "acc2 = make_acc(small_df)\n",
    "acc3 = make_acc(medium_df)\n",
    "acc4 = make_acc(medium2_df)"
   ]
  },
  {
   "cell_type": "code",
   "execution_count": 64,
   "metadata": {},
   "outputs": [
    {
     "name": "stdout",
     "output_type": "stream",
     "text": [
      "5.98\n"
     ]
    }
   ],
   "source": [
    "print(acc1)"
   ]
  },
  {
   "cell_type": "code",
   "execution_count": 65,
   "metadata": {},
   "outputs": [
    {
     "data": {
      "text/plain": [
       "Text(0.5, 1.0, 'Acc_by_box_size')"
      ]
     },
     "execution_count": 65,
     "metadata": {},
     "output_type": "execute_result"
    },
    {
     "data": {
      "image/png": "[encoded data removed]",
      "text/plain": [
       "<Figure size 640x480 with 1 Axes>"
      ]
     },
     "metadata": {},
     "output_type": "display_data"
    }
   ],
   "source": [
    "x = ['0 ~ 700', '700 ~ 1900', '1900 ~ 7500', '7500 ~ ']\n",
    "y = [acc1, acc2, acc3, acc4]\n",
    "plt.bar(x, y)\n",
    "plt.title('Acc_by_box_size')"
   ]
  },
  {
   "cell_type": "code",
   "execution_count": null,
   "metadata": {},
   "outputs": [
    {
     "name": "stdout",
     "output_type": "stream",
     "text": [
      "0.007 num is 14867\n"
     ]
    },
    {
     "data": {
      "text/plain": [
       "(6.726306585054147e-05, 1)"
      ]
     },
     "execution_count": 22,
     "metadata": {},
     "output_type": "execute_result"
    }
   ],
   "source": [
    "make_acc(xsmall_df, 'True')"
   ]
  },
  {
   "cell_type": "code",
   "execution_count": 41,
   "metadata": {},
   "outputs": [
    {
     "name": "stdout",
     "output_type": "stream",
     "text": [
      "acc_of_x is  0.007 , num of x is 14867\n",
      "acc_of_s is  0.141 , num of s is 12054\n",
      "acc_of_m is 0.277 , num of m is 12637\n",
      "acc_of_m2 is 0.19 , num of m2 is 10509\n",
      "acc_of_l is 0.243 , num of l is 22635\n",
      "72702\n",
      "50067\n"
     ]
    }
   ],
   "source": [
    "# acc by size\n",
    "\n",
    "acc_of_xsmall = len(xsmall_df[xsmall_df['detect_tf'] == 'True']) / (len(xsmall_df))\n",
    "print('acc_of_x is ', round(acc_of_xsmall*100, 3), ', num of x is', len(xsmall_df))\n",
    "\n",
    "acc_of_small = len(small_df[small_df['detect_tf'] == 'True']) / (len(small_df))\n",
    "print('acc_of_s is ', round(acc_of_small*100, 3), ', num of s is', len(small_df))\n",
    "\n",
    "acc_of_medium = len(medium_df[medium_df['detect_tf'] == 'True']) / (len(medium_df))\n",
    "print('acc_of_m is', round(acc_of_medium*100, 3), ', num of m is', len(medium_df))\n",
    "\n",
    "acc_of_medium2 = len(medium2_df[medium2_df['detect_tf'] == 'True']) / (len(medium2_df))\n",
    "print('acc_of_m2 is', round(acc_of_medium2*100, 3), ', num of m2 is', len(medium2_df))\n",
    "\n",
    "acc_of_large = len(large_df[large_df['detect_tf'] == 'True']) / (len(large_df))\n",
    "print('acc_of_l is', round(acc_of_large*100, 3), ', num of l is', len(large_df))\n",
    "\n",
    "print(len(xsmall_df) + len(small_df) + len(medium_df) + len(medium2_df) + len(large_df) + len(result_df[result_df['size'] == -100])) \n",
    "print(len(result_df))"
   ]
  },
  {
   "cell_type": "code",
   "execution_count": 4,
   "metadata": {},
   "outputs": [
    {
     "name": "stdout",
     "output_type": "stream",
     "text": [
      "progress is 14.53%\n",
      "progress is 29.06%\n",
      "progress is 43.59%\n",
      "progress is 58.11%\n",
      "progress is 72.64%\n",
      "progress is 87.17%\n"
     ]
    }
   ],
   "source": [
    "# class별 정확도\n",
    "true_df = method_dataframe.get_ratio(r'C:\\Users\\Ino\\Desktop\\NextChip\\dataset\\labels\\test')"
   ]
  },
  {
   "cell_type": "code",
   "execution_count": 7,
   "metadata": {},
   "outputs": [
    {
     "data": {
      "text/html": [
       "<div>\n",
       "<style scoped>\n",
       "    .dataframe tbody tr th:only-of-type {\n",
       "        vertical-align: middle;\n",
       "    }\n",
       "\n",
       "    .dataframe tbody tr th {\n",
       "        vertical-align: top;\n",
       "    }\n",
       "\n",
       "    .dataframe thead th {\n",
       "        text-align: right;\n",
       "    }\n",
       "</style>\n",
       "<table border=\"1\" class=\"dataframe\">\n",
       "  <thead>\n",
       "    <tr style=\"text-align: right;\">\n",
       "      <th></th>\n",
       "      <th>file_name</th>\n",
       "      <th>class</th>\n",
       "      <th>size</th>\n",
       "    </tr>\n",
       "  </thead>\n",
       "  <tbody>\n",
       "    <tr>\n",
       "      <th>0</th>\n",
       "      <td>0.txt</td>\n",
       "      <td>car</td>\n",
       "      <td>5544</td>\n",
       "    </tr>\n",
       "    <tr>\n",
       "      <th>1</th>\n",
       "      <td>0.txt</td>\n",
       "      <td>car</td>\n",
       "      <td>150</td>\n",
       "    </tr>\n",
       "    <tr>\n",
       "      <th>2</th>\n",
       "      <td>0.txt</td>\n",
       "      <td>car</td>\n",
       "      <td>140</td>\n",
       "    </tr>\n",
       "    <tr>\n",
       "      <th>3</th>\n",
       "      <td>1.txt</td>\n",
       "      <td>car</td>\n",
       "      <td>8308</td>\n",
       "    </tr>\n",
       "    <tr>\n",
       "      <th>4</th>\n",
       "      <td>1.txt</td>\n",
       "      <td>car</td>\n",
       "      <td>130</td>\n",
       "    </tr>\n",
       "    <tr>\n",
       "      <th>...</th>\n",
       "      <td>...</td>\n",
       "      <td>...</td>\n",
       "      <td>...</td>\n",
       "    </tr>\n",
       "    <tr>\n",
       "      <th>50064</th>\n",
       "      <td>999.txt</td>\n",
       "      <td>car</td>\n",
       "      <td>518</td>\n",
       "    </tr>\n",
       "    <tr>\n",
       "      <th>50065</th>\n",
       "      <td>999.txt</td>\n",
       "      <td>car</td>\n",
       "      <td>512</td>\n",
       "    </tr>\n",
       "    <tr>\n",
       "      <th>50062</th>\n",
       "      <td>999.txt</td>\n",
       "      <td>car</td>\n",
       "      <td>988</td>\n",
       "    </tr>\n",
       "    <tr>\n",
       "      <th>50063</th>\n",
       "      <td>999.txt</td>\n",
       "      <td>tru</td>\n",
       "      <td>450</td>\n",
       "    </tr>\n",
       "    <tr>\n",
       "      <th>50066</th>\n",
       "      <td>999.txt</td>\n",
       "      <td>car</td>\n",
       "      <td>512</td>\n",
       "    </tr>\n",
       "  </tbody>\n",
       "</table>\n",
       "<p>50067 rows × 3 columns</p>\n",
       "</div>"
      ],
      "text/plain": [
       "      file_name class  size\n",
       "0         0.txt   car  5544\n",
       "1         0.txt   car   150\n",
       "2         0.txt   car   140\n",
       "3         1.txt   car  8308\n",
       "4         1.txt   car   130\n",
       "...         ...   ...   ...\n",
       "50064   999.txt   car   518\n",
       "50065   999.txt   car   512\n",
       "50062   999.txt   car   988\n",
       "50063   999.txt   tru   450\n",
       "50066   999.txt   car   512\n",
       "\n",
       "[50067 rows x 3 columns]"
      ]
     },
     "metadata": {},
     "output_type": "display_data"
    }
   ],
   "source": [
    "display(true_df.sort_values('file_name'))"
   ]
  },
  {
   "cell_type": "code",
   "execution_count": 1,
   "metadata": {},
   "outputs": [
    {
     "name": "stdout",
     "output_type": "stream",
     "text": [
      "progress is 12.67%\n",
      "err -> 182.txt\n",
      "progress is 25.35%\n",
      "err -> 219.txt\n",
      "err -> 227.txt\n",
      "err -> 227.txt\n",
      "progress is 38.02%\n",
      "progress is 50.7%\n",
      "progress is 63.37%\n",
      "progress is 76.05%\n",
      "progress is 88.72%\n",
      "progress is 100.0%\n"
     ]
    }
   ],
   "source": [
    "import method_dataframe\n",
    "add_df1 = method_dataframe.get_ratio(r'C:\\Users\\Ino\\Desktop\\NextChip\\dataset\\labels\\add\\bus_truck')"
   ]
  },
  {
   "cell_type": "code",
   "execution_count": 2,
   "metadata": {},
   "outputs": [
    {
     "name": "stdout",
     "output_type": "stream",
     "text": [
      "progress is 10.65%\n",
      "progress is 21.31%\n",
      "progress is 31.96%\n",
      "progress is 42.62%\n",
      "progress is 53.27%\n",
      "progress is 63.92%\n",
      "progress is 74.58%\n",
      "progress is 85.23%\n",
      "progress is 95.89%\n",
      "progress is 100.0%\n"
     ]
    }
   ],
   "source": [
    "add_df2 = method_dataframe.get_ratio(r'C:\\Users\\Ino\\Desktop\\NextChip\\dataset\\labels\\add\\cyc')"
   ]
  },
  {
   "cell_type": "code",
   "execution_count": 4,
   "metadata": {},
   "outputs": [
    {
     "name": "stdout",
     "output_type": "stream",
     "text": [
      "progress is 19.96%\n",
      "progress is 39.92%\n",
      "progress is 59.88%\n",
      "progress is 79.84%\n",
      "progress is 99.8%\n",
      "progress is 100.0%\n"
     ]
    }
   ],
   "source": [
    "add_df3 = method_dataframe.get_ratio(r'C:\\Users\\Ino\\Desktop\\NextChip\\dataset\\labels\\add\\mot')"
   ]
  },
  {
   "cell_type": "code",
   "execution_count": 5,
   "metadata": {},
   "outputs": [
    {
     "data": {
      "text/html": [
       "<div>\n",
       "<style scoped>\n",
       "    .dataframe tbody tr th:only-of-type {\n",
       "        vertical-align: middle;\n",
       "    }\n",
       "\n",
       "    .dataframe tbody tr th {\n",
       "        vertical-align: top;\n",
       "    }\n",
       "\n",
       "    .dataframe thead th {\n",
       "        text-align: right;\n",
       "    }\n",
       "</style>\n",
       "<table border=\"1\" class=\"dataframe\">\n",
       "  <thead>\n",
       "    <tr style=\"text-align: right;\">\n",
       "      <th></th>\n",
       "      <th>file_name</th>\n",
       "      <th>class</th>\n",
       "      <th>size</th>\n",
       "    </tr>\n",
       "  </thead>\n",
       "  <tbody>\n",
       "    <tr>\n",
       "      <th>0</th>\n",
       "      <td>1.txt</td>\n",
       "      <td>tru</td>\n",
       "      <td>420264.741065</td>\n",
       "    </tr>\n",
       "    <tr>\n",
       "      <th>1</th>\n",
       "      <td>1.txt</td>\n",
       "      <td>tru</td>\n",
       "      <td>105610.658665</td>\n",
       "    </tr>\n",
       "    <tr>\n",
       "      <th>2</th>\n",
       "      <td>10.txt</td>\n",
       "      <td>tru</td>\n",
       "      <td>215058.113208</td>\n",
       "    </tr>\n",
       "    <tr>\n",
       "      <th>3</th>\n",
       "      <td>10.txt</td>\n",
       "      <td>tru</td>\n",
       "      <td>69574.641509</td>\n",
       "    </tr>\n",
       "    <tr>\n",
       "      <th>4</th>\n",
       "      <td>10.txt</td>\n",
       "      <td>tru</td>\n",
       "      <td>27761.111728</td>\n",
       "    </tr>\n",
       "    <tr>\n",
       "      <th>...</th>\n",
       "      <td>...</td>\n",
       "      <td>...</td>\n",
       "      <td>...</td>\n",
       "    </tr>\n",
       "    <tr>\n",
       "      <th>20854</th>\n",
       "      <td>998.txt</td>\n",
       "      <td>tru</td>\n",
       "      <td>13733.280000</td>\n",
       "    </tr>\n",
       "    <tr>\n",
       "      <th>20855</th>\n",
       "      <td>999.txt</td>\n",
       "      <td>tru</td>\n",
       "      <td>3978.000000</td>\n",
       "    </tr>\n",
       "    <tr>\n",
       "      <th>20856</th>\n",
       "      <td>999.txt</td>\n",
       "      <td>tru</td>\n",
       "      <td>4488.000000</td>\n",
       "    </tr>\n",
       "    <tr>\n",
       "      <th>20857</th>\n",
       "      <td>999.txt</td>\n",
       "      <td>tru</td>\n",
       "      <td>40446.000000</td>\n",
       "    </tr>\n",
       "    <tr>\n",
       "      <th>20858</th>\n",
       "      <td>999.txt</td>\n",
       "      <td>tru</td>\n",
       "      <td>11848.320000</td>\n",
       "    </tr>\n",
       "  </tbody>\n",
       "</table>\n",
       "<p>20859 rows × 3 columns</p>\n",
       "</div>"
      ],
      "text/plain": [
       "      file_name class           size\n",
       "0         1.txt   tru  420264.741065\n",
       "1         1.txt   tru  105610.658665\n",
       "2        10.txt   tru  215058.113208\n",
       "3        10.txt   tru   69574.641509\n",
       "4        10.txt   tru   27761.111728\n",
       "...         ...   ...            ...\n",
       "20854   998.txt   tru   13733.280000\n",
       "20855   999.txt   tru    3978.000000\n",
       "20856   999.txt   tru    4488.000000\n",
       "20857   999.txt   tru   40446.000000\n",
       "20858   999.txt   tru   11848.320000\n",
       "\n",
       "[20859 rows x 3 columns]"
      ]
     },
     "metadata": {},
     "output_type": "display_data"
    }
   ],
   "source": [
    "display(add_df1)"
   ]
  },
  {
   "cell_type": "code",
   "execution_count": null,
   "metadata": {},
   "outputs": [],
   "source": [
    "# class에 따른 bix size별 정확도"
   ]
  }
 ],
 "metadata": {
  "kernelspec": {
   "display_name": "yolov8",
   "language": "python",
   "name": "python3"
  },
  "language_info": {
   "codemirror_mode": {
    "name": "ipython",
    "version": 3
   },
   "file_extension": ".py",
   "mimetype": "text/x-python",
   "name": "python",
   "nbconvert_exporter": "python",
   "pygments_lexer": "ipython3",
   "version": "3.12.7"
  }
 },
 "nbformat": 4,
 "nbformat_minor": 2
}
