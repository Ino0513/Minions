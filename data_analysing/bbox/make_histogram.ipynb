{
 "cells": [
  {
   "cell_type": "code",
   "execution_count": 10,
   "metadata": {},
   "outputs": [],
   "source": [
    "import seaborn as sns\n",
    "import pandas as pd\n",
    "import matplotlib.pyplot as plt\n",
    "from sklearn.preprocessing import MinMaxScaler\n",
    "import method_dataframe\n",
    "import method_graph"
   ]
  },
  {
   "cell_type": "code",
   "execution_count": 11,
   "metadata": {},
   "outputs": [],
   "source": [
    "true_label_dir = rf'C:\\Users\\Ino\\Desktop\\NextChip\\dataset\\labels\\test'\n",
    "\n",
    "folder_name = 'v8n_org_100best'\n",
    "pred_label_dir = rf'C:\\Users\\Ino\\Desktop\\NextChip\\eval_result'\n",
    "csv_path = r'C:\\Users\\Ino\\Desktop\\NextChip\\Minions_git\\result\\data_result'"
   ]
  },
  {
   "cell_type": "code",
   "execution_count": 12,
   "metadata": {},
   "outputs": [
    {
     "data": {
      "text/html": [
       "<div>\n",
       "<style scoped>\n",
       "    .dataframe tbody tr th:only-of-type {\n",
       "        vertical-align: middle;\n",
       "    }\n",
       "\n",
       "    .dataframe tbody tr th {\n",
       "        vertical-align: top;\n",
       "    }\n",
       "\n",
       "    .dataframe thead th {\n",
       "        text-align: right;\n",
       "    }\n",
       "</style>\n",
       "<table border=\"1\" class=\"dataframe\">\n",
       "  <thead>\n",
       "    <tr style=\"text-align: right;\">\n",
       "      <th></th>\n",
       "      <th>file_name</th>\n",
       "      <th>class</th>\n",
       "      <th>detect_tf</th>\n",
       "      <th>size</th>\n",
       "      <th>iou_tf</th>\n",
       "      <th>class_tf</th>\n",
       "      <th>iou</th>\n",
       "      <th>conf</th>\n",
       "    </tr>\n",
       "  </thead>\n",
       "  <tbody>\n",
       "    <tr>\n",
       "      <th>15</th>\n",
       "      <td>0005.txt</td>\n",
       "      <td>car</td>\n",
       "      <td>False</td>\n",
       "      <td>-100</td>\n",
       "      <td>not_exist</td>\n",
       "      <td>-100</td>\n",
       "      <td>-100.000000</td>\n",
       "      <td>-1.000000</td>\n",
       "    </tr>\n",
       "    <tr>\n",
       "      <th>1</th>\n",
       "      <td>0000.txt</td>\n",
       "      <td>car</td>\n",
       "      <td>False</td>\n",
       "      <td>-100</td>\n",
       "      <td>not_exist</td>\n",
       "      <td>-100</td>\n",
       "      <td>-100.000000</td>\n",
       "      <td>-1.000000</td>\n",
       "    </tr>\n",
       "    <tr>\n",
       "      <th>2</th>\n",
       "      <td>0000.txt</td>\n",
       "      <td>car</td>\n",
       "      <td>False</td>\n",
       "      <td>-100</td>\n",
       "      <td>not_exist</td>\n",
       "      <td>-100</td>\n",
       "      <td>-100.000000</td>\n",
       "      <td>-1.000000</td>\n",
       "    </tr>\n",
       "    <tr>\n",
       "      <th>3</th>\n",
       "      <td>0001.txt</td>\n",
       "      <td>car</td>\n",
       "      <td>False</td>\n",
       "      <td>-100</td>\n",
       "      <td>not_exist</td>\n",
       "      <td>-100</td>\n",
       "      <td>-100.000000</td>\n",
       "      <td>-1.000000</td>\n",
       "    </tr>\n",
       "    <tr>\n",
       "      <th>4</th>\n",
       "      <td>0001.txt</td>\n",
       "      <td>car</td>\n",
       "      <td>False</td>\n",
       "      <td>-100</td>\n",
       "      <td>not_exist</td>\n",
       "      <td>-100</td>\n",
       "      <td>-100.000000</td>\n",
       "      <td>-1.000000</td>\n",
       "    </tr>\n",
       "    <tr>\n",
       "      <th>...</th>\n",
       "      <td>...</td>\n",
       "      <td>...</td>\n",
       "      <td>...</td>\n",
       "      <td>...</td>\n",
       "      <td>...</td>\n",
       "      <td>...</td>\n",
       "      <td>...</td>\n",
       "      <td>...</td>\n",
       "    </tr>\n",
       "    <tr>\n",
       "      <th>49671</th>\n",
       "      <td>6785.txt</td>\n",
       "      <td>car</td>\n",
       "      <td>True</td>\n",
       "      <td>304425</td>\n",
       "      <td>True</td>\n",
       "      <td>0</td>\n",
       "      <td>0.907632</td>\n",
       "      <td>0.001501</td>\n",
       "    </tr>\n",
       "    <tr>\n",
       "      <th>38254</th>\n",
       "      <td>5158.txt</td>\n",
       "      <td>bus</td>\n",
       "      <td>True</td>\n",
       "      <td>305778</td>\n",
       "      <td>True</td>\n",
       "      <td>0</td>\n",
       "      <td>0.763691</td>\n",
       "      <td>0.001501</td>\n",
       "    </tr>\n",
       "    <tr>\n",
       "      <th>30491</th>\n",
       "      <td>4245.txt</td>\n",
       "      <td>car</td>\n",
       "      <td>only_pos</td>\n",
       "      <td>308396</td>\n",
       "      <td>positive</td>\n",
       "      <td>0</td>\n",
       "      <td>0.003416</td>\n",
       "      <td>0.002473</td>\n",
       "    </tr>\n",
       "    <tr>\n",
       "      <th>9860</th>\n",
       "      <td>1694.txt</td>\n",
       "      <td>car</td>\n",
       "      <td>True</td>\n",
       "      <td>407511</td>\n",
       "      <td>True</td>\n",
       "      <td>0</td>\n",
       "      <td>0.927343</td>\n",
       "      <td>0.001501</td>\n",
       "    </tr>\n",
       "    <tr>\n",
       "      <th>9831</th>\n",
       "      <td>1686.txt</td>\n",
       "      <td>tru</td>\n",
       "      <td>only_pos</td>\n",
       "      <td>410400</td>\n",
       "      <td>positive</td>\n",
       "      <td>0</td>\n",
       "      <td>0.167479</td>\n",
       "      <td>0.002473</td>\n",
       "    </tr>\n",
       "  </tbody>\n",
       "</table>\n",
       "<p>50067 rows × 8 columns</p>\n",
       "</div>"
      ],
      "text/plain": [
       "      file_name class detect_tf    size     iou_tf  class_tf         iou  \\\n",
       "15     0005.txt   car     False    -100  not_exist      -100 -100.000000   \n",
       "1      0000.txt   car     False    -100  not_exist      -100 -100.000000   \n",
       "2      0000.txt   car     False    -100  not_exist      -100 -100.000000   \n",
       "3      0001.txt   car     False    -100  not_exist      -100 -100.000000   \n",
       "4      0001.txt   car     False    -100  not_exist      -100 -100.000000   \n",
       "...         ...   ...       ...     ...        ...       ...         ...   \n",
       "49671  6785.txt   car      True  304425       True         0    0.907632   \n",
       "38254  5158.txt   bus      True  305778       True         0    0.763691   \n",
       "30491  4245.txt   car  only_pos  308396   positive         0    0.003416   \n",
       "9860   1694.txt   car      True  407511       True         0    0.927343   \n",
       "9831   1686.txt   tru  only_pos  410400   positive         0    0.167479   \n",
       "\n",
       "           conf  \n",
       "15    -1.000000  \n",
       "1     -1.000000  \n",
       "2     -1.000000  \n",
       "3     -1.000000  \n",
       "4     -1.000000  \n",
       "...         ...  \n",
       "49671  0.001501  \n",
       "38254  0.001501  \n",
       "30491  0.002473  \n",
       "9860   0.001501  \n",
       "9831   0.002473  \n",
       "\n",
       "[50067 rows x 8 columns]"
      ]
     },
     "metadata": {},
     "output_type": "display_data"
    }
   ],
   "source": [
    "box_df = pd.read_csv(rf'{csv_path}\\{folder_name}.csv', index_col= 0)\n",
    "display(box_df.sort_values('size'))"
   ]
  },
  {
   "cell_type": "code",
   "execution_count": 13,
   "metadata": {},
   "outputs": [],
   "source": [
    "sc = MinMaxScaler(feature_range=(0, 1000))\n",
    "#x_axis = range()\n",
    "box_df['size_scaled'] = sc.fit_transform(box_df[['size']])"
   ]
  },
  {
   "cell_type": "code",
   "execution_count": 14,
   "metadata": {},
   "outputs": [
    {
     "data": {
      "image/png": "[encoded data removed]",
      "text/plain": [
       "<Figure size 500x500 with 1 Axes>"
      ]
     },
     "metadata": {},
     "output_type": "display_data"
    },
    {
     "name": "stdout",
     "output_type": "stream",
     "text": [
      "921600\n"
     ]
    }
   ],
   "source": [
    "sns.displot(box_df, x= 'size_scaled', kind= 'kde')\n",
    "#plt.xlim([0, 20000])\n",
    "#plt.ylim([0, 0.0001])\n",
    "plt.show()\n",
    "print(1280*720)"
   ]
  },
  {
   "cell_type": "code",
   "execution_count": 15,
   "metadata": {},
   "outputs": [
    {
     "name": "stdout",
     "output_type": "stream",
     "text": [
      "423.108\n",
      "846.216\n"
     ]
    },
    {
     "data": {
      "image/png": "[encoded data removed]",
      "text/plain": [
       "<Figure size 640x480 with 1 Axes>"
      ]
     },
     "metadata": {},
     "output_type": "display_data"
    }
   ],
   "source": [
    "plt.hist(box_df['size_scaled'], bins = 1000, cumulative= False, density= True, width = 0.7)\n",
    "plt.xlim([0, 100])\n",
    "print(423108/1000*1)\n",
    "print(423108/1000*2)"
   ]
  },
  {
   "cell_type": "code",
   "execution_count": 16,
   "metadata": {},
   "outputs": [
    {
     "data": {
      "image/png": "[encoded data removed]",
      "text/plain": [
       "<Figure size 500x500 with 1 Axes>"
      ]
     },
     "metadata": {},
     "output_type": "display_data"
    },
    {
     "name": "stdout",
     "output_type": "stream",
     "text": [
      "921600\n"
     ]
    }
   ],
   "source": [
    "sns.displot(box_df, x= 'size_scaled', kind= 'kde')\n",
    "#plt.xlim([0, 20000])\n",
    "#plt.ylim([0, 0.0001])\n",
    "plt.show()\n",
    "print(1280*720)"
   ]
  },
  {
   "cell_type": "code",
   "execution_count": 17,
   "metadata": {},
   "outputs": [],
   "source": [
    "per_df = box_df[box_df['class'] == 'per']\n",
    "car_df = box_df[box_df['class'] == 'car']"
   ]
  },
  {
   "cell_type": "code",
   "execution_count": 18,
   "metadata": {},
   "outputs": [],
   "source": [
    "# sns.displot(per_df, x= 'box_size', kind= 'kde')\n",
    "# plt.xlim([0, 40000])\n",
    "# plt.ylim([0, 0.0003])\n",
    "# plt.show()"
   ]
  }
 ],
 "metadata": {
  "kernelspec": {
   "display_name": "notebook",
   "language": "python",
   "name": "python3"
  },
  "language_info": {
   "codemirror_mode": {
    "name": "ipython",
    "version": 3
   },
   "file_extension": ".py",
   "mimetype": "text/x-python",
   "name": "python",
   "nbconvert_exporter": "python",
   "pygments_lexer": "ipython3",
   "version": "3.11.8"
  }
 },
 "nbformat": 4,
 "nbformat_minor": 2
}
