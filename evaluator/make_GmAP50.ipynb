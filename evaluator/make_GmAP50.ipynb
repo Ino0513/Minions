{
 "cells": [
  {
   "cell_type": "code",
   "execution_count": null,
   "metadata": {},
   "outputs": [],
   "source": [
    "import GmAP"
   ]
  },
  {
   "cell_type": "code",
   "execution_count": null,
   "metadata": {},
   "outputs": [],
   "source": [
    "GmAP.make_pred('1.4 P2 Bt', 'v8s_org_tv')"
   ]
  },
  {
   "cell_type": "code",
   "execution_count": 5,
   "metadata": {},
   "outputs": [
    {
     "name": "stdout",
     "output_type": "stream",
     "text": [
      "Results saved to \u001b[1m..\\..\\output\\v8s_P2_tv\u001b[0m\n",
      "6883 labels saved to ..\\..\\output\\v8s_P2_tv\\labels\n",
      "'../../output/v8s_P2_tv'가 압축되었습니다.\n"
     ]
    }
   ],
   "source": [
    "GmAP.make_pred('1.4 P2 Bt', 'v8s_P2_tv')"
   ]
  },
  {
   "cell_type": "code",
   "execution_count": 6,
   "metadata": {},
   "outputs": [
    {
     "name": "stdout",
     "output_type": "stream",
     "text": [
      "\n",
      "WARNING  inference results will accumulate in RAM unless `stream=True` is passed, causing potential out-of-memory\n",
      "errors for large sources or long-running streams and videos. See https://docs.ultralytics.com/modes/predict/ for help.\n",
      "\n",
      "Example:\n",
      "    results = model(source=..., stream=True)  # generator of Results objects\n",
      "    for r in results:\n",
      "        boxes = r.boxes  # Boxes object for bbox outputs\n",
      "        masks = r.masks  # Masks object for segment masks outputs\n",
      "        probs = r.probs  # Class probabilities for classification outputs\n",
      "\n",
      "Results saved to \u001b[1m..\\..\\output\\v8s_P2_2221_tv\u001b[0m\n",
      "6883 labels saved to ..\\..\\output\\v8s_P2_2221_tv\\labels\n",
      "'../../output/v8s_P2_2221_tv'가 압축되었습니다.\n"
     ]
    }
   ],
   "source": [
    "GmAP.make_pred('1.4 P2 Bt', 'v8s_P2_2221_tv')"
   ]
  },
  {
   "cell_type": "code",
   "execution_count": 7,
   "metadata": {},
   "outputs": [
    {
     "name": "stdout",
     "output_type": "stream",
     "text": [
      "\n",
      "WARNING  inference results will accumulate in RAM unless `stream=True` is passed, causing potential out-of-memory\n",
      "errors for large sources or long-running streams and videos. See https://docs.ultralytics.com/modes/predict/ for help.\n",
      "\n",
      "Example:\n",
      "    results = model(source=..., stream=True)  # generator of Results objects\n",
      "    for r in results:\n",
      "        boxes = r.boxes  # Boxes object for bbox outputs\n",
      "        masks = r.masks  # Masks object for segment masks outputs\n",
      "        probs = r.probs  # Class probabilities for classification outputs\n",
      "\n",
      "Results saved to \u001b[1m..\\..\\output\\v8s_P2_2211_gc-c3g_tv\u001b[0m\n",
      "6883 labels saved to ..\\..\\output\\v8s_P2_2211_gc-c3g_tv\\labels\n",
      "'../../output/v8s_P2_2211_gc-c3g_tv'가 압축되었습니다.\n"
     ]
    }
   ],
   "source": [
    "GmAP.make_pred('final', 'v8s_P2_2211_gc-c3g_tv')"
   ]
  }
 ],
 "metadata": {
  "kernelspec": {
   "display_name": "DL",
   "language": "python",
   "name": "python3"
  },
  "language_info": {
   "codemirror_mode": {
    "name": "ipython",
    "version": 3
   },
   "file_extension": ".py",
   "mimetype": "text/x-python",
   "name": "python",
   "nbconvert_exporter": "python",
   "pygments_lexer": "ipython3",
   "version": "3.10.13"
  }
 },
 "nbformat": 4,
 "nbformat_minor": 2
}
