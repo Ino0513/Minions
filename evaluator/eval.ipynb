{
 "cells": [
  {
   "cell_type": "code",
   "execution_count": 1,
   "metadata": {},
   "outputs": [],
   "source": [
    "import my_eval"
   ]
  },
  {
   "cell_type": "code",
   "execution_count": null,
   "metadata": {},
   "outputs": [
    {
     "name": "stdout",
     "output_type": "stream",
     "text": [
      "{'metrics/precision(B)': 0.8585702778480497, 'metrics/recall(B)': 0.2841131109472425, 'metrics/mAP50(B)': 0.3370848013920995, 'metrics/mAP50-95(B)': 0.21172705617377416, 'fitness': 0.2242628306956067}\n"
     ]
    },
    {
     "name": "stderr",
     "output_type": "stream",
     "text": [
      "c:\\Users\\Ino\\Desktop\\NextChip\\Minions_git\\evaluator\\evaluate.py:176: DeprecationWarning: Python 3.14 will, by default, filter extracted tar archives and reject files or modify their metadata. Use the filter argument to control this behavior.\n",
      "  tar.extractall(path= extract_path)\n",
      "Traceback (most recent call last):\n",
      "  File \"c:\\Users\\Ino\\Desktop\\NextChip\\Minions_git\\evaluator\\evaluate.py\", line 185, in <module>\n",
      "    print_table(result_dict, cat, model_name)\n",
      "  File \"c:\\Users\\Ino\\Desktop\\NextChip\\Minions_git\\evaluator\\evaluate.py\", line 39, in print_table\n",
      "    os.mkdir(f'../result/NmAP50_result/{category}', exist_ok= True)\n",
      "TypeError: 'exist_ok' is an invalid keyword argument for mkdir()\n"
     ]
    }
   ],
   "source": [
    "# !python evaluate.py --category 1.1_v5n_vs_v8n --name v5n_c2f_tv"
   ]
  },
  {
   "cell_type": "code",
   "execution_count": null,
   "metadata": {},
   "outputs": [],
   "source": [
    "my_eval.my_eval('1.1_v5n_vs_v8n', 'v5n_c2f_tv')"
   ]
  }
 ],
 "metadata": {
  "kernelspec": {
   "display_name": "yolov8",
   "language": "python",
   "name": "python3"
  },
  "language_info": {
   "codemirror_mode": {
    "name": "ipython",
    "version": 3
   },
   "file_extension": ".py",
   "mimetype": "text/x-python",
   "name": "python",
   "nbconvert_exporter": "python",
   "pygments_lexer": "ipython3",
   "version": "3.12.7"
  }
 },
 "nbformat": 4,
 "nbformat_minor": 2
}
