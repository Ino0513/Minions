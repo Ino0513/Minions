{
 "cells": [
  {
   "cell_type": "code",
   "execution_count": 1,
   "metadata": {},
   "outputs": [],
   "source": [
    "import my_eval"
   ]
  },
  {
   "cell_type": "code",
   "execution_count": 2,
   "metadata": {},
   "outputs": [],
   "source": [
    "# my_eval.eval_by_dir('test')"
   ]
  },
  {
   "cell_type": "code",
   "execution_count": null,
   "metadata": {},
   "outputs": [
    {
     "name": "stdout",
     "output_type": "stream",
     "text": [
      "1.1_v5n_vs_v8n - v5n_c2f_tv is already exist, 스킵!!!\n",
      "1.1_v5n_vs_v8n - v5n_k3_tv is already exist, 스킵!!!\n",
      "1.1_v5n_vs_v8n - v5n_org_tv is already exist, 스킵!!!\n",
      "1.1_v5n_vs_v8n - v8n_c3_tv is already exist, 스킵!!!\n",
      "1.1_v5n_vs_v8n - v8n_k6_tv is already exist, 스킵!!!\n",
      "1.1_v5n_vs_v8n - v8n_org_tv is already exist, 스킵!!!\n",
      "1.2_P2 - v8n_org_t is already exist, 스킵!!!\n",
      "1.2_P2 - v8n_P2_t is already exist, 스킵!!!\n",
      "1.2_P2 - v8s_org_t is already exist, 스킵!!!\n",
      "1.2_P2 - v8s_P2_t is already exist, 스킵!!!\n",
      "1.3_Bt - v5n_1111_ta is already exist, 스킵!!!\n",
      "1.3_Bt - v5n_1221_ta is already exist, 스킵!!!\n",
      "1.3_Bt - v5n_2222_ta is done\n",
      "1.3_Bt - v5n_2332_ta is already exist, 스킵!!!\n",
      "1.3_Bt - v8n_1111_ta is already exist, 스킵!!!\n",
      "1.3_Bt - v8n_1221_ta is already exist, 스킵!!!\n",
      "1.3_Bt - v8n_2222_ta is done\n",
      "1.3_Bt - v8n_2332_ta is already exist, 스킵!!!\n",
      "1.4_P2_Bt - v8s_1321_tv is already exist, 스킵!!!\n",
      "1.4_P2_Bt - v8s_org_tv is already exist, 스킵!!!\n",
      "1.4_P2_Bt - v8s_P2_1321_tv is already exist, 스킵!!!\n",
      "1.4_P2_Bt - v8s_P2_2221_tv is done\n",
      "1.4_P2_Bt - v8s_P2_3221_tv is done\n",
      "1.4_P2_Bt - v8s_P2_3321_tv is already exist, 스킵!!!\n",
      "1.4_P2_Bt - v8s_P2_4221_tv is done\n",
      "1.4_P2_Bt - v8s_P2_tv is already exist, 스킵!!!\n",
      "2.1_QE - v5n_b8n5_2442_ta is already exist, 스킵!!!\n",
      "2.1_QE - v5n_b8n5_4664_ta is already exist, 스킵!!!\n",
      "2.1_QE - v5n_b8n5_6886_ta is already exist, 스킵!!!\n",
      "2.1_QE - v8n_b5n8_2442_ta is already exist, 스킵!!!\n",
      "2.1_QE - v8n_b5n8_4664_ta is already exist, 스킵!!!\n",
      "2.1_QE - v8n_b5n8_6886_ta is already exist, 스킵!!!\n",
      "2.2_nP2_c2f_c3_c3g - nP2_B8-c-c2f_N8-SF-c-c3g_t is done\n",
      "2.2_nP2_c2f_c3_c3g - nP2_B8-c-c2f_N8-SF-c-c3_t is done\n",
      "2.2_nP2_c2f_c3_c3g - nP2_B8-c-c2f_N8-SF-gc-c2f_t is done\n"
     ]
    }
   ],
   "source": [
    "my_eval.eval_allll()"
   ]
  }
 ],
 "metadata": {
  "kernelspec": {
   "display_name": "DL",
   "language": "python",
   "name": "python3"
  },
  "language_info": {
   "codemirror_mode": {
    "name": "ipython",
    "version": 3
   },
   "file_extension": ".py",
   "mimetype": "text/x-python",
   "name": "python",
   "nbconvert_exporter": "python",
   "pygments_lexer": "ipython3",
   "version": "3.10.13"
  }
 },
 "nbformat": 4,
 "nbformat_minor": 2
}
