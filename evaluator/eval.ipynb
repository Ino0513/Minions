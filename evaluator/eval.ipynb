{
 "cells": [
  {
   "cell_type": "code",
   "execution_count": 1,
   "metadata": {},
   "outputs": [],
   "source": [
    "import my_eval"
   ]
  },
  {
   "cell_type": "code",
   "execution_count": null,
   "metadata": {},
   "outputs": [
    {
     "name": "stdout",
     "output_type": "stream",
     "text": [
      "final - v8s_P2_2211_gc-c3g_tv is done\n"
     ]
    }
   ],
   "source": [
    "# 이거 돌릴때 이름 빈칸 XXXX\n",
    "# my_eval.my_eval('final', 'v8s_P2_2211_gc-c3g_tv')"
   ]
  },
  {
   "cell_type": "code",
   "execution_count": null,
   "metadata": {},
   "outputs": [
    {
     "name": "stdout",
     "output_type": "stream",
     "text": [
      "final - v8s_P2_2221_gc-c3g_tv is done\n"
     ]
    }
   ],
   "source": [
    "# my_eval.my_eval('final', 'v8s_P2_2221_gc-c3g_tv')"
   ]
  },
  {
   "cell_type": "code",
   "execution_count": 7,
   "metadata": {},
   "outputs": [
    {
     "name": "stdout",
     "output_type": "stream",
     "text": [
      "final - 2211_gc_c3g_tv is done\n",
      "final - 2221_gc_c3g_tv is done\n",
      "final - v8s_P2_2211_gc-c3g_640_tv is done\n",
      "final - v8s_P2_2211_gc-c3g_tv is already exist, 스킵!!!\n",
      "final - v8s_P2_2221_gc-c3g_tv is already exist, 스킵!!!\n",
      "final - v8s_P2_3322_BN-gc-c3g_50_tv is done\n",
      "final - v8s_P2_3322_gc-c3g_40_tv is done\n",
      "final - v8s_P2_3332_BN-gc-c3g_50_tv is done\n",
      "final - v8s_P2_3332_gc-c3g_40_tv is done\n"
     ]
    }
   ],
   "source": [
    "my_eval.eval_by_dir('final')"
   ]
  },
  {
   "cell_type": "code",
   "execution_count": 4,
   "metadata": {},
   "outputs": [],
   "source": [
    "# my_eval.eval_allll()"
   ]
  }
 ],
 "metadata": {
  "kernelspec": {
   "display_name": "DL",
   "language": "python",
   "name": "python3"
  },
  "language_info": {
   "codemirror_mode": {
    "name": "ipython",
    "version": 3
   },
   "file_extension": ".py",
   "mimetype": "text/x-python",
   "name": "python",
   "nbconvert_exporter": "python",
   "pygments_lexer": "ipython3",
   "version": "3.10.13"
  }
 },
 "nbformat": 4,
 "nbformat_minor": 2
}
