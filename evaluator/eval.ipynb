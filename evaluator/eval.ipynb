{
 "cells": [
  {
   "cell_type": "code",
   "execution_count": 1,
   "metadata": {},
   "outputs": [],
   "source": [
    "import my_eval"
   ]
  },
  {
   "cell_type": "code",
   "execution_count": 2,
   "metadata": {},
   "outputs": [],
   "source": [
    "# 이거 돌릴때 이름 빈칸 XXXX\n",
    "# my_eval.my_eval('3.2_neck', 'v8s_P2_2221_N-gc-c3g_D0_tv')"
   ]
  },
  {
   "cell_type": "code",
   "execution_count": 3,
   "metadata": {},
   "outputs": [
    {
     "name": "stdout",
     "output_type": "stream",
     "text": [
      "ak48_ep - 2221_50ep is done\n",
      "ak48_ep - ak48_100 is done\n",
      "ak48_ep - ak48_50 is done\n",
      "ak48_ep - ak48_60 is done\n",
      "ak48_ep - ak48_70 is done\n",
      "ak48_ep - ak48_80 is done\n",
      "ak48_ep - ak48_90 is done\n"
     ]
    }
   ],
   "source": [
    "my_eval.eval_by_dir('ak48_ep')"
   ]
  },
  {
   "cell_type": "code",
   "execution_count": 4,
   "metadata": {},
   "outputs": [],
   "source": [
    "# my_eval.eval_allll()"
   ]
  }
 ],
 "metadata": {
  "kernelspec": {
   "display_name": "DL",
   "language": "python",
   "name": "python3"
  },
  "language_info": {
   "codemirror_mode": {
    "name": "ipython",
    "version": 3
   },
   "file_extension": ".py",
   "mimetype": "text/x-python",
   "name": "python",
   "nbconvert_exporter": "python",
   "pygments_lexer": "ipython3",
   "version": "3.10.13"
  }
 },
 "nbformat": 4,
 "nbformat_minor": 2
}
