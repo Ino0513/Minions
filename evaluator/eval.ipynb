{
 "cells": [
  {
   "cell_type": "code",
   "execution_count": 1,
   "metadata": {},
   "outputs": [],
   "source": [
    "import my_eval"
   ]
  },
  {
   "cell_type": "code",
   "execution_count": 2,
   "metadata": {},
   "outputs": [
    {
     "name": "stdout",
     "output_type": "stream",
     "text": [
      "1.1_v5n_vs_v8n - v5n_org_tv is already exist, 스킵!!!\n"
     ]
    }
   ],
   "source": [
    "# 이거 돌릴때 이름 빈칸 XXXX\n",
    "my_eval.my_eval_gpu('1.1_v5n_vs_v8n', 'v5n_org_tv')"
   ]
  },
  {
   "cell_type": "code",
   "execution_count": 3,
   "metadata": {},
   "outputs": [
    {
     "name": "stdout",
     "output_type": "stream",
     "text": [
      "1.4_P2_Bt - v8s_org_tv is done\n",
      "1.4_P2_Bt - v8n_P2_tv is done\n",
      "1.4_P2_Bt - v8s_P2_2221_tv is done\n",
      "final - v8s_P2_2211_gc-c3g_tv is done\n"
     ]
    }
   ],
   "source": [
    "my_eval.my_eval_gpu('1.4_P2_Bt', 'v8s_org_tv')\n",
    "my_eval.my_eval_gpu('1.4_P2_Bt', 'v8n_P2_tv')\n",
    "my_eval.my_eval_gpu('1.4_P2_Bt', 'v8s_P2_2221_tv')\n",
    "my_eval.my_eval_gpu('final', 'v8s_P2_2211_gc-c3g_tv')"
   ]
  },
  {
   "cell_type": "code",
   "execution_count": 4,
   "metadata": {},
   "outputs": [],
   "source": [
    "# my_eval.eval_by_dir('final')"
   ]
  },
  {
   "cell_type": "code",
   "execution_count": 5,
   "metadata": {},
   "outputs": [],
   "source": [
    "# my_eval.eval_allll()"
   ]
  }
 ],
 "metadata": {
  "kernelspec": {
   "display_name": "DL",
   "language": "python",
   "name": "python3"
  },
  "language_info": {
   "codemirror_mode": {
    "name": "ipython",
    "version": 3
   },
   "file_extension": ".py",
   "mimetype": "text/x-python",
   "name": "python",
   "nbconvert_exporter": "python",
   "pygments_lexer": "ipython3",
   "version": "3.10.13"
  }
 },
 "nbformat": 4,
 "nbformat_minor": 2
}
