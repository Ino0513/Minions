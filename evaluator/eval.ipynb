{
 "cells": [
  {
   "cell_type": "code",
   "execution_count": 1,
   "metadata": {},
   "outputs": [],
   "source": [
    "import my_eval"
   ]
  },
  {
   "cell_type": "code",
   "execution_count": 2,
   "metadata": {},
   "outputs": [
    {
     "name": "stdout",
     "output_type": "stream",
     "text": [
      "test - 8s_Neck_delete is done\n"
     ]
    }
   ],
   "source": [
    "my_eval.eval_by_dir('test')"
   ]
  },
  {
   "cell_type": "code",
   "execution_count": null,
   "metadata": {},
   "outputs": [
    {
     "name": "stdout",
     "output_type": "stream",
     "text": [
      "1.1_v5n_vs_v8n - v5n_c2f_tv is already exist, 스킵!!!\n",
      "1.1_v5n_vs_v8n - v5n_k3_tv is already exist, 스킵!!!\n",
      "1.1_v5n_vs_v8n - v5n_org_tv is already exist, 스킵!!!\n",
      "1.1_v5n_vs_v8n - v8n_c3_tv is already exist, 스킵!!!\n",
      "1.1_v5n_vs_v8n - v8n_k6_tv is already exist, 스킵!!!\n",
      "1.1_v5n_vs_v8n - v8n_org_tv is already exist, 스킵!!!\n",
      "1.2_P2 - v8n_org_t is already exist, 스킵!!!\n",
      "1.2_P2 - v8n_P2_t is already exist, 스킵!!!\n",
      "1.2_P2 - v8s_org_t is already exist, 스킵!!!\n",
      "1.2_P2 - v8s_P2_t is already exist, 스킵!!!\n",
      "1.3_Bt - v5n_2442_ta is already exist, 스킵!!!\n",
      "1.3_Bt - v5n_4664_ta is already exist, 스킵!!!\n",
      "1.3_Bt - v5n_6886_ta is already exist, 스킵!!!\n",
      "1.3_Bt - v8n_2442_ta is already exist, 스킵!!!\n",
      "1.3_Bt - v8n_4664_ta is already exist, 스킵!!!\n",
      "1.3_Bt - v8n_6886_ta is already exist, 스킵!!!\n",
      "1.4_P2_Bt - v8s_3963_tv is already exist, 스킵!!!\n",
      "1.4_P2_Bt - v8s_org_tv is already exist, 스킵!!!\n",
      "1.4_P2_Bt - v8s_P2_3963_tv is already exist, 스킵!!!\n",
      "1.4_P2_Bt - v8s_P2_9963_tv is already exist, 스킵!!!\n",
      "1.4_P2_Bt - v8s_P2_tv is already exist, 스킵!!!\n",
      "2.1_QE - v5n_b8n5_2442_ta is already exist, 스킵!!!\n",
      "2.1_QE - v5n_b8n5_4664_ta is already exist, 스킵!!!\n",
      "2.1_QE - v5n_b8n5_6886_ta is already exist, 스킵!!!\n",
      "2.1_QE - v8n_b5n8_2442_ta is already exist, 스킵!!!\n",
      "2.1_QE - v8n_b5n8_4664_ta is already exist, 스킵!!!\n",
      "2.1_QE - v8n_b5n8_6886_ta is already exist, 스킵!!!\n"
     ]
    }
   ],
   "source": [
    "# my_eval.eval_allll()"
   ]
  }
 ],
 "metadata": {
  "kernelspec": {
   "display_name": "DL",
   "language": "python",
   "name": "python3"
  },
  "language_info": {
   "codemirror_mode": {
    "name": "ipython",
    "version": 3
   },
   "file_extension": ".py",
   "mimetype": "text/x-python",
   "name": "python",
   "nbconvert_exporter": "python",
   "pygments_lexer": "ipython3",
   "version": "3.10.13"
  }
 },
 "nbformat": 4,
 "nbformat_minor": 2
}
