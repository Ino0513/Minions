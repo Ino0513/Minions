{
 "cells": [
  {
   "cell_type": "code",
   "execution_count": 2,
   "metadata": {},
   "outputs": [],
   "source": [
    "import my_eval"
   ]
  },
  {
   "cell_type": "code",
   "execution_count": null,
   "metadata": {},
   "outputs": [
    {
     "name": "stdout",
     "output_type": "stream",
     "text": [
      "2.2_sP2_c2f_c3_c3g - sP2_B8-c-c2f_N8-ST-c-c3g_tv is done\n",
      "2.2_sP2_c2f_c3_c3g - sP2_B8-c-c2f_N8-ST-gc-c3g_tv is done\n"
     ]
    }
   ],
   "source": [
    "# my_eval.my_eval('2.2_sP2_c2f_c3_c3g', 'sP2_B8-c-c2f_N8-ST-c-c3g_tv')\n",
    "# my_eval.my_eval('2.2_sP2_c2f_c3_c3g', 'sP2_B8-c-c2f_N8-ST-gc-c3g_tv')"
   ]
  },
  {
   "cell_type": "code",
   "execution_count": null,
   "metadata": {},
   "outputs": [],
   "source": [
    "my_eval.eval_by_dir('2.3_neck')"
   ]
  },
  {
   "cell_type": "code",
   "execution_count": 5,
   "metadata": {},
   "outputs": [],
   "source": [
    "# my_eval.eval_allll()"
   ]
  }
 ],
 "metadata": {
  "kernelspec": {
   "display_name": "DL",
   "language": "python",
   "name": "python3"
  },
  "language_info": {
   "codemirror_mode": {
    "name": "ipython",
    "version": 3
   },
   "file_extension": ".py",
   "mimetype": "text/x-python",
   "name": "python",
   "nbconvert_exporter": "python",
   "pygments_lexer": "ipython3",
   "version": "3.10.13"
  }
 },
 "nbformat": 4,
 "nbformat_minor": 2
}
