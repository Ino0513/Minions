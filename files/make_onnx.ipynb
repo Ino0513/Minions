{
 "cells": [
  {
   "cell_type": "code",
   "execution_count": 1,
   "metadata": {},
   "outputs": [],
   "source": [
    "import method_onnx\n",
    "import os"
   ]
  },
  {
   "cell_type": "code",
   "execution_count": 2,
   "metadata": {},
   "outputs": [
    {
     "name": "stdout",
     "output_type": "stream",
     "text": [
      "Ultralytics 8.3.35  Python-3.11.8 torch-2.5.0+cpu CPU (13th Gen Intel Core(TM) i3-1315U)\n",
      "v8s_P2p_2221_gc-c3g_40 summary (fused): 298 layers, 6,011,595 parameters, 0 gradients, 20.3 GFLOPs\n",
      "\n",
      "\u001b[34m\u001b[1mPyTorch:\u001b[0m starting from '..\\files\\weights_files\\3.2 neck\\v8s_P2p_2221_gc-c3g_40.pt' with input shape (1, 3, 384, 640) BCHW and output shape(s) (1, 10, 5040) (11.8 MB)\n",
      "\n",
      "\u001b[34m\u001b[1mONNX:\u001b[0m starting export with onnx 1.13.0 opset 17...\n",
      "\u001b[34m\u001b[1mONNX:\u001b[0m export success  1.0s, saved as '..\\files\\weights_files\\3.2 neck\\v8s_P2p_2221_gc-c3g_40.onnx' (23.1 MB)\n",
      "\n",
      "Export complete (1.6s)\n",
      "Results saved to \u001b[1mC:\\Users\\Ino\\Desktop\\NextChip\\Minions_git\\files\\weights_files\\3.2 neck\u001b[0m\n",
      "Predict:         yolo predict task=detect model=..\\files\\weights_files\\3.2 neck\\v8s_P2p_2221_gc-c3g_40.onnx imgsz=384,640 int8 \n",
      "Validate:        yolo val task=detect model=..\\files\\weights_files\\3.2 neck\\v8s_P2p_2221_gc-c3g_40.onnx imgsz=384,640 data=/content/Minions/colab/cfg/colab_tv.yaml int8 WARNING  non-PyTorch val requires square images, 'imgsz=[384, 640]' will not work. Use export 'imgsz=640' if val is required.\n",
      "Visualize:       https://netron.app\n",
      "3.2 neck에 v8s_P2_2221_D232_tv은 이미 잇성 히히\n",
      "3.2 neck에 v8s_P2_2221_D342_tv은 이미 잇성 히히\n",
      "3.2 neck에 v8s_P2_2221_N gc c3g_D0_tv은 이미 잇성 히히\n",
      "3.2 neck에 v8s_P2_2221_N gc c3g_D1_tv은 이미 잇성 히히\n",
      "Ultralytics 8.3.35  Python-3.11.8 torch-2.5.0+cpu CPU (13th Gen Intel Core(TM) i3-1315U)\n",
      "v8s_P2_3222_gc-c3g_45 summary (fused): 297 layers, 8,578,068 parameters, 0 gradients, 25.6 GFLOPs\n",
      "\n",
      "\u001b[34m\u001b[1mPyTorch:\u001b[0m starting from '..\\files\\weights_files\\3.2 neck\\v8s_P2_3222_gc-c3g_45.pt' with input shape (1, 3, 384, 640) BCHW and output shape(s) (1, 10, 5040) (16.7 MB)\n",
      "\n",
      "\u001b[34m\u001b[1mONNX:\u001b[0m starting export with onnx 1.13.0 opset 17...\n",
      "\u001b[34m\u001b[1mONNX:\u001b[0m export success  1.0s, saved as '..\\files\\weights_files\\3.2 neck\\v8s_P2_3222_gc-c3g_45.onnx' (32.9 MB)\n",
      "\n",
      "Export complete (1.6s)\n",
      "Results saved to \u001b[1mC:\\Users\\Ino\\Desktop\\NextChip\\Minions_git\\files\\weights_files\\3.2 neck\u001b[0m\n",
      "Predict:         yolo predict task=detect model=..\\files\\weights_files\\3.2 neck\\v8s_P2_3222_gc-c3g_45.onnx imgsz=384,640 int8 \n",
      "Validate:        yolo val task=detect model=..\\files\\weights_files\\3.2 neck\\v8s_P2_3222_gc-c3g_45.onnx imgsz=384,640 data=/content/Minions/colab/cfg/colab_tv.yaml int8 WARNING  non-PyTorch val requires square images, 'imgsz=[384, 640]' will not work. Use export 'imgsz=640' if val is required.\n",
      "Visualize:       https://netron.app\n",
      "Ultralytics 8.3.35  Python-3.11.8 torch-2.5.0+cpu CPU (13th Gen Intel Core(TM) i3-1315U)\n",
      "v8s_P2_3222_gc-c3g_50 summary (fused): 297 layers, 10,211,626 parameters, 0 gradients, 28.8 GFLOPs\n",
      "\n",
      "\u001b[34m\u001b[1mPyTorch:\u001b[0m starting from '..\\files\\weights_files\\3.2 neck\\v8s_P2_3222_gc-c3g_50.pt' with input shape (1, 3, 384, 640) BCHW and output shape(s) (1, 10, 5040) (19.8 MB)\n",
      "\n",
      "\u001b[34m\u001b[1mONNX:\u001b[0m starting export with onnx 1.13.0 opset 17...\n",
      "\u001b[34m\u001b[1mONNX:\u001b[0m export success  1.0s, saved as '..\\files\\weights_files\\3.2 neck\\v8s_P2_3222_gc-c3g_50.onnx' (39.1 MB)\n",
      "\n",
      "Export complete (1.5s)\n",
      "Results saved to \u001b[1mC:\\Users\\Ino\\Desktop\\NextChip\\Minions_git\\files\\weights_files\\3.2 neck\u001b[0m\n",
      "Predict:         yolo predict task=detect model=..\\files\\weights_files\\3.2 neck\\v8s_P2_3222_gc-c3g_50.onnx imgsz=384,640 int8 \n",
      "Validate:        yolo val task=detect model=..\\files\\weights_files\\3.2 neck\\v8s_P2_3222_gc-c3g_50.onnx imgsz=384,640 data=/content/Minions/colab/cfg/colab_tv.yaml int8 WARNING  non-PyTorch val requires square images, 'imgsz=[384, 640]' will not work. Use export 'imgsz=640' if val is required.\n",
      "Visualize:       https://netron.app\n",
      "Ultralytics 8.3.35  Python-3.11.8 torch-2.5.0+cpu CPU (13th Gen Intel Core(TM) i3-1315U)\n",
      "v8s_P2_3322_gc-c3g_45 summary (fused): 302 layers, 10,293,674 parameters, 0 gradients, 29.8 GFLOPs\n",
      "\n",
      "\u001b[34m\u001b[1mPyTorch:\u001b[0m starting from '..\\files\\weights_files\\3.2 neck\\v8s_P2_3322_gc-c3g_45.pt' with input shape (1, 3, 384, 640) BCHW and output shape(s) (1, 10, 5040) (20.0 MB)\n",
      "\n",
      "\u001b[34m\u001b[1mONNX:\u001b[0m starting export with onnx 1.13.0 opset 17...\n",
      "\u001b[34m\u001b[1mONNX:\u001b[0m export success  1.1s, saved as '..\\files\\weights_files\\3.2 neck\\v8s_P2_3322_gc-c3g_45.onnx' (39.4 MB)\n",
      "\n",
      "Export complete (1.7s)\n",
      "Results saved to \u001b[1mC:\\Users\\Ino\\Desktop\\NextChip\\Minions_git\\files\\weights_files\\3.2 neck\u001b[0m\n",
      "Predict:         yolo predict task=detect model=..\\files\\weights_files\\3.2 neck\\v8s_P2_3322_gc-c3g_45.onnx imgsz=384,640 int8 \n",
      "Validate:        yolo val task=detect model=..\\files\\weights_files\\3.2 neck\\v8s_P2_3322_gc-c3g_45.onnx imgsz=384,640 data=/content/Minions/colab/cfg/colab_tv.yaml int8 WARNING  non-PyTorch val requires square images, 'imgsz=[384, 640]' will not work. Use export 'imgsz=640' if val is required.\n",
      "Visualize:       https://netron.app\n",
      "Ultralytics 8.3.35  Python-3.11.8 torch-2.5.0+cpu CPU (13th Gen Intel Core(TM) i3-1315U)\n",
      "v8s_P2_3322_lt summary (fused): 200 layers, 12,693,730 parameters, 0 gradients, 34.3 GFLOPs\n",
      "\n",
      "\u001b[34m\u001b[1mPyTorch:\u001b[0m starting from '..\\files\\weights_files\\3.2 neck\\v8s_P2_3322_lt.pt' with input shape (1, 3, 384, 640) BCHW and output shape(s) (1, 10, 5040) (24.5 MB)\n",
      "\n",
      "\u001b[34m\u001b[1mONNX:\u001b[0m starting export with onnx 1.13.0 opset 17...\n",
      "\u001b[34m\u001b[1mONNX:\u001b[0m export success  0.9s, saved as '..\\files\\weights_files\\3.2 neck\\v8s_P2_3322_lt.onnx' (48.6 MB)\n",
      "\n",
      "Export complete (1.4s)\n",
      "Results saved to \u001b[1mC:\\Users\\Ino\\Desktop\\NextChip\\Minions_git\\files\\weights_files\\3.2 neck\u001b[0m\n",
      "Predict:         yolo predict task=detect model=..\\files\\weights_files\\3.2 neck\\v8s_P2_3322_lt.onnx imgsz=384,640 int8 \n",
      "Validate:        yolo val task=detect model=..\\files\\weights_files\\3.2 neck\\v8s_P2_3322_lt.onnx imgsz=384,640 data=/content/Minions/colab/cfg/colab_tv.yaml int8 WARNING  non-PyTorch val requires square images, 'imgsz=[384, 640]' will not work. Use export 'imgsz=640' if val is required.\n",
      "Visualize:       https://netron.app\n",
      "Ultralytics 8.3.35  Python-3.11.8 torch-2.5.0+cpu CPU (13th Gen Intel Core(TM) i3-1315U)\n",
      "v8s_P2_3322_lt_gc-c3g summary (fused): 271 layers, 10,264,898 parameters, 0 gradients, 28.8 GFLOPs\n",
      "\n",
      "\u001b[34m\u001b[1mPyTorch:\u001b[0m starting from '..\\files\\weights_files\\3.2 neck\\v8s_P2_3322_lt_gc-c3g.pt' with input shape (1, 3, 384, 640) BCHW and output shape(s) (1, 10, 5040) (19.9 MB)\n",
      "\n",
      "\u001b[34m\u001b[1mONNX:\u001b[0m starting export with onnx 1.13.0 opset 17...\n",
      "\u001b[34m\u001b[1mONNX:\u001b[0m export success  1.0s, saved as '..\\files\\weights_files\\3.2 neck\\v8s_P2_3322_lt_gc-c3g.onnx' (39.3 MB)\n",
      "\n",
      "Export complete (1.4s)\n",
      "Results saved to \u001b[1mC:\\Users\\Ino\\Desktop\\NextChip\\Minions_git\\files\\weights_files\\3.2 neck\u001b[0m\n",
      "Predict:         yolo predict task=detect model=..\\files\\weights_files\\3.2 neck\\v8s_P2_3322_lt_gc-c3g.onnx imgsz=384,640 int8 \n",
      "Validate:        yolo val task=detect model=..\\files\\weights_files\\3.2 neck\\v8s_P2_3322_lt_gc-c3g.onnx imgsz=384,640 data=/content/Minions/colab/cfg/colab_tv.yaml int8 WARNING  non-PyTorch val requires square images, 'imgsz=[384, 640]' will not work. Use export 'imgsz=640' if val is required.\n",
      "Visualize:       https://netron.app\n",
      "3.2 neck에 v8s_P2_lotto_tv은 이미 잇성 히히\n"
     ]
    }
   ],
   "source": [
    "method_onnx.onnx_all_by_dir('3.2 neck')"
   ]
  },
  {
   "cell_type": "code",
   "execution_count": 3,
   "metadata": {},
   "outputs": [],
   "source": [
    "# method_onnx.onnx_allll(re_exp= False)"
   ]
  }
 ],
 "metadata": {
  "kernelspec": {
   "display_name": "onnx",
   "language": "python",
   "name": "python3"
  },
  "language_info": {
   "codemirror_mode": {
    "name": "ipython",
    "version": 3
   },
   "file_extension": ".py",
   "mimetype": "text/x-python",
   "name": "python",
   "nbconvert_exporter": "python",
   "pygments_lexer": "ipython3",
   "version": "3.11.8"
  }
 },
 "nbformat": 4,
 "nbformat_minor": 2
}
