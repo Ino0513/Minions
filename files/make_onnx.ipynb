{
 "cells": [
  {
   "cell_type": "code",
   "execution_count": 1,
   "metadata": {},
   "outputs": [],
   "source": [
    "import method_onnx"
   ]
  },
  {
   "cell_type": "code",
   "execution_count": null,
   "metadata": {},
   "outputs": [
    {
     "name": "stdout",
     "output_type": "stream",
     "text": [
      "Ultralytics 8.3.35  Python-3.11.8 torch-2.5.0+cpu CPU (13th Gen Intel Core(TM) i3-1315U)\n",
      "v5n_c2f_tv summary (fused): 195 layers, 2,748,594 parameters, 0 gradients, 7.3 GFLOPs\n",
      "\n",
      "\u001b[34m\u001b[1mPyTorch:\u001b[0m starting from '..\\files\\weights_files\\1.1 v5n vs v8n\\v5n_c2f_tv.pt' with input shape (1, 3, 384, 640) BCHW and output shape(s) (1, 10, 5040) (5.5 MB)\n",
      "\n",
      "\u001b[34m\u001b[1mONNX:\u001b[0m starting export with onnx 1.13.0 opset 17...\n",
      "\u001b[34m\u001b[1mONNX:\u001b[0m slimming with onnxslim 0.1.34...\n",
      "\u001b[34m\u001b[1mONNX:\u001b[0m simplifier failure: type object 'TensorProto' has no attribute 'FLOAT8E4M3FN'\n",
      "\u001b[34m\u001b[1mONNX:\u001b[0m export success  1.0s, saved as '..\\files\\weights_files\\1.1 v5n vs v8n\\v5n_c2f_tv.onnx' (10.6 MB)\n",
      "\n",
      "Export complete (1.3s)\n",
      "Results saved to \u001b[1mC:\\Users\\Ino\\Desktop\\NextChip\\Minions_git\\files\\weights_files\\1.1 v5n vs v8n\u001b[0m\n",
      "Predict:         yolo predict task=detect model=..\\files\\weights_files\\1.1 v5n vs v8n\\v5n_c2f_tv.onnx imgsz=384,640  \n",
      "Validate:        yolo val task=detect model=..\\files\\weights_files\\1.1 v5n vs v8n\\v5n_c2f_tv.onnx imgsz=384,640 data=C:\\Users\\ihman\\Desktop\\NextChip\\dataset\\nextchip_tv.yaml  WARNING  non-PyTorch val requires square images, 'imgsz=[384, 640]' will not work. Use export 'imgsz=640' if val is required.\n",
      "Visualize:       https://netron.app\n"
     ]
    }
   ],
   "source": [
    "method_onnx.make_onnx('1.1 v5n vs v8n', 'v8n_c3_tv')"
   ]
  }
 ],
 "metadata": {
  "kernelspec": {
   "display_name": "onnx",
   "language": "python",
   "name": "python3"
  },
  "language_info": {
   "codemirror_mode": {
    "name": "ipython",
    "version": 3
   },
   "file_extension": ".py",
   "mimetype": "text/x-python",
   "name": "python",
   "nbconvert_exporter": "python",
   "pygments_lexer": "ipython3",
   "version": "3.11.8"
  }
 },
 "nbformat": 4,
 "nbformat_minor": 2
}
