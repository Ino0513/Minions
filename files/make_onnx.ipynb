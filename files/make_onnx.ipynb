{
 "cells": [
  {
   "cell_type": "code",
   "execution_count": 1,
   "metadata": {},
   "outputs": [],
   "source": [
    "import method_onnx\n",
    "import os"
   ]
  },
  {
   "cell_type": "code",
   "execution_count": null,
   "metadata": {},
   "outputs": [
    {
     "name": "stdout",
     "output_type": "stream",
     "text": [
      "Ultralytics 8.3.35  Python-3.11.8 torch-2.5.0+cpu CPU (13th Gen Intel Core(TM) i3-1315U)\n",
      "v8s_P2_2221_tv summary (fused): 200 layers, 11,345,698 parameters, 0 gradients, 33.4 GFLOPs\n",
      "\n",
      "\u001b[34m\u001b[1mPyTorch:\u001b[0m starting from '..\\files\\weights_files\\test\\2221_50ep.pt' with input shape (1, 3, 384, 640) BCHW and output shape(s) (1, 10, 5040) (43.7 MB)\n",
      "\n",
      "\u001b[34m\u001b[1mONNX:\u001b[0m starting export with onnx 1.13.0 opset 17...\n",
      "\u001b[34m\u001b[1mONNX:\u001b[0m export success  2.7s, saved as '..\\files\\weights_files\\test\\2221_50ep.onnx' (43.4 MB)\n",
      "\n",
      "Export complete (4.2s)\n",
      "Results saved to \u001b[1mC:\\Users\\Ino\\Desktop\\NextChip\\Minions_git\\files\\weights_files\\test\u001b[0m\n",
      "Predict:         yolo predict task=detect model=..\\files\\weights_files\\test\\2221_50ep.onnx imgsz=384,640 int8 \n",
      "Validate:        yolo val task=detect model=..\\files\\weights_files\\test\\2221_50ep.onnx imgsz=384,640 data=/content/Minions/colab/cfg/colab_tv.yaml int8 WARNING  non-PyTorch val requires square images, 'imgsz=[384, 640]' will not work. Use export 'imgsz=640' if val is required.\n",
      "Visualize:       https://netron.app\n",
      "Ultralytics 8.3.35  Python-3.11.8 torch-2.5.0+cpu CPU (13th Gen Intel Core(TM) i3-1315U)\n",
      "v8s_P2_2221_N gc c3g_D0_tv summary (fused): 287 layers, 8,879,850 parameters, 0 gradients, 26.7 GFLOPs\n",
      "\n",
      "\u001b[34m\u001b[1mPyTorch:\u001b[0m starting from '..\\files\\weights_files\\test\\ak48_100.pt' with input shape (1, 3, 384, 640) BCHW and output shape(s) (1, 10, 5040) (17.3 MB)\n",
      "\n",
      "\u001b[34m\u001b[1mONNX:\u001b[0m starting export with onnx 1.13.0 opset 17...\n",
      "\u001b[34m\u001b[1mONNX:\u001b[0m export success  1.8s, saved as '..\\files\\weights_files\\test\\ak48_100.onnx' (34.0 MB)\n",
      "\n",
      "Export complete (2.8s)\n",
      "Results saved to \u001b[1mC:\\Users\\Ino\\Desktop\\NextChip\\Minions_git\\files\\weights_files\\test\u001b[0m\n",
      "Predict:         yolo predict task=detect model=..\\files\\weights_files\\test\\ak48_100.onnx imgsz=384,640 int8 \n",
      "Validate:        yolo val task=detect model=..\\files\\weights_files\\test\\ak48_100.onnx imgsz=384,640 data=/content/Minions/colab/cfg/colab_tv.yaml int8 WARNING  non-PyTorch val requires square images, 'imgsz=[384, 640]' will not work. Use export 'imgsz=640' if val is required.\n",
      "Visualize:       https://netron.app\n",
      "Ultralytics 8.3.35  Python-3.11.8 torch-2.5.0+cpu CPU (13th Gen Intel Core(TM) i3-1315U)\n",
      "v8s_P2_2221_N gc c3g_D0_tv summary (fused): 287 layers, 8,879,850 parameters, 0 gradients, 26.7 GFLOPs\n",
      "\n",
      "\u001b[34m\u001b[1mPyTorch:\u001b[0m starting from '..\\files\\weights_files\\test\\ak48_50.pt' with input shape (1, 3, 384, 640) BCHW and output shape(s) (1, 10, 5040) (34.3 MB)\n",
      "\n",
      "\u001b[34m\u001b[1mONNX:\u001b[0m starting export with onnx 1.13.0 opset 17...\n",
      "\u001b[34m\u001b[1mONNX:\u001b[0m export success  1.9s, saved as '..\\files\\weights_files\\test\\ak48_50.onnx' (34.0 MB)\n",
      "\n",
      "Export complete (2.8s)\n",
      "Results saved to \u001b[1mC:\\Users\\Ino\\Desktop\\NextChip\\Minions_git\\files\\weights_files\\test\u001b[0m\n",
      "Predict:         yolo predict task=detect model=..\\files\\weights_files\\test\\ak48_50.onnx imgsz=384,640 int8 \n",
      "Validate:        yolo val task=detect model=..\\files\\weights_files\\test\\ak48_50.onnx imgsz=384,640 data=/content/Minions/colab/cfg/colab_tv.yaml int8 WARNING  non-PyTorch val requires square images, 'imgsz=[384, 640]' will not work. Use export 'imgsz=640' if val is required.\n",
      "Visualize:       https://netron.app\n",
      "Ultralytics 8.3.35  Python-3.11.8 torch-2.5.0+cpu CPU (13th Gen Intel Core(TM) i3-1315U)\n",
      "v8s_P2_2221_N gc c3g_D0_tv summary (fused): 287 layers, 8,879,850 parameters, 0 gradients, 26.7 GFLOPs\n",
      "\n",
      "\u001b[34m\u001b[1mPyTorch:\u001b[0m starting from '..\\files\\weights_files\\test\\ak48_60.pt' with input shape (1, 3, 384, 640) BCHW and output shape(s) (1, 10, 5040) (34.3 MB)\n",
      "\n",
      "\u001b[34m\u001b[1mONNX:\u001b[0m starting export with onnx 1.13.0 opset 17...\n",
      "\u001b[34m\u001b[1mONNX:\u001b[0m export success  2.0s, saved as '..\\files\\weights_files\\test\\ak48_60.onnx' (34.0 MB)\n",
      "\n",
      "Export complete (3.1s)\n",
      "Results saved to \u001b[1mC:\\Users\\Ino\\Desktop\\NextChip\\Minions_git\\files\\weights_files\\test\u001b[0m\n",
      "Predict:         yolo predict task=detect model=..\\files\\weights_files\\test\\ak48_60.onnx imgsz=384,640 int8 \n",
      "Validate:        yolo val task=detect model=..\\files\\weights_files\\test\\ak48_60.onnx imgsz=384,640 data=/content/Minions/colab/cfg/colab_tv.yaml int8 WARNING  non-PyTorch val requires square images, 'imgsz=[384, 640]' will not work. Use export 'imgsz=640' if val is required.\n",
      "Visualize:       https://netron.app\n",
      "Ultralytics 8.3.35  Python-3.11.8 torch-2.5.0+cpu CPU (13th Gen Intel Core(TM) i3-1315U)\n",
      "v8s_P2_2221_N gc c3g_D0_tv summary (fused): 287 layers, 8,879,850 parameters, 0 gradients, 26.7 GFLOPs\n",
      "\n",
      "\u001b[34m\u001b[1mPyTorch:\u001b[0m starting from '..\\files\\weights_files\\test\\ak48_70.pt' with input shape (1, 3, 384, 640) BCHW and output shape(s) (1, 10, 5040) (34.3 MB)\n",
      "\n",
      "\u001b[34m\u001b[1mONNX:\u001b[0m starting export with onnx 1.13.0 opset 17...\n",
      "\u001b[34m\u001b[1mONNX:\u001b[0m export success  2.2s, saved as '..\\files\\weights_files\\test\\ak48_70.onnx' (34.0 MB)\n",
      "\n",
      "Export complete (3.1s)\n",
      "Results saved to \u001b[1mC:\\Users\\Ino\\Desktop\\NextChip\\Minions_git\\files\\weights_files\\test\u001b[0m\n",
      "Predict:         yolo predict task=detect model=..\\files\\weights_files\\test\\ak48_70.onnx imgsz=384,640 int8 \n",
      "Validate:        yolo val task=detect model=..\\files\\weights_files\\test\\ak48_70.onnx imgsz=384,640 data=/content/Minions/colab/cfg/colab_tv.yaml int8 WARNING  non-PyTorch val requires square images, 'imgsz=[384, 640]' will not work. Use export 'imgsz=640' if val is required.\n",
      "Visualize:       https://netron.app\n",
      "Ultralytics 8.3.35  Python-3.11.8 torch-2.5.0+cpu CPU (13th Gen Intel Core(TM) i3-1315U)\n",
      "v8s_P2_2221_N gc c3g_D0_tv summary (fused): 287 layers, 8,879,850 parameters, 0 gradients, 26.7 GFLOPs\n",
      "\n",
      "\u001b[34m\u001b[1mPyTorch:\u001b[0m starting from '..\\files\\weights_files\\test\\ak48_80.pt' with input shape (1, 3, 384, 640) BCHW and output shape(s) (1, 10, 5040) (34.3 MB)\n",
      "\n",
      "\u001b[34m\u001b[1mONNX:\u001b[0m starting export with onnx 1.13.0 opset 17...\n",
      "\u001b[34m\u001b[1mONNX:\u001b[0m export success  2.0s, saved as '..\\files\\weights_files\\test\\ak48_80.onnx' (34.0 MB)\n",
      "\n",
      "Export complete (3.0s)\n",
      "Results saved to \u001b[1mC:\\Users\\Ino\\Desktop\\NextChip\\Minions_git\\files\\weights_files\\test\u001b[0m\n",
      "Predict:         yolo predict task=detect model=..\\files\\weights_files\\test\\ak48_80.onnx imgsz=384,640 int8 \n",
      "Validate:        yolo val task=detect model=..\\files\\weights_files\\test\\ak48_80.onnx imgsz=384,640 data=/content/Minions/colab/cfg/colab_tv.yaml int8 WARNING  non-PyTorch val requires square images, 'imgsz=[384, 640]' will not work. Use export 'imgsz=640' if val is required.\n",
      "Visualize:       https://netron.app\n",
      "Ultralytics 8.3.35  Python-3.11.8 torch-2.5.0+cpu CPU (13th Gen Intel Core(TM) i3-1315U)\n",
      "v8s_P2_2221_N gc c3g_D0_tv summary (fused): 287 layers, 8,879,850 parameters, 0 gradients, 26.7 GFLOPs\n",
      "\n",
      "\u001b[34m\u001b[1mPyTorch:\u001b[0m starting from '..\\files\\weights_files\\test\\ak48_90.pt' with input shape (1, 3, 384, 640) BCHW and output shape(s) (1, 10, 5040) (34.3 MB)\n",
      "\n",
      "\u001b[34m\u001b[1mONNX:\u001b[0m starting export with onnx 1.13.0 opset 17...\n",
      "\u001b[34m\u001b[1mONNX:\u001b[0m export success  1.8s, saved as '..\\files\\weights_files\\test\\ak48_90.onnx' (34.0 MB)\n",
      "\n",
      "Export complete (2.5s)\n",
      "Results saved to \u001b[1mC:\\Users\\Ino\\Desktop\\NextChip\\Minions_git\\files\\weights_files\\test\u001b[0m\n",
      "Predict:         yolo predict task=detect model=..\\files\\weights_files\\test\\ak48_90.onnx imgsz=384,640 int8 \n",
      "Validate:        yolo val task=detect model=..\\files\\weights_files\\test\\ak48_90.onnx imgsz=384,640 data=/content/Minions/colab/cfg/colab_tv.yaml int8 WARNING  non-PyTorch val requires square images, 'imgsz=[384, 640]' will not work. Use export 'imgsz=640' if val is required.\n",
      "Visualize:       https://netron.app\n"
     ]
    }
   ],
   "source": [
    "method_onnx.onnx_all_by_dir('test')"
   ]
  },
  {
   "cell_type": "code",
   "execution_count": 3,
   "metadata": {},
   "outputs": [],
   "source": [
    "# method_onnx.onnx_allll(re_exp= False)"
   ]
  }
 ],
 "metadata": {
  "kernelspec": {
   "display_name": "onnx",
   "language": "python",
   "name": "python3"
  },
  "language_info": {
   "codemirror_mode": {
    "name": "ipython",
    "version": 3
   },
   "file_extension": ".py",
   "mimetype": "text/x-python",
   "name": "python",
   "nbconvert_exporter": "python",
   "pygments_lexer": "ipython3",
   "version": "3.11.8"
  }
 },
 "nbformat": 4,
 "nbformat_minor": 2
}
